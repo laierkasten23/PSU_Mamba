{
 "cells": [
  {
   "cell_type": "markdown",
   "metadata": {},
   "source": [
    "https://github.com/Project-MONAI/tutorials/blob/main/auto3dseg/notebooks/auto_runner.ipynb"
   ]
  },
  {
   "cell_type": "code",
   "execution_count": 1,
   "metadata": {},
   "outputs": [
    {
     "name": "stdout",
     "output_type": "stream",
     "text": [
      "1.3.0\n"
     ]
    }
   ],
   "source": [
    "import monai\n",
    "print(monai.__version__)"
   ]
  },
  {
   "cell_type": "code",
   "execution_count": 2,
   "metadata": {},
   "outputs": [],
   "source": [
    "import torch \n",
    "torch.cuda.empty_cache()\n",
    "\n",
    "import torch\n",
    "import gc\n",
    "\n",
    "gc.collect()\n",
    "torch.cuda.empty_cache()\n"
   ]
  },
  {
   "cell_type": "code",
   "execution_count": 3,
   "metadata": {},
   "outputs": [],
   "source": [
    "import os\n",
    "import nibabel as nib\n",
    "import numpy as np\n",
    "import json\n",
    "\n",
    "from monai.apps.auto3dseg import AutoRunner, export_bundle_algo_history, import_bundle_algo_history\n",
    "from monai.utils.enums import AlgoKeys\n",
    "from monai.auto3dseg import algo_to_pickle\n",
    "from monai.config import print_config\n",
    "from monai.bundle.config_parser import ConfigParser"
   ]
  },
  {
   "cell_type": "code",
   "execution_count": 4,
   "metadata": {},
   "outputs": [],
   "source": [
    "json_path = \"/var/data/student_home/lia/phuse_thesis_2024/02_monai_segmentation/monai_training/JSON_dir/train.json\"\n",
    "json_train_val_path = \"/var/data/student_home/lia/phuse_thesis_2024/02_monai_segmentation/monai_training/JSON_dir/train_val.json\"\n",
    "json_train_val_path = \"C:/Users/lia/Documents/Lia_Masterthesis\\phuse_thesis_2024\\02_monai_segmentation\\monai_training\\JSON_dir_experiments\\JSON_dir\\dataset_train_val.json\"\n",
    "json_train_val_path = \"/home/linuxlia/Lia_Masterthesis/phuse_thesis_2024/02_monai_segmentation/monai_training/working_directory_0509/JSON_dir/dataset_train_val.json\"\n",
    "json_train_val_path = \"/home/linuxlia/Lia_Masterthesis/phuse_thesis_2024/02_monai_segmentation/monai_training/working_directory_0606/JSON_dir/dataset_train_val.json\"\n",
    "json_train_val_path = \"/home/linuxlia/Lia_Masterthesis/phuse_thesis_2024/02_monai_segmentation/monai_training/working_directory_0606/JSON_dir/dataset_train_val.json\"\n",
    "json_train_val_path = \"/home/linuxlia/Lia_Masterthesis/phuse_thesis_2024/02_monai_segmentation/monai_training/working_directory_0807/dataset_train_val_pred.json\"\n",
    "\n",
    "work_dir = os.path.join(\"/var/data/student_home/lia/phuse_thesis_2024/02_monai_segmentation/monai_training\", 'working_dir_training_from_scratch_0327') \n",
    "work_dir = os.path.join(\"/var/data/student_home/lia/phuse_thesis_2024/02_monai_segmentation/monai_training\", 'working_dir_training_from_scratch_0429') \n",
    "dataroot = \"/var/data/MONAI_Choroid_Plexus/dataset_monai_train_from_scratch\"\n",
    "\n",
    "work_dir = os.path.join('C:/Users/lia/Documents/Lia_Masterthesis/phuse_thesis_2024/monai_segmentation/monai_training', 'working_dir_training_from_scratch_0507')\n",
    "dataroot = \"C:/Users/lia/Documents/Lia_Masterthesis/data/dataset_aschoplex\"\n",
    "\n",
    "work_dir = os.path.join(\"/home/linuxlia/Lia_Masterthesis/phuse_thesis_2024/monai_segmentation/monai_training\", 'working_directory_0509')\n",
    "dataroot = \"/home/linuxlia/Lia_Masterthesis/data/dataset_aschoplex\"\n",
    "\n",
    "work_dir = os.path.join(\"/home/linuxlia/Lia_Masterthesis/phuse_thesis_2024/02_monai_segmentation/monai_training\", 'working_directory_0807')\n",
    "dataroot = \"/home/linuxlia/Lia_Masterthesis/data/Dataset001_ChoroidPlexus_T1_sym_AP\"\n",
    "\n",
    "#work_dir = os.path.join(\"/home/linuxlia/Lia_Masterthesis/phuse_thesis_2024/01_aschoplex_from_scratch\", 'working_directory_0807')\n",
    "#dataroot = \"/home/linuxlia/Lia_Masterthesis/data/Dataset001_ChoroidPlexus_T1_sym_AP\""
   ]
  },
  {
   "cell_type": "markdown",
   "metadata": {},
   "source": [
    "## Make sure the folder of the working directory exists!!"
   ]
  },
  {
   "cell_type": "code",
   "execution_count": 8,
   "metadata": {},
   "outputs": [],
   "source": [
    "os.makedirs(work_dir, exist_ok=True)"
   ]
  },
  {
   "cell_type": "code",
   "execution_count": 5,
   "metadata": {},
   "outputs": [],
   "source": [
    "data_src = {\n",
    "    \"modality\": \"MRI\",\n",
    "    \"datalist\": json_train_val_path, #datalist, # give path to json file, it is not necessary to already read the json file\n",
    "    \"dataroot\": dataroot,\n",
    "}\n",
    "\n",
    "data_src_cfg = os.path.join(work_dir, \"data_src_cfg.yaml\")\n",
    "ConfigParser.export_config_file(data_src, data_src_cfg)"
   ]
  },
  {
   "cell_type": "markdown",
   "metadata": {},
   "source": [
    "## Run the Auto3DSeg pipeline in a few lines of code"
   ]
  },
  {
   "cell_type": "code",
   "execution_count": 6,
   "metadata": {},
   "outputs": [
    {
     "name": "stdout",
     "output_type": "stream",
     "text": [
      "2024-07-09 11:54:19,461 - INFO - AutoRunner using work directory /home/linuxlia/Lia_Masterthesis/phuse_thesis_2024/02_monai_segmentation/monai_training/working_directory_0807\n",
      "2024-07-09 11:54:19,464 - INFO - Loading input config /home/linuxlia/Lia_Masterthesis/phuse_thesis_2024/02_monai_segmentation/monai_training/working_directory_0807/data_src_cfg.yaml\n",
      "2024-07-09 11:54:19,469 - INFO - Setting num_fold 4 based on the input datalist /home/linuxlia/Lia_Masterthesis/phuse_thesis_2024/02_monai_segmentation/monai_training/working_directory_0807/dataset_train_val_pred.json.\n",
      "LIA: self.train =  None\n",
      "2024-07-09 11:54:19,534 - INFO - Using user defined command running prefix , will override other settings\n",
      "2024-07-09 11:54:19,536 - INFO - Running data analysis...\n",
      "2024-07-09 11:54:19,539 - INFO - Found 1 GPUs for data analyzing!\n"
     ]
    },
    {
     "name": "stderr",
     "output_type": "stream",
     "text": [
      "/home/linuxlia/envs/monai13/lib/python3.9/site-packages/monai/apps/auto3dseg/data_analyzer.py:132: UserWarning: File /home/linuxlia/Lia_Masterthesis/phuse_thesis_2024/02_monai_segmentation/monai_training/working_directory_0807/datastats.yaml already exists and will be overwritten.\n",
      "  warnings.warn(f\"File {output_path} already exists and will be overwritten.\")\n",
      "100%|██████████| 77/77 [00:23<00:00,  3.30it/s]"
     ]
    },
    {
     "name": "stdout",
     "output_type": "stream",
     "text": [
      "2024-07-09 11:54:43,531 - INFO - Data spacing is not completely uniform. MONAI transforms may provide unexpected result\n"
     ]
    },
    {
     "name": "stderr",
     "output_type": "stream",
     "text": [
      "\n"
     ]
    },
    {
     "name": "stdout",
     "output_type": "stream",
     "text": [
      "2024-07-09 11:54:43,533 - INFO - Writing data stats to /home/linuxlia/Lia_Masterthesis/phuse_thesis_2024/02_monai_segmentation/monai_training/working_directory_0807/datastats.yaml.\n",
      "2024-07-09 11:54:43,568 - INFO - Writing by-case data stats to /home/linuxlia/Lia_Masterthesis/phuse_thesis_2024/02_monai_segmentation/monai_training/working_directory_0807/datastats_by_case.yaml, this may take a while.\n",
      "LIA: BundleGen __init__\n",
      "2024-07-09 11:54:43,874 - INFO - BundleGen from directory /home/linuxlia/Lia_Masterthesis/phuse_thesis_2024/02_monai_segmentation/DNN_models/algorithm_templates_yaml/\n",
      "2024-07-09 11:54:43,902 - INFO - Copying template: DynUnet_128_Dice_2 -- {'_target_': 'DynUnet_128_Dice_2.scripts.algo.Dynunet_128_dice_2Algo', 'template_path': '/home/linuxlia/Lia_Masterthesis/phuse_thesis_2024/02_monai_segmentation/monai_training/working_directory_0807/algorithm_templates'}\n",
      "2024-07-09 11:54:43,902 - INFO - Copying template: SwinUnetr -- {'_target_': 'SwinUnetr.scripts.algo.SwinunetrAlgo', 'template_path': '/home/linuxlia/Lia_Masterthesis/phuse_thesis_2024/02_monai_segmentation/monai_training/working_directory_0807/algorithm_templates'}\n",
      "2024-07-09 11:54:43,903 - INFO - Copying template: UNETR -- {'_target_': 'UNETR.scripts.algo.UnetrAlgo', 'template_path': '/home/linuxlia/Lia_Masterthesis/phuse_thesis_2024/02_monai_segmentation/monai_training/working_directory_0807/algorithm_templates'}\n",
      "2024-07-09 11:54:43,904 - INFO - Copying template: UNET -- {'_target_': 'UNET.scripts.algo.UnetAlgo', 'template_path': '/home/linuxlia/Lia_Masterthesis/phuse_thesis_2024/02_monai_segmentation/monai_training/working_directory_0807/algorithm_templates'}\n",
      "2024-07-09 11:54:43,905 - INFO - Copying template: segresnet -- {'_target_': 'segresnet.scripts.algo.SegresnetAlgo', 'template_path': '/home/linuxlia/Lia_Masterthesis/phuse_thesis_2024/02_monai_segmentation/monai_training/working_directory_0807/algorithm_templates'}\n",
      "2024-07-09 11:54:43,905 - INFO - Copying template: dints -- {'_target_': 'dints.scripts.algo.DintsAlgo', 'template_path': '/home/linuxlia/Lia_Masterthesis/phuse_thesis_2024/02_monai_segmentation/monai_training/working_directory_0807/algorithm_templates'}\n",
      "LIA: algos bundle_gen\n",
      "LIA: algos isinstance(algos, dict) True\n",
      "LIA: algo_name, algo_params   DynUnet_128_Dice_2 {'_target_': 'DynUnet_128_Dice_2.scripts.algo.Dynunet_128_dice_2Algo', 'template_path': '/home/linuxlia/Lia_Masterthesis/phuse_thesis_2024/02_monai_segmentation/monai_training/working_directory_0807/algorithm_templates'}\n",
      "LIA: algos heheh\n"
     ]
    },
    {
     "ename": "RuntimeError",
     "evalue": "Please make sure the folder structure of an Algo Template follows\n                        [algo_name]\n                        ├── configs\n                        │   ├── hyper_parameters.yaml  # automatically generated yaml from a set of ``template_configs``\n                        └── scripts\n                            ├── test.py\n                            ├── __init__.py\n                            └── validate.py\n                    ",
     "output_type": "error",
     "traceback": [
      "\u001b[0;31m---------------------------------------------------------------------------\u001b[0m",
      "\u001b[0;31mModuleNotFoundError\u001b[0m                       Traceback (most recent call last)",
      "File \u001b[0;32m~/envs/monai13/lib/python3.9/site-packages/monai/bundle/config_item.py:293\u001b[0m, in \u001b[0;36mConfigComponent.instantiate\u001b[0;34m(self, **kwargs)\u001b[0m\n\u001b[1;32m    292\u001b[0m \u001b[38;5;28;01mtry\u001b[39;00m:\n\u001b[0;32m--> 293\u001b[0m     \u001b[38;5;28;01mreturn\u001b[39;00m \u001b[43minstantiate\u001b[49m\u001b[43m(\u001b[49m\u001b[43mmodname\u001b[49m\u001b[43m,\u001b[49m\u001b[43m \u001b[49m\u001b[43mmode\u001b[49m\u001b[43m,\u001b[49m\u001b[43m \u001b[49m\u001b[38;5;241;43m*\u001b[39;49m\u001b[38;5;241;43m*\u001b[39;49m\u001b[43margs\u001b[49m\u001b[43m)\u001b[49m\n\u001b[1;32m    294\u001b[0m \u001b[38;5;28;01mexcept\u001b[39;00m \u001b[38;5;167;01mException\u001b[39;00m \u001b[38;5;28;01mas\u001b[39;00m e:\n",
      "File \u001b[0;32m~/envs/monai13/lib/python3.9/site-packages/monai/utils/module.py:248\u001b[0m, in \u001b[0;36minstantiate\u001b[0;34m(__path, __mode, **kwargs)\u001b[0m\n\u001b[1;32m    247\u001b[0m \u001b[38;5;28;01mif\u001b[39;00m component \u001b[38;5;129;01mis\u001b[39;00m \u001b[38;5;28;01mNone\u001b[39;00m:\n\u001b[0;32m--> 248\u001b[0m     \u001b[38;5;28;01mraise\u001b[39;00m \u001b[38;5;167;01mModuleNotFoundError\u001b[39;00m(\u001b[38;5;124mf\u001b[39m\u001b[38;5;124m\"\u001b[39m\u001b[38;5;124mCannot locate class or function path: \u001b[39m\u001b[38;5;124m'\u001b[39m\u001b[38;5;132;01m{\u001b[39;00m__path\u001b[38;5;132;01m}\u001b[39;00m\u001b[38;5;124m'\u001b[39m\u001b[38;5;124m.\u001b[39m\u001b[38;5;124m\"\u001b[39m)\n\u001b[1;32m    249\u001b[0m m \u001b[38;5;241m=\u001b[39m look_up_option(__mode, CompInitMode)\n",
      "\u001b[0;31mModuleNotFoundError\u001b[0m: Cannot locate class or function path: 'DynUnet_128_Dice_2.scripts.algo.Dynunet_128_dice_2Algo'.",
      "\nThe above exception was the direct cause of the following exception:\n",
      "\u001b[0;31mRuntimeError\u001b[0m                              Traceback (most recent call last)",
      "File \u001b[0;32m~/envs/monai13/lib/python3.9/site-packages/monai/apps/auto3dseg/bundle_gen.py:485\u001b[0m, in \u001b[0;36mBundleGen.__init__\u001b[0;34m(self, algo_path, algos, templates_path_or_url, data_stats_filename, data_src_cfg_name)\u001b[0m\n\u001b[1;32m    484\u001b[0m \u001b[38;5;28;01mtry\u001b[39;00m:\n\u001b[0;32m--> 485\u001b[0m     onealgo \u001b[38;5;241m=\u001b[39m \u001b[43mConfigParser\u001b[49m\u001b[43m(\u001b[49m\u001b[43malgo_params\u001b[49m\u001b[43m)\u001b[49m\u001b[38;5;241;43m.\u001b[39;49m\u001b[43mget_parsed_content\u001b[49m\u001b[43m(\u001b[49m\u001b[43m)\u001b[49m\n\u001b[1;32m    486\u001b[0m     \u001b[38;5;28mprint\u001b[39m(\u001b[38;5;124m\"\u001b[39m\u001b[38;5;124mLIA: algos dict\u001b[39m\u001b[38;5;124m\"\u001b[39m)\n",
      "File \u001b[0;32m~/envs/monai13/lib/python3.9/site-packages/monai/bundle/config_parser.py:290\u001b[0m, in \u001b[0;36mConfigParser.get_parsed_content\u001b[0;34m(self, id, **kwargs)\u001b[0m\n\u001b[1;32m    289\u001b[0m     \u001b[38;5;28mself\u001b[39m\u001b[38;5;241m.\u001b[39mparse(reset\u001b[38;5;241m=\u001b[39m\u001b[38;5;129;01mnot\u001b[39;00m kwargs\u001b[38;5;241m.\u001b[39mget(\u001b[38;5;124m\"\u001b[39m\u001b[38;5;124mlazy\u001b[39m\u001b[38;5;124m\"\u001b[39m, \u001b[38;5;28;01mTrue\u001b[39;00m))\n\u001b[0;32m--> 290\u001b[0m \u001b[38;5;28;01mreturn\u001b[39;00m \u001b[38;5;28;43mself\u001b[39;49m\u001b[38;5;241;43m.\u001b[39;49m\u001b[43mref_resolver\u001b[49m\u001b[38;5;241;43m.\u001b[39;49m\u001b[43mget_resolved_content\u001b[49m\u001b[43m(\u001b[49m\u001b[38;5;28;43mid\u001b[39;49m\u001b[38;5;241;43m=\u001b[39;49m\u001b[38;5;28;43mid\u001b[39;49m\u001b[43m,\u001b[49m\u001b[43m \u001b[49m\u001b[38;5;241;43m*\u001b[39;49m\u001b[38;5;241;43m*\u001b[39;49m\u001b[43mkwargs\u001b[49m\u001b[43m)\u001b[49m\n",
      "File \u001b[0;32m~/envs/monai13/lib/python3.9/site-packages/monai/bundle/reference_resolver.py:193\u001b[0m, in \u001b[0;36mReferenceResolver.get_resolved_content\u001b[0;34m(self, id, **kwargs)\u001b[0m\n\u001b[1;32m    182\u001b[0m \u001b[38;5;250m\u001b[39m\u001b[38;5;124;03m\"\"\"\u001b[39;00m\n\u001b[1;32m    183\u001b[0m \u001b[38;5;124;03mGet the resolved ``ConfigItem`` by id.\u001b[39;00m\n\u001b[1;32m    184\u001b[0m \n\u001b[0;32m   (...)\u001b[0m\n\u001b[1;32m    191\u001b[0m \n\u001b[1;32m    192\u001b[0m \u001b[38;5;124;03m\"\"\"\u001b[39;00m\n\u001b[0;32m--> 193\u001b[0m \u001b[38;5;28;01mreturn\u001b[39;00m \u001b[38;5;28;43mself\u001b[39;49m\u001b[38;5;241;43m.\u001b[39;49m\u001b[43m_resolve_one_item\u001b[49m\u001b[43m(\u001b[49m\u001b[38;5;28;43mid\u001b[39;49m\u001b[38;5;241;43m=\u001b[39;49m\u001b[38;5;28;43mid\u001b[39;49m\u001b[43m,\u001b[49m\u001b[43m \u001b[49m\u001b[38;5;241;43m*\u001b[39;49m\u001b[38;5;241;43m*\u001b[39;49m\u001b[43mkwargs\u001b[49m\u001b[43m)\u001b[49m\n",
      "File \u001b[0;32m~/envs/monai13/lib/python3.9/site-packages/monai/bundle/reference_resolver.py:171\u001b[0m, in \u001b[0;36mReferenceResolver._resolve_one_item\u001b[0;34m(self, id, waiting_list, **kwargs)\u001b[0m\n\u001b[1;32m    170\u001b[0m \u001b[38;5;28;01mif\u001b[39;00m \u001b[38;5;28misinstance\u001b[39m(item, ConfigComponent):\n\u001b[0;32m--> 171\u001b[0m     \u001b[38;5;28mself\u001b[39m\u001b[38;5;241m.\u001b[39mresolved_content[\u001b[38;5;28mid\u001b[39m] \u001b[38;5;241m=\u001b[39m \u001b[43mitem\u001b[49m\u001b[38;5;241;43m.\u001b[39;49m\u001b[43minstantiate\u001b[49m\u001b[43m(\u001b[49m\u001b[43m)\u001b[49m \u001b[38;5;28;01mif\u001b[39;00m kwargs\u001b[38;5;241m.\u001b[39mget(\u001b[38;5;124m\"\u001b[39m\u001b[38;5;124minstantiate\u001b[39m\u001b[38;5;124m\"\u001b[39m, \u001b[38;5;28;01mTrue\u001b[39;00m) \u001b[38;5;28;01melse\u001b[39;00m item\n\u001b[1;32m    172\u001b[0m \u001b[38;5;28;01melif\u001b[39;00m \u001b[38;5;28misinstance\u001b[39m(item, ConfigExpression):\n",
      "File \u001b[0;32m~/envs/monai13/lib/python3.9/site-packages/monai/bundle/config_item.py:295\u001b[0m, in \u001b[0;36mConfigComponent.instantiate\u001b[0;34m(self, **kwargs)\u001b[0m\n\u001b[1;32m    294\u001b[0m \u001b[38;5;28;01mexcept\u001b[39;00m \u001b[38;5;167;01mException\u001b[39;00m \u001b[38;5;28;01mas\u001b[39;00m e:\n\u001b[0;32m--> 295\u001b[0m     \u001b[38;5;28;01mraise\u001b[39;00m \u001b[38;5;167;01mRuntimeError\u001b[39;00m(\u001b[38;5;124mf\u001b[39m\u001b[38;5;124m\"\u001b[39m\u001b[38;5;124mFailed to instantiate \u001b[39m\u001b[38;5;132;01m{\u001b[39;00m\u001b[38;5;28mself\u001b[39m\u001b[38;5;132;01m}\u001b[39;00m\u001b[38;5;124m\"\u001b[39m) \u001b[38;5;28;01mfrom\u001b[39;00m \u001b[38;5;21;01me\u001b[39;00m\n",
      "\u001b[0;31mRuntimeError\u001b[0m: Failed to instantiate ConfigComponent: \n{'_target_': 'DynUnet_128_Dice_2.scripts.algo.Dynunet_128_dice_2Algo',\n 'template_path': '/home/linuxlia/Lia_Masterthesis/phuse_thesis_2024/02_monai_segmentation/monai_training/working_directory_0807/algorithm_templates'}",
      "\nThe above exception was the direct cause of the following exception:\n",
      "\u001b[0;31mRuntimeError\u001b[0m                              Traceback (most recent call last)",
      "Cell \u001b[0;32mIn[6], line 14\u001b[0m\n\u001b[1;32m     11\u001b[0m \u001b[38;5;66;03m#templates_path_or_url = \"/home/linuxlia/Lia_Masterthesis/phuse_thesis_2024/01_aschoplex_from_scratch/DNN_models/algorithm_templates/\"\u001b[39;00m\n\u001b[1;32m     13\u001b[0m runner \u001b[38;5;241m=\u001b[39m AutoRunner(work_dir\u001b[38;5;241m=\u001b[39mwork_dir, \u001b[38;5;28minput\u001b[39m\u001b[38;5;241m=\u001b[39m\u001b[38;5;28minput\u001b[39m, algos\u001b[38;5;241m=\u001b[39malgos, templates_path_or_url\u001b[38;5;241m=\u001b[39mtemplates_path_or_url)\n\u001b[0;32m---> 14\u001b[0m \u001b[43mrunner\u001b[49m\u001b[38;5;241;43m.\u001b[39;49m\u001b[43mrun\u001b[49m\u001b[43m(\u001b[49m\u001b[43m)\u001b[49m\n\u001b[1;32m     16\u001b[0m \u001b[38;5;66;03m#runner = AutoRunner(input=data_src_cfg, algo_gen=False) \u001b[39;00m\n\u001b[1;32m     17\u001b[0m \u001b[38;5;124;03m''' \u001b[39;00m\n\u001b[1;32m     18\u001b[0m \u001b[38;5;124;03mRunning AutoRunner will perform the following steps:\u001b[39;00m\n\u001b[1;32m     19\u001b[0m \u001b[38;5;124;03m1. Load the data source and the algorithm configuration.\u001b[39;00m\n\u001b[0;32m   (...)\u001b[0m\n\u001b[1;32m     22\u001b[0m \u001b[38;5;124;03m4. Create folders for each algorithm. \u001b[39;00m\n\u001b[1;32m     23\u001b[0m \u001b[38;5;124;03m'''\u001b[39;00m\n",
      "File \u001b[0;32m~/envs/monai13/lib/python3.9/site-packages/monai/apps/auto3dseg/auto_runner.py:762\u001b[0m, in \u001b[0;36mAutoRunner.run\u001b[0;34m(self)\u001b[0m\n\u001b[1;32m    756\u001b[0m \u001b[38;5;28;01mif\u001b[39;00m \u001b[38;5;129;01mnot\u001b[39;00m os\u001b[38;5;241m.\u001b[39mpath\u001b[38;5;241m.\u001b[39misfile(\u001b[38;5;28mself\u001b[39m\u001b[38;5;241m.\u001b[39mdatastats_filename):\n\u001b[1;32m    757\u001b[0m     \u001b[38;5;28;01mraise\u001b[39;00m \u001b[38;5;167;01mValueError\u001b[39;00m(\n\u001b[1;32m    758\u001b[0m         \u001b[38;5;124mf\u001b[39m\u001b[38;5;124m\"\u001b[39m\u001b[38;5;124mCould not find the datastats file \u001b[39m\u001b[38;5;132;01m{\u001b[39;00m\u001b[38;5;28mself\u001b[39m\u001b[38;5;241m.\u001b[39mdatastats_filename\u001b[38;5;132;01m}\u001b[39;00m\u001b[38;5;124m. \u001b[39m\u001b[38;5;124m\"\u001b[39m\n\u001b[1;32m    759\u001b[0m         \u001b[38;5;124m\"\u001b[39m\u001b[38;5;124mPossibly the required data analysis step was not completed.\u001b[39m\u001b[38;5;124m\"\u001b[39m\n\u001b[1;32m    760\u001b[0m     )\n\u001b[0;32m--> 762\u001b[0m bundle_generator \u001b[38;5;241m=\u001b[39m \u001b[43mBundleGen\u001b[49m\u001b[43m(\u001b[49m\n\u001b[1;32m    763\u001b[0m \u001b[43m    \u001b[49m\u001b[43malgos\u001b[49m\u001b[38;5;241;43m=\u001b[39;49m\u001b[38;5;28;43mself\u001b[39;49m\u001b[38;5;241;43m.\u001b[39;49m\u001b[43malgos\u001b[49m\u001b[43m,\u001b[49m\n\u001b[1;32m    764\u001b[0m \u001b[43m    \u001b[49m\u001b[43malgo_path\u001b[49m\u001b[38;5;241;43m=\u001b[39;49m\u001b[38;5;28;43mself\u001b[39;49m\u001b[38;5;241;43m.\u001b[39;49m\u001b[43mwork_dir\u001b[49m\u001b[43m,\u001b[49m\n\u001b[1;32m    765\u001b[0m \u001b[43m    \u001b[49m\u001b[43mtemplates_path_or_url\u001b[49m\u001b[38;5;241;43m=\u001b[39;49m\u001b[38;5;28;43mself\u001b[39;49m\u001b[38;5;241;43m.\u001b[39;49m\u001b[43mtemplates_path_or_url\u001b[49m\u001b[43m,\u001b[49m\n\u001b[1;32m    766\u001b[0m \u001b[43m    \u001b[49m\u001b[43mdata_stats_filename\u001b[49m\u001b[38;5;241;43m=\u001b[39;49m\u001b[38;5;28;43mself\u001b[39;49m\u001b[38;5;241;43m.\u001b[39;49m\u001b[43mdatastats_filename\u001b[49m\u001b[43m,\u001b[49m\n\u001b[1;32m    767\u001b[0m \u001b[43m    \u001b[49m\u001b[43mdata_src_cfg_name\u001b[49m\u001b[38;5;241;43m=\u001b[39;49m\u001b[38;5;28;43mself\u001b[39;49m\u001b[38;5;241;43m.\u001b[39;49m\u001b[43mdata_src_cfg_name\u001b[49m\u001b[43m,\u001b[49m\n\u001b[1;32m    768\u001b[0m \u001b[43m\u001b[49m\u001b[43m)\u001b[49m\n\u001b[1;32m    770\u001b[0m \u001b[38;5;28;01mif\u001b[39;00m \u001b[38;5;28mself\u001b[39m\u001b[38;5;241m.\u001b[39mgpu_customization:\n\u001b[1;32m    771\u001b[0m     bundle_generator\u001b[38;5;241m.\u001b[39mgenerate(\n\u001b[1;32m    772\u001b[0m         \u001b[38;5;28mself\u001b[39m\u001b[38;5;241m.\u001b[39mwork_dir,\n\u001b[1;32m    773\u001b[0m         num_fold\u001b[38;5;241m=\u001b[39m\u001b[38;5;28mself\u001b[39m\u001b[38;5;241m.\u001b[39mnum_fold,\n\u001b[0;32m   (...)\u001b[0m\n\u001b[1;32m    776\u001b[0m         allow_skip\u001b[38;5;241m=\u001b[39m\u001b[38;5;28mself\u001b[39m\u001b[38;5;241m.\u001b[39mallow_skip,\n\u001b[1;32m    777\u001b[0m     )\n",
      "File \u001b[0;32m~/envs/monai13/lib/python3.9/site-packages/monai/apps/auto3dseg/bundle_gen.py:504\u001b[0m, in \u001b[0;36mBundleGen.__init__\u001b[0;34m(self, algo_path, algos, templates_path_or_url, data_stats_filename, data_src_cfg_name)\u001b[0m\n\u001b[1;32m    494\u001b[0m         \u001b[38;5;28;01mexcept\u001b[39;00m \u001b[38;5;167;01mRuntimeError\u001b[39;00m \u001b[38;5;28;01mas\u001b[39;00m e:\n\u001b[1;32m    495\u001b[0m             msg \u001b[38;5;241m=\u001b[39m \u001b[38;5;124m\"\"\"\u001b[39m\u001b[38;5;124mPlease make sure the folder structure of an Algo Template follows\u001b[39m\n\u001b[1;32m    496\u001b[0m \u001b[38;5;124m                [algo_name]\u001b[39m\n\u001b[1;32m    497\u001b[0m \u001b[38;5;124m                ├── configs\u001b[39m\n\u001b[0;32m   (...)\u001b[0m\n\u001b[1;32m    502\u001b[0m \u001b[38;5;124m                    └── validate.py\u001b[39m\n\u001b[1;32m    503\u001b[0m \u001b[38;5;124m            \u001b[39m\u001b[38;5;124m\"\"\"\u001b[39m\n\u001b[0;32m--> 504\u001b[0m             \u001b[38;5;28;01mraise\u001b[39;00m \u001b[38;5;167;01mRuntimeError\u001b[39;00m(msg) \u001b[38;5;28;01mfrom\u001b[39;00m \u001b[38;5;21;01me\u001b[39;00m\n\u001b[1;32m    505\u001b[0m \u001b[38;5;28;01melse\u001b[39;00m:\n\u001b[1;32m    506\u001b[0m     \u001b[38;5;28;01mraise\u001b[39;00m \u001b[38;5;167;01mValueError\u001b[39;00m(\u001b[38;5;124m\"\u001b[39m\u001b[38;5;124mUnexpected error algos is not a dict\u001b[39m\u001b[38;5;124m\"\u001b[39m)\n",
      "\u001b[0;31mRuntimeError\u001b[0m: Please make sure the folder structure of an Algo Template follows\n                        [algo_name]\n                        ├── configs\n                        │   ├── hyper_parameters.yaml  # automatically generated yaml from a set of ``template_configs``\n                        └── scripts\n                            ├── test.py\n                            ├── __init__.py\n                            └── validate.py\n                    "
     ]
    }
   ],
   "source": [
    "work_dir = work_dir\n",
    "input = data_src_cfg\n",
    "#algos = \"UNET\"\n",
    "#algos = \"SwinUnetr\"\n",
    "algos = \"DynUnet_128_Dice_2\"\n",
    "#algos = \"UNETR\"\n",
    "\n",
    "templates_path_or_url = \"C:/Users/lia/Documents/Lia_Masterthesis/phuse_thesis_2024/monai_segmentation/DNN_models/algorithm_templates_yaml/\"\n",
    "#templates_path_or_url = \"/var/data/student_home/lia/phuse_thesis_2024/monai_segmentation/DNN_models/algorithm_templates_yaml/\"\n",
    "templates_path_or_url = \"/home/linuxlia/Lia_Masterthesis/phuse_thesis_2024/02_monai_segmentation/DNN_models/algorithm_templates_yaml/\"\n",
    "#templates_path_or_url = \"/home/linuxlia/Lia_Masterthesis/phuse_thesis_2024/01_aschoplex_from_scratch/DNN_models/algorithm_templates/\"\n",
    "\n",
    "runner = AutoRunner(work_dir=work_dir, input=input, algos=algos, templates_path_or_url=templates_path_or_url)\n",
    "runner.run()\n",
    "\n",
    "#runner = AutoRunner(input=data_src_cfg, algo_gen=False) \n",
    "''' \n",
    "Running AutoRunner will perform the following steps:\n",
    "1. Load the data source and the algorithm configuration.\n",
    "2. Load the data and preprocess it.\n",
    "3. Download the pre-trained model from the url specified in the algorithm configuration.\n",
    "4. Create folders for each algorithm. \n",
    "'''\n",
    "#runner.run()\n",
    "\n",
    "# this also does not work because there are no algorithms in the working directory. This means, we need to create the algorithms first and then run the AutoRunner again. \n",
    "# Therefore, we need to modify the BundleGen and AlgoGen scripts. "
   ]
  },
  {
   "cell_type": "code",
   "execution_count": 6,
   "metadata": {},
   "outputs": [
    {
     "name": "stdout",
     "output_type": "stream",
     "text": [
      "2024-05-09 14:46:54,988 - INFO - AutoRunner using work directory /home/linuxlia/Lia_Masterthesis/phuse_thesis_2024/monai_segmentation/monai_training/working_directory_0509\n",
      "2024-05-09 14:46:54,995 - INFO - Loading input config /home/linuxlia/Lia_Masterthesis/phuse_thesis_2024/monai_segmentation/monai_training/working_directory_0509/data_src_cfg.yaml\n",
      "2024-05-09 14:46:54,998 - INFO - Datalist was copied to work_dir: /home/linuxlia/Lia_Masterthesis/phuse_thesis_2024/monai_segmentation/monai_training/working_directory_0509/dataset_train_val.json\n",
      "2024-05-09 14:46:55,000 - INFO - Setting num_fold 5 based on the input datalist /home/linuxlia/Lia_Masterthesis/phuse_thesis_2024/monai_segmentation/monai_training/working_directory_0509/dataset_train_val.json.\n",
      "2024-05-09 14:46:55,067 - INFO - Using user defined command running prefix , will override other settings\n",
      "2024-05-09 14:46:55,068 - INFO - Running data analysis...\n",
      "2024-05-09 14:46:55,069 - INFO - Found 1 GPUs for data analyzing!\n"
     ]
    },
    {
     "name": "stderr",
     "output_type": "stream",
     "text": [
      "100%|██████████| 8/8 [00:04<00:00,  1.61it/s]"
     ]
    },
    {
     "name": "stdout",
     "output_type": "stream",
     "text": [
      "2024-05-09 14:47:00,481 - INFO - Data spacing is not completely uniform. MONAI transforms may provide unexpected result\n",
      "2024-05-09 14:47:00,482 - INFO - Writing data stats to /home/linuxlia/Lia_Masterthesis/phuse_thesis_2024/monai_segmentation/monai_training/working_directory_0509/datastats.yaml.\n",
      "2024-05-09 14:47:00,492 - INFO - Writing by-case data stats to /home/linuxlia/Lia_Masterthesis/phuse_thesis_2024/monai_segmentation/monai_training/working_directory_0509/datastats_by_case.yaml, this may take a while.\n",
      "2024-05-09 14:47:00,553 - INFO - BundleGen from directory /home/linuxlia/Lia_Masterthesis/phuse_thesis_2024/monai_segmentation/DNN_models/algorithm_templates_yaml/\n",
      "2024-05-09 14:47:00,575 - INFO - Copying template: DynUnet_128_Dice_2 -- {'_target_': 'DynUnet_128_Dice_2.scripts.algo.Dynunet_128_dice_2Algo', 'template_path': '/home/linuxlia/Lia_Masterthesis/phuse_thesis_2024/monai_segmentation/monai_training/working_directory_0509/algorithm_templates'}\n",
      "2024-05-09 14:47:00,577 - INFO - Copying template: SwinUnetr -- {'_target_': 'SwinUnetr.scripts.algo.SwinunetrAlgo', 'template_path': '/home/linuxlia/Lia_Masterthesis/phuse_thesis_2024/monai_segmentation/monai_training/working_directory_0509/algorithm_templates'}\n",
      "2024-05-09 14:47:00,578 - INFO - Copying template: UNETR -- {'_target_': 'UNETR.scripts.algo.UnetrAlgo', 'template_path': '/home/linuxlia/Lia_Masterthesis/phuse_thesis_2024/monai_segmentation/monai_training/working_directory_0509/algorithm_templates'}\n",
      "2024-05-09 14:47:00,578 - INFO - Copying template: UNET -- {'_target_': 'UNET.scripts.algo.UnetAlgo', 'template_path': '/home/linuxlia/Lia_Masterthesis/phuse_thesis_2024/monai_segmentation/monai_training/working_directory_0509/algorithm_templates'}\n",
      "2024-05-09 14:47:00,579 - INFO - Copying template: segresnet -- {'_target_': 'segresnet.scripts.algo.SegresnetAlgo', 'template_path': '/home/linuxlia/Lia_Masterthesis/phuse_thesis_2024/monai_segmentation/monai_training/working_directory_0509/algorithm_templates'}\n",
      "2024-05-09 14:47:00,580 - INFO - Copying template: dints -- {'_target_': 'dints.scripts.algo.DintsAlgo', 'template_path': '/home/linuxlia/Lia_Masterthesis/phuse_thesis_2024/monai_segmentation/monai_training/working_directory_0509/algorithm_templates'}\n"
     ]
    },
    {
     "name": "stderr",
     "output_type": "stream",
     "text": [
      "\n"
     ]
    },
    {
     "name": "stdout",
     "output_type": "stream",
     "text": [
      "---------------------- UnetAlgo ----------------------\n",
      "---------------------- fill_records done ----------------------\n",
      "---------------------- parsed stuff  ----------------------\n",
      "---------------------- parsed stuff  ----------------------\n",
      "---------------------- parsed stuff  ----------------------\n",
      "---------------------- parsed stuff  ----------------------\n",
      "---------------------- parsed stuff  ----------------------\n",
      "2024-05-09 14:47:00,664 - INFO - Generated:/home/linuxlia/Lia_Masterthesis/phuse_thesis_2024/monai_segmentation/monai_training/working_directory_0509/UNET_0\n",
      "---------------------- UnetAlgo ----------------------\n",
      "---------------------- fill_records done ----------------------\n",
      "---------------------- parsed stuff  ----------------------\n",
      "---------------------- parsed stuff  ----------------------\n",
      "---------------------- parsed stuff  ----------------------\n",
      "---------------------- parsed stuff  ----------------------\n",
      "---------------------- parsed stuff  ----------------------\n",
      "2024-05-09 14:47:00,721 - INFO - Generated:/home/linuxlia/Lia_Masterthesis/phuse_thesis_2024/monai_segmentation/monai_training/working_directory_0509/UNET_1\n",
      "---------------------- UnetAlgo ----------------------\n",
      "---------------------- fill_records done ----------------------\n",
      "---------------------- parsed stuff  ----------------------\n",
      "---------------------- parsed stuff  ----------------------\n",
      "---------------------- parsed stuff  ----------------------\n",
      "---------------------- parsed stuff  ----------------------\n",
      "---------------------- parsed stuff  ----------------------\n",
      "2024-05-09 14:47:00,779 - INFO - Generated:/home/linuxlia/Lia_Masterthesis/phuse_thesis_2024/monai_segmentation/monai_training/working_directory_0509/UNET_2\n",
      "---------------------- UnetAlgo ----------------------\n",
      "---------------------- fill_records done ----------------------\n",
      "---------------------- parsed stuff  ----------------------\n",
      "---------------------- parsed stuff  ----------------------\n",
      "---------------------- parsed stuff  ----------------------\n",
      "---------------------- parsed stuff  ----------------------\n",
      "---------------------- parsed stuff  ----------------------\n",
      "2024-05-09 14:47:00,849 - INFO - Generated:/home/linuxlia/Lia_Masterthesis/phuse_thesis_2024/monai_segmentation/monai_training/working_directory_0509/UNET_3\n",
      "---------------------- UnetAlgo ----------------------\n",
      "---------------------- fill_records done ----------------------\n",
      "---------------------- parsed stuff  ----------------------\n",
      "---------------------- parsed stuff  ----------------------\n",
      "---------------------- parsed stuff  ----------------------\n",
      "---------------------- parsed stuff  ----------------------\n",
      "---------------------- parsed stuff  ----------------------\n",
      "2024-05-09 14:47:00,904 - INFO - Generated:/home/linuxlia/Lia_Masterthesis/phuse_thesis_2024/monai_segmentation/monai_training/working_directory_0509/UNET_4\n",
      "2024-05-09 14:47:00,955 - INFO - ['python', '/home/linuxlia/Lia_Masterthesis/phuse_thesis_2024/monai_segmentation/monai_training/working_directory_0509/UNET_0/scripts/train.py', 'run', \"--config_file='/home/linuxlia/Lia_Masterthesis/phuse_thesis_2024/monai_segmentation/monai_training/working_directory_0509/UNET_0/configs/hyper_parameters.yaml,/home/linuxlia/Lia_Masterthesis/phuse_thesis_2024/monai_segmentation/monai_training/working_directory_0509/UNET_0/configs/network.yaml,/home/linuxlia/Lia_Masterthesis/phuse_thesis_2024/monai_segmentation/monai_training/working_directory_0509/UNET_0/configs/transforms_infer.yaml,/home/linuxlia/Lia_Masterthesis/phuse_thesis_2024/monai_segmentation/monai_training/working_directory_0509/UNET_0/configs/transforms_train.yaml,/home/linuxlia/Lia_Masterthesis/phuse_thesis_2024/monai_segmentation/monai_training/working_directory_0509/UNET_0/configs/transforms_validate.yaml'\"]\n",
      "IN MAIN OF PRINT of UNET train.py\n",
      "IN RUN OF PRINT\n",
      "amp True\n",
      "ckpt_path /home/linuxlia/Lia_Masterthesis/phuse_thesis_2024/monai_segmentation/monai_training/working_directory_0509/UNET_0/model\n",
      "data_file_base_dir /home/linuxlia/Lia_Masterthesis/data/dataset_aschoplex\n",
      "data_list_file_path /home/linuxlia/Lia_Masterthesis/phuse_thesis_2024/monai_segmentation/monai_training/working_directory_0509/dataset_train_val.json\n",
      "determ False\n",
      "num_images_per_batch 2\n",
      "num_iterations 20000\n",
      "patch_size_valid [128, 128, 128]\n",
      "PARSING SUCCESSFUL!\n",
      "[info] number of GPUs: 1\n",
      "[info] world_size: 1\n",
      "train_files: 8\n",
      "val_files: 2\n",
      "num_epochs 5000\n",
      "num_epochs_per_validation 125\n",
      "[info] training from scratch\n",
      "[info] amp enabled\n",
      "----------\n",
      "epoch 1/5000\n",
      "learning rate is set to 0.0001\n"
     ]
    },
    {
     "name": "stderr",
     "output_type": "stream",
     "text": [
      "/home/linuxlia/envs/monai13/lib/python3.9/site-packages/torch/autograd/graph.py:744: UserWarning: Plan failed with a cudnnException: CUDNN_BACKEND_EXECUTION_PLAN_DESCRIPTOR: cudnnFinalize Descriptor Failed cudnn_status: CUDNN_STATUS_NOT_SUPPORTED (Triggered internally at ../aten/src/ATen/native/cudnn/Conv_v8.cpp:919.)\n",
      "  return Variable._execution_engine.run_backward(  # Calls into the C++ engine to run the backward pass\n"
     ]
    },
    {
     "name": "stdout",
     "output_type": "stream",
     "text": [
      "[2024-05-09 14:47:07] 1/4, train_loss: 1.3439\n",
      "[2024-05-09 14:47:07] 2/4, train_loss: 1.3369\n",
      "[2024-05-09 14:47:07] 3/4, train_loss: 1.3226\n",
      "[2024-05-09 14:47:07] 4/4, train_loss: 1.3194\n",
      "epoch 1 average loss: 1.3307, best mean dice: -1.0000 at epoch -1\n",
      "----------\n",
      "epoch 2/5000\n",
      "learning rate is set to 0.0001\n",
      "[2024-05-09 14:47:09] 1/4, train_loss: 1.3125\n",
      "[2024-05-09 14:47:09] 2/4, train_loss: 1.2959\n",
      "[2024-05-09 14:47:10] 3/4, train_loss: 1.2913\n",
      "[2024-05-09 14:47:10] 4/4, train_loss: 1.2861\n",
      "epoch 2 average loss: 1.2964, best mean dice: -1.0000 at epoch -1\n",
      "----------\n",
      "epoch 3/5000\n",
      "learning rate is set to 0.0001\n",
      "[2024-05-09 14:47:12] 1/4, train_loss: 1.2781\n",
      "[2024-05-09 14:47:12] 2/4, train_loss: 1.2703\n",
      "[2024-05-09 14:47:12] 3/4, train_loss: 1.2588\n",
      "[2024-05-09 14:47:12] 4/4, train_loss: 1.2573\n",
      "epoch 3 average loss: 1.2662, best mean dice: -1.0000 at epoch -1\n",
      "----------\n",
      "epoch 4/5000\n",
      "learning rate is set to 0.0001\n",
      "[2024-05-09 14:47:14] 1/4, train_loss: 1.2498\n",
      "[2024-05-09 14:47:14] 2/4, train_loss: 1.2398\n",
      "[2024-05-09 14:47:15] 3/4, train_loss: 1.2355\n",
      "[2024-05-09 14:47:15] 4/4, train_loss: 1.2294\n",
      "epoch 4 average loss: 1.2386, best mean dice: -1.0000 at epoch -1\n",
      "----------\n",
      "epoch 5/5000\n",
      "learning rate is set to 0.0001\n",
      "[2024-05-09 14:47:17] 1/4, train_loss: 1.2231\n",
      "[2024-05-09 14:47:17] 2/4, train_loss: 1.2159\n",
      "[2024-05-09 14:47:18] 3/4, train_loss: 1.2114\n",
      "[2024-05-09 14:47:18] 4/4, train_loss: 1.2051\n",
      "epoch 5 average loss: 1.2139, best mean dice: -1.0000 at epoch -1\n",
      "----------\n",
      "epoch 6/5000\n",
      "learning rate is set to 0.0001\n",
      "[2024-05-09 14:47:20] 1/4, train_loss: 1.1942\n",
      "[2024-05-09 14:47:20] 2/4, train_loss: 1.1935\n"
     ]
    },
    {
     "ename": "KeyboardInterrupt",
     "evalue": "",
     "output_type": "error",
     "traceback": [
      "\u001b[0;31m---------------------------------------------------------------------------\u001b[0m",
      "\u001b[0;31mKeyboardInterrupt\u001b[0m                         Traceback (most recent call last)",
      "Cell \u001b[0;32mIn[6], line 11\u001b[0m\n\u001b[1;32m      8\u001b[0m templates_path_or_url \u001b[38;5;241m=\u001b[39m \u001b[38;5;124m\"\u001b[39m\u001b[38;5;124m/home/linuxlia/Lia_Masterthesis/phuse_thesis_2024/monai_segmentation/DNN_models/algorithm_templates_yaml/\u001b[39m\u001b[38;5;124m\"\u001b[39m\n\u001b[1;32m     10\u001b[0m runner \u001b[38;5;241m=\u001b[39m AutoRunner(work_dir\u001b[38;5;241m=\u001b[39mwork_dir, \u001b[38;5;28minput\u001b[39m\u001b[38;5;241m=\u001b[39m\u001b[38;5;28minput\u001b[39m, algos\u001b[38;5;241m=\u001b[39malgos, templates_path_or_url\u001b[38;5;241m=\u001b[39mtemplates_path_or_url)\n\u001b[0;32m---> 11\u001b[0m \u001b[43mrunner\u001b[49m\u001b[38;5;241;43m.\u001b[39;49m\u001b[43mrun\u001b[49m\u001b[43m(\u001b[49m\u001b[43m)\u001b[49m\n",
      "File \u001b[0;32m~/envs/monai13/lib/python3.9/site-packages/monai/apps/auto3dseg/auto_runner.py:806\u001b[0m, in \u001b[0;36mAutoRunner.run\u001b[0;34m(self)\u001b[0m\n\u001b[1;32m    804\u001b[0m \u001b[38;5;28;01mif\u001b[39;00m \u001b[38;5;28mlen\u001b[39m(history) \u001b[38;5;241m>\u001b[39m \u001b[38;5;241m0\u001b[39m:\n\u001b[1;32m    805\u001b[0m     \u001b[38;5;28;01mif\u001b[39;00m \u001b[38;5;129;01mnot\u001b[39;00m \u001b[38;5;28mself\u001b[39m\u001b[38;5;241m.\u001b[39mhpo:\n\u001b[0;32m--> 806\u001b[0m         \u001b[38;5;28;43mself\u001b[39;49m\u001b[38;5;241;43m.\u001b[39;49m\u001b[43m_train_algo_in_sequence\u001b[49m\u001b[43m(\u001b[49m\u001b[43mhistory\u001b[49m\u001b[43m)\u001b[49m\n\u001b[1;32m    807\u001b[0m     \u001b[38;5;28;01melse\u001b[39;00m:\n\u001b[1;32m    808\u001b[0m         \u001b[38;5;28mself\u001b[39m\u001b[38;5;241m.\u001b[39m_train_algo_in_nni(history)\n",
      "File \u001b[0;32m~/envs/monai13/lib/python3.9/site-packages/monai/apps/auto3dseg/auto_runner.py:658\u001b[0m, in \u001b[0;36mAutoRunner._train_algo_in_sequence\u001b[0;34m(self, history)\u001b[0m\n\u001b[1;32m    656\u001b[0m algo \u001b[38;5;241m=\u001b[39m algo_dict[AlgoKeys\u001b[38;5;241m.\u001b[39mALGO]\n\u001b[1;32m    657\u001b[0m \u001b[38;5;28;01mif\u001b[39;00m has_option(algo\u001b[38;5;241m.\u001b[39mtrain, \u001b[38;5;124m\"\u001b[39m\u001b[38;5;124mdevice_setting\u001b[39m\u001b[38;5;124m\"\u001b[39m):\n\u001b[0;32m--> 658\u001b[0m     \u001b[43malgo\u001b[49m\u001b[38;5;241;43m.\u001b[39;49m\u001b[43mtrain\u001b[49m\u001b[43m(\u001b[49m\u001b[38;5;28;43mself\u001b[39;49m\u001b[38;5;241;43m.\u001b[39;49m\u001b[43mtrain_params\u001b[49m\u001b[43m,\u001b[49m\u001b[43m \u001b[49m\u001b[38;5;28;43mself\u001b[39;49m\u001b[38;5;241;43m.\u001b[39;49m\u001b[43mdevice_setting\u001b[49m\u001b[43m)\u001b[49m\n\u001b[1;32m    659\u001b[0m \u001b[38;5;28;01melse\u001b[39;00m:\n\u001b[1;32m    660\u001b[0m     algo\u001b[38;5;241m.\u001b[39mtrain(\u001b[38;5;28mself\u001b[39m\u001b[38;5;241m.\u001b[39mtrain_params)\n",
      "File \u001b[0;32m~/envs/monai13/lib/python3.9/site-packages/monai/apps/auto3dseg/bundle_gen.py:278\u001b[0m, in \u001b[0;36mBundleAlgo.train\u001b[0;34m(self, train_params, device_setting)\u001b[0m\n\u001b[1;32m    275\u001b[0m     train_params\u001b[38;5;241m.\u001b[39mpop(\u001b[38;5;124m\"\u001b[39m\u001b[38;5;124mCUDA_VISIBLE_DEVICES\u001b[39m\u001b[38;5;124m\"\u001b[39m)\n\u001b[1;32m    277\u001b[0m cmd, _unused_return \u001b[38;5;241m=\u001b[39m \u001b[38;5;28mself\u001b[39m\u001b[38;5;241m.\u001b[39m_create_cmd(train_params)\n\u001b[0;32m--> 278\u001b[0m \u001b[38;5;28;01mreturn\u001b[39;00m \u001b[38;5;28;43mself\u001b[39;49m\u001b[38;5;241;43m.\u001b[39;49m\u001b[43m_run_cmd\u001b[49m\u001b[43m(\u001b[49m\u001b[43mcmd\u001b[49m\u001b[43m)\u001b[49m\n",
      "File \u001b[0;32m~/envs/monai13/lib/python3.9/site-packages/monai/apps/auto3dseg/bundle_gen.py:255\u001b[0m, in \u001b[0;36mBundleAlgo._run_cmd\u001b[0;34m(self, cmd, devices_info)\u001b[0m\n\u001b[1;32m    251\u001b[0m     \u001b[38;5;28;01mreturn\u001b[39;00m _run_cmd_torchrun(\n\u001b[1;32m    252\u001b[0m         cmd, nnodes\u001b[38;5;241m=\u001b[39m\u001b[38;5;241m1\u001b[39m, nproc_per_node\u001b[38;5;241m=\u001b[39m\u001b[38;5;28mself\u001b[39m\u001b[38;5;241m.\u001b[39mdevice_setting[\u001b[38;5;124m\"\u001b[39m\u001b[38;5;124mn_devices\u001b[39m\u001b[38;5;124m\"\u001b[39m], env\u001b[38;5;241m=\u001b[39mps_environ, check\u001b[38;5;241m=\u001b[39m\u001b[38;5;28;01mTrue\u001b[39;00m\n\u001b[1;32m    253\u001b[0m     )\n\u001b[1;32m    254\u001b[0m \u001b[38;5;28;01melse\u001b[39;00m:\n\u001b[0;32m--> 255\u001b[0m     \u001b[38;5;28;01mreturn\u001b[39;00m \u001b[43mrun_cmd\u001b[49m\u001b[43m(\u001b[49m\u001b[43mcmd\u001b[49m\u001b[38;5;241;43m.\u001b[39;49m\u001b[43msplit\u001b[49m\u001b[43m(\u001b[49m\u001b[43m)\u001b[49m\u001b[43m,\u001b[49m\u001b[43m \u001b[49m\u001b[43mrun_cmd_verbose\u001b[49m\u001b[38;5;241;43m=\u001b[39;49m\u001b[38;5;28;43;01mTrue\u001b[39;49;00m\u001b[43m,\u001b[49m\u001b[43m \u001b[49m\u001b[43menv\u001b[49m\u001b[38;5;241;43m=\u001b[39;49m\u001b[43mps_environ\u001b[49m\u001b[43m,\u001b[49m\u001b[43m \u001b[49m\u001b[43mcheck\u001b[49m\u001b[38;5;241;43m=\u001b[39;49m\u001b[38;5;28;43;01mTrue\u001b[39;49;00m\u001b[43m)\u001b[49m\n",
      "File \u001b[0;32m~/envs/monai13/lib/python3.9/site-packages/monai/utils/misc.py:874\u001b[0m, in \u001b[0;36mrun_cmd\u001b[0;34m(cmd_list, **kwargs)\u001b[0m\n\u001b[1;32m    872\u001b[0m     monai\u001b[38;5;241m.\u001b[39mapps\u001b[38;5;241m.\u001b[39mutils\u001b[38;5;241m.\u001b[39mget_logger(\u001b[38;5;124m\"\u001b[39m\u001b[38;5;124mrun_cmd\u001b[39m\u001b[38;5;124m\"\u001b[39m)\u001b[38;5;241m.\u001b[39minfo(\u001b[38;5;124mf\u001b[39m\u001b[38;5;124m\"\u001b[39m\u001b[38;5;132;01m{\u001b[39;00mcmd_list\u001b[38;5;132;01m}\u001b[39;00m\u001b[38;5;124m\"\u001b[39m)\n\u001b[1;32m    873\u001b[0m \u001b[38;5;28;01mtry\u001b[39;00m:\n\u001b[0;32m--> 874\u001b[0m     \u001b[38;5;28;01mreturn\u001b[39;00m \u001b[43msubprocess\u001b[49m\u001b[38;5;241;43m.\u001b[39;49m\u001b[43mrun\u001b[49m\u001b[43m(\u001b[49m\u001b[43mcmd_list\u001b[49m\u001b[43m,\u001b[49m\u001b[43m \u001b[49m\u001b[38;5;241;43m*\u001b[39;49m\u001b[38;5;241;43m*\u001b[39;49m\u001b[43mkwargs\u001b[49m\u001b[43m)\u001b[49m\n\u001b[1;32m    875\u001b[0m \u001b[38;5;28;01mexcept\u001b[39;00m subprocess\u001b[38;5;241m.\u001b[39mCalledProcessError \u001b[38;5;28;01mas\u001b[39;00m e:\n\u001b[1;32m    876\u001b[0m     \u001b[38;5;28;01mif\u001b[39;00m \u001b[38;5;129;01mnot\u001b[39;00m debug:\n",
      "File \u001b[0;32m/usr/lib/python3.9/subprocess.py:507\u001b[0m, in \u001b[0;36mrun\u001b[0;34m(input, capture_output, timeout, check, *popenargs, **kwargs)\u001b[0m\n\u001b[1;32m    505\u001b[0m \u001b[38;5;28;01mwith\u001b[39;00m Popen(\u001b[38;5;241m*\u001b[39mpopenargs, \u001b[38;5;241m*\u001b[39m\u001b[38;5;241m*\u001b[39mkwargs) \u001b[38;5;28;01mas\u001b[39;00m process:\n\u001b[1;32m    506\u001b[0m     \u001b[38;5;28;01mtry\u001b[39;00m:\n\u001b[0;32m--> 507\u001b[0m         stdout, stderr \u001b[38;5;241m=\u001b[39m \u001b[43mprocess\u001b[49m\u001b[38;5;241;43m.\u001b[39;49m\u001b[43mcommunicate\u001b[49m\u001b[43m(\u001b[49m\u001b[38;5;28;43minput\u001b[39;49m\u001b[43m,\u001b[49m\u001b[43m \u001b[49m\u001b[43mtimeout\u001b[49m\u001b[38;5;241;43m=\u001b[39;49m\u001b[43mtimeout\u001b[49m\u001b[43m)\u001b[49m\n\u001b[1;32m    508\u001b[0m     \u001b[38;5;28;01mexcept\u001b[39;00m TimeoutExpired \u001b[38;5;28;01mas\u001b[39;00m exc:\n\u001b[1;32m    509\u001b[0m         process\u001b[38;5;241m.\u001b[39mkill()\n",
      "File \u001b[0;32m/usr/lib/python3.9/subprocess.py:1126\u001b[0m, in \u001b[0;36mPopen.communicate\u001b[0;34m(self, input, timeout)\u001b[0m\n\u001b[1;32m   1124\u001b[0m         stderr \u001b[38;5;241m=\u001b[39m \u001b[38;5;28mself\u001b[39m\u001b[38;5;241m.\u001b[39mstderr\u001b[38;5;241m.\u001b[39mread()\n\u001b[1;32m   1125\u001b[0m         \u001b[38;5;28mself\u001b[39m\u001b[38;5;241m.\u001b[39mstderr\u001b[38;5;241m.\u001b[39mclose()\n\u001b[0;32m-> 1126\u001b[0m     \u001b[38;5;28;43mself\u001b[39;49m\u001b[38;5;241;43m.\u001b[39;49m\u001b[43mwait\u001b[49m\u001b[43m(\u001b[49m\u001b[43m)\u001b[49m\n\u001b[1;32m   1127\u001b[0m \u001b[38;5;28;01melse\u001b[39;00m:\n\u001b[1;32m   1128\u001b[0m     \u001b[38;5;28;01mif\u001b[39;00m timeout \u001b[38;5;129;01mis\u001b[39;00m \u001b[38;5;129;01mnot\u001b[39;00m \u001b[38;5;28;01mNone\u001b[39;00m:\n",
      "File \u001b[0;32m/usr/lib/python3.9/subprocess.py:1189\u001b[0m, in \u001b[0;36mPopen.wait\u001b[0;34m(self, timeout)\u001b[0m\n\u001b[1;32m   1187\u001b[0m     endtime \u001b[38;5;241m=\u001b[39m _time() \u001b[38;5;241m+\u001b[39m timeout\n\u001b[1;32m   1188\u001b[0m \u001b[38;5;28;01mtry\u001b[39;00m:\n\u001b[0;32m-> 1189\u001b[0m     \u001b[38;5;28;01mreturn\u001b[39;00m \u001b[38;5;28;43mself\u001b[39;49m\u001b[38;5;241;43m.\u001b[39;49m\u001b[43m_wait\u001b[49m\u001b[43m(\u001b[49m\u001b[43mtimeout\u001b[49m\u001b[38;5;241;43m=\u001b[39;49m\u001b[43mtimeout\u001b[49m\u001b[43m)\u001b[49m\n\u001b[1;32m   1190\u001b[0m \u001b[38;5;28;01mexcept\u001b[39;00m \u001b[38;5;167;01mKeyboardInterrupt\u001b[39;00m:\n\u001b[1;32m   1191\u001b[0m     \u001b[38;5;66;03m# https://bugs.python.org/issue25942\u001b[39;00m\n\u001b[1;32m   1192\u001b[0m     \u001b[38;5;66;03m# The first keyboard interrupt waits briefly for the child to\u001b[39;00m\n\u001b[1;32m   1193\u001b[0m     \u001b[38;5;66;03m# exit under the common assumption that it also received the ^C\u001b[39;00m\n\u001b[1;32m   1194\u001b[0m     \u001b[38;5;66;03m# generated SIGINT and will exit rapidly.\u001b[39;00m\n\u001b[1;32m   1195\u001b[0m     \u001b[38;5;28;01mif\u001b[39;00m timeout \u001b[38;5;129;01mis\u001b[39;00m \u001b[38;5;129;01mnot\u001b[39;00m \u001b[38;5;28;01mNone\u001b[39;00m:\n",
      "File \u001b[0;32m/usr/lib/python3.9/subprocess.py:1933\u001b[0m, in \u001b[0;36mPopen._wait\u001b[0;34m(self, timeout)\u001b[0m\n\u001b[1;32m   1931\u001b[0m \u001b[38;5;28;01mif\u001b[39;00m \u001b[38;5;28mself\u001b[39m\u001b[38;5;241m.\u001b[39mreturncode \u001b[38;5;129;01mis\u001b[39;00m \u001b[38;5;129;01mnot\u001b[39;00m \u001b[38;5;28;01mNone\u001b[39;00m:\n\u001b[1;32m   1932\u001b[0m     \u001b[38;5;28;01mbreak\u001b[39;00m  \u001b[38;5;66;03m# Another thread waited.\u001b[39;00m\n\u001b[0;32m-> 1933\u001b[0m (pid, sts) \u001b[38;5;241m=\u001b[39m \u001b[38;5;28;43mself\u001b[39;49m\u001b[38;5;241;43m.\u001b[39;49m\u001b[43m_try_wait\u001b[49m\u001b[43m(\u001b[49m\u001b[38;5;241;43m0\u001b[39;49m\u001b[43m)\u001b[49m\n\u001b[1;32m   1934\u001b[0m \u001b[38;5;66;03m# Check the pid and loop as waitpid has been known to\u001b[39;00m\n\u001b[1;32m   1935\u001b[0m \u001b[38;5;66;03m# return 0 even without WNOHANG in odd situations.\u001b[39;00m\n\u001b[1;32m   1936\u001b[0m \u001b[38;5;66;03m# http://bugs.python.org/issue14396.\u001b[39;00m\n\u001b[1;32m   1937\u001b[0m \u001b[38;5;28;01mif\u001b[39;00m pid \u001b[38;5;241m==\u001b[39m \u001b[38;5;28mself\u001b[39m\u001b[38;5;241m.\u001b[39mpid:\n",
      "File \u001b[0;32m/usr/lib/python3.9/subprocess.py:1891\u001b[0m, in \u001b[0;36mPopen._try_wait\u001b[0;34m(self, wait_flags)\u001b[0m\n\u001b[1;32m   1889\u001b[0m \u001b[38;5;250m\u001b[39m\u001b[38;5;124;03m\"\"\"All callers to this function MUST hold self._waitpid_lock.\"\"\"\u001b[39;00m\n\u001b[1;32m   1890\u001b[0m \u001b[38;5;28;01mtry\u001b[39;00m:\n\u001b[0;32m-> 1891\u001b[0m     (pid, sts) \u001b[38;5;241m=\u001b[39m \u001b[43mos\u001b[49m\u001b[38;5;241;43m.\u001b[39;49m\u001b[43mwaitpid\u001b[49m\u001b[43m(\u001b[49m\u001b[38;5;28;43mself\u001b[39;49m\u001b[38;5;241;43m.\u001b[39;49m\u001b[43mpid\u001b[49m\u001b[43m,\u001b[49m\u001b[43m \u001b[49m\u001b[43mwait_flags\u001b[49m\u001b[43m)\u001b[49m\n\u001b[1;32m   1892\u001b[0m \u001b[38;5;28;01mexcept\u001b[39;00m \u001b[38;5;167;01mChildProcessError\u001b[39;00m:\n\u001b[1;32m   1893\u001b[0m     \u001b[38;5;66;03m# This happens if SIGCLD is set to be ignored or waiting\u001b[39;00m\n\u001b[1;32m   1894\u001b[0m     \u001b[38;5;66;03m# for child processes has otherwise been disabled for our\u001b[39;00m\n\u001b[1;32m   1895\u001b[0m     \u001b[38;5;66;03m# process.  This child is dead, we can't get the status.\u001b[39;00m\n\u001b[1;32m   1896\u001b[0m     pid \u001b[38;5;241m=\u001b[39m \u001b[38;5;28mself\u001b[39m\u001b[38;5;241m.\u001b[39mpid\n",
      "\u001b[0;31mKeyboardInterrupt\u001b[0m: "
     ]
    }
   ],
   "source": [
    "work_dir = work_dir\n",
    "input = data_src_cfg\n",
    "algos = \"UNET\"\n",
    "#algos = \"SwinUnetr\"\n",
    "#algos = \"UNETR\"\n",
    "templates_path_or_url = \"C:/Users/lia/Documents/Lia_Masterthesis/phuse_thesis_2024/monai_segmentation/DNN_models/algorithm_templates_yaml/\"\n",
    "#templates_path_or_url = \"/var/data/student_home/lia/phuse_thesis_2024/monai_segmentation/DNN_models/algorithm_templates_yaml/\"\n",
    "templates_path_or_url = \"/home/linuxlia/Lia_Masterthesis/phuse_thesis_2024/monai_segmentation/DNN_models/algorithm_templates_yaml/\"\n",
    "\n",
    "runner = AutoRunner(work_dir=work_dir, input=input, algos=algos, templates_path_or_url=templates_path_or_url)\n",
    "runner.run()"
   ]
  },
  {
   "cell_type": "code",
   "execution_count": null,
   "metadata": {},
   "outputs": [],
   "source": []
  }
 ],
 "metadata": {
  "kernelspec": {
   "display_name": "base",
   "language": "python",
   "name": "python3"
  },
  "language_info": {
   "codemirror_mode": {
    "name": "ipython",
    "version": 3
   },
   "file_extension": ".py",
   "mimetype": "text/x-python",
   "name": "python",
   "nbconvert_exporter": "python",
   "pygments_lexer": "ipython3",
   "version": "3.9.19"
  }
 },
 "nbformat": 4,
 "nbformat_minor": 2
}
