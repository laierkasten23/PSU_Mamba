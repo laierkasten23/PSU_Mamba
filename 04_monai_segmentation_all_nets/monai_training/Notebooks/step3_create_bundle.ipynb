{
 "cells": [
  {
   "cell_type": "code",
   "execution_count": 2,
   "metadata": {},
   "outputs": [],
   "source": [
    "from monai.bundle.scripts import init_bundle"
   ]
  },
  {
   "cell_type": "code",
   "execution_count": null,
   "metadata": {},
   "outputs": [],
   "source": [
    "'''\n",
    "Output: folder 'monai_bundle2 (or other name, e.g. UNET)' with the following structure:\n",
    "    monai_bundle2\n",
    "    ├── configs\n",
    "    │   ├── inference.json\n",
    "    │   ├── logging.conf.json\n",
    "    │   ├── train.json\n",
    "    │   └── evaluate.json\n",
    "    ├── docs\n",
    "    │   ├── README.md\n",
    "    │   └── (LICENSE)\n",
    "    ├── models\n",
    "    │   ├── model.pt\n",
    "    │   └── (model_config.json)\n",
    "    └── LICENSE\n",
    "\n",
    "This should be put in the folder DNN_models\n",
    "'''"
   ]
  },
  {
   "cell_type": "code",
   "execution_count": null,
   "metadata": {},
   "outputs": [],
   "source": [
    "'''\n",
    "python -m monai.bundle init_bundle /var/data/student_home/user/project_dir/monai_segmentation/DNN_models/monai_bundle2 --name \"My Bundle\" --description \"This is a test bundle\" \n",
    "\n",
    "'''"
   ]
  },
  {
   "cell_type": "code",
   "execution_count": null,
   "metadata": {},
   "outputs": [],
   "source": [
    "# Try AutoRunner with algo_gen set to off "
   ]
  },
  {
   "cell_type": "code",
   "execution_count": null,
   "metadata": {},
   "outputs": [],
   "source": [
    "''' -> downloads defaut algorithms from zip, so maybe not super useful \n",
    "python -m monai.apps.auto3dseg BundleGen generate --data_stats_filename=\"/var/data/student_home/user/project_dir/monai_segmentation/monai_training/working_dir_training_from_scratch/datastats.yaml\"\n",
    "'''\n"
   ]
  },
  {
   "cell_type": "code",
   "execution_count": null,
   "metadata": {},
   "outputs": [],
   "source": [
    "python -m monai.apps.auto3dseg BundleGen generate --data_stats_filename=\"/var/data/student_home/user/project_dir/monai_segmentation/monai_training/working_dir_training_from_scratch/datastats.yaml\"\n"
   ]
  }
 ],
 "metadata": {
  "kernelspec": {
   "display_name": "base",
   "language": "python",
   "name": "python3"
  },
  "language_info": {
   "codemirror_mode": {
    "name": "ipython",
    "version": 3
   },
   "file_extension": ".py",
   "mimetype": "text/x-python",
   "name": "python",
   "nbconvert_exporter": "python",
   "pygments_lexer": "ipython3",
   "version": "3.10.6"
  }
 },
 "nbformat": 4,
 "nbformat_minor": 2
}
