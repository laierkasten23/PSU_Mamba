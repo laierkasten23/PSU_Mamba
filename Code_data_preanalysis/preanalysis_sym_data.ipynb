{
 "cells": [
  {
   "cell_type": "code",
   "execution_count": 4,
   "id": "69258c59",
   "metadata": {},
   "outputs": [],
   "source": [
    "import os\n",
    "import numpy as np\n",
    "import pandas as pd\n",
    "\n",
    "def bootstrap_with_noise(input_file, n, output_folder, noise_std=0.05, random_state=None):\n",
    "    \"\"\"\n",
    "    Bootstraps a dataset with added Gaussian noise to each column, preserving relationships.\n",
    "    \n",
    "    Args:\n",
    "        input_file (str): Path to the input CSV file.\n",
    "        n (int): Number of rows (patients) in the output dataset.\n",
    "        output_folder (str): Folder to save the new CSV file.\n",
    "        noise_std (float): Standard deviation of the Gaussian noise (relative to column std).\n",
    "        random_state (int or None): Seed for reproducibility.\n",
    "    \"\"\"\n",
    "    np.random.seed(random_state)\n",
    "    df = pd.read_csv(input_file)\n",
    "    orig_n = len(df)\n",
    "    columns = df.columns\n",
    "\n",
    "    # Bootstrap sampling with replacement\n",
    "    sampled_df = df.sample(n=n, replace=True, random_state=random_state).reset_index(drop=True)\n",
    "    \n",
    "    # Add noise to each column (proportional to original std)\n",
    "    noisy_df = sampled_df.copy()\n",
    "    for col in columns:\n",
    "        col_std = df[col].std()\n",
    "        noise = np.random.normal(0, noise_std * col_std, size=n)\n",
    "        noisy_df[col] += noise\n",
    "\n",
    "    # Convert last two columns to integer\n",
    "    if len(columns) >= 2:\n",
    "        noisy_df[columns[-2]] = noisy_df[columns[-2]].round().astype(int)\n",
    "        noisy_df[columns[-1]] = noisy_df[columns[-1]].round().astype(int)\n",
    "\n",
    "    # Ensure output folder exists\n",
    "    os.makedirs(output_folder, exist_ok=True)\n",
    "    base_name = os.path.basename(input_file)\n",
    "    output_file = os.path.join(output_folder, f\"bootstrapped_{n}_{base_name}\")\n",
    "    noisy_df.to_csv(output_file, index=False)\n",
    "    print(f\"Bootstrapped dataset saved to: {output_file}\")\n"
   ]
  },
  {
   "cell_type": "code",
   "execution_count": 5,
   "id": "475d26e1",
   "metadata": {},
   "outputs": [
    {
     "name": "stdout",
     "output_type": "stream",
     "text": [
      "Bootstrapped dataset saved to: /home/studenti/lia/projects/phuse_thesis_2024/PRL/output/bootstrapped_64_PRL_preanalysis_T1mdc_vs_T1.csv\n"
     ]
    }
   ],
   "source": [
    "bootstrap_with_noise(input_file=\"/home/studenti/lia/projects/phuse_thesis_2024/PRL/PRL_preanalysis_T1mdc_vs_T1.csv\",\n",
    "                     n=64,\n",
    "                     output_folder=\"/home/studenti/lia/projects/phuse_thesis_2024/PRL/output\",\n",
    "                     noise_std=0.05,\n",
    "                     random_state=42\n",
    ")"
   ]
  },
  {
   "cell_type": "code",
   "execution_count": 6,
   "id": "18143afa",
   "metadata": {},
   "outputs": [
    {
     "name": "stdout",
     "output_type": "stream",
     "text": [
      "Bootstrapped dataset saved to: /home/studenti/lia/projects/phuse_thesis_2024/PRL/output/bootstrapped_64_PRL_preanalysis_T1mdc_vs_T1xFLAIR.csv\n"
     ]
    }
   ],
   "source": [
    "bootstrap_with_noise(input_file=\"/home/studenti/lia/projects/phuse_thesis_2024/PRL/PRL_preanalysis_T1mdc_vs_T1xFLAIR.csv\",\n",
    "                     n=64,\n",
    "                     output_folder=\"/home/studenti/lia/projects/phuse_thesis_2024/PRL/output\",\n",
    "                     noise_std=0.05,\n",
    "                     random_state=42\n",
    ")"
   ]
  },
  {
   "cell_type": "code",
   "execution_count": 15,
   "id": "547c9753",
   "metadata": {},
   "outputs": [],
   "source": [
    "from scipy.stats import ttest_rel, wilcoxon\n",
    "\n",
    "def compare_scores(file1, file2, output_file):\n",
    "    \"\"\"\n",
    "    Compares scores between two CSV files (patients as rows, scores as columns) using one-sided t-tests and Wilcoxon test.\n",
    "    For scores where lower is better (e.g., containing 'Hausdorff'), tests if file1 < file2.\n",
    "    Otherwise, tests if file1 > file2.\n",
    "    Saves the statistics for each score to an output CSV file.\n",
    "    \"\"\"\n",
    "    df1 = pd.read_csv(file1)\n",
    "    df2 = pd.read_csv(file2)\n",
    "    common_scores = set(df1.columns).intersection(df2.columns)\n",
    "    results = []\n",
    "\n",
    "    for score in common_scores:\n",
    "        data1 = df1[score].dropna()\n",
    "        data2 = df2[score].dropna()\n",
    "        paired_data = pd.concat([data1, data2], axis=1, join='inner').dropna()\n",
    "        if \"Hausdorff\" in score:\n",
    "            alternative = 'less'\n",
    "        else:\n",
    "            alternative = 'greater'\n",
    "        t_stat, t_pval = ttest_rel(paired_data.iloc[:, 0], paired_data.iloc[:, 1], alternative=alternative)\n",
    "        try:\n",
    "            w_stat, w_pval = wilcoxon(paired_data.iloc[:, 0], paired_data.iloc[:, 1], alternative=alternative)\n",
    "        except ValueError:\n",
    "            w_stat, w_pval = float('nan'), float('nan')\n",
    "        results.append({\n",
    "            'score': score,\n",
    "            'mean_file1': data1.mean(),\n",
    "            'mean_file2': data2.mean(),\n",
    "            't_statistic': t_stat,\n",
    "            't_p_value': t_pval,\n",
    "            'wilcoxon_statistic': w_stat,\n",
    "            'wilcoxon_p_value': w_pval,\n",
    "            'n_file1': len(data1),\n",
    "            'n_file2': len(data2)\n",
    "        })\n",
    "\n",
    "    results_df = pd.DataFrame(results)\n",
    "    results_df.to_csv(output_file, index=False)\n",
    "    print(f\"Statistical test results saved to: {output_file}\")\n"
   ]
  },
  {
   "cell_type": "code",
   "execution_count": 16,
   "id": "20b02570",
   "metadata": {},
   "outputs": [
    {
     "name": "stdout",
     "output_type": "stream",
     "text": [
      "Statistical test results saved to: /home/studenti/lia/projects/phuse_thesis_2024/PRL/output/statistical_comparison.csv\n"
     ]
    },
    {
     "name": "stderr",
     "output_type": "stream",
     "text": [
      "/home/studenti/lia/envs/umamba-env/lib/python3.11/site-packages/scipy/stats/_wilcoxon.py:172: RuntimeWarning: invalid value encountered in scalar divide\n",
      "  z = (r_plus - mn) / se\n"
     ]
    }
   ],
   "source": [
    "file_T1mdc_vs_T1 =\"/home/studenti/lia/projects/phuse_thesis_2024/PRL/output/bootstrapped_64_PRL_preanalysis_T1mdc_vs_T1.csv\"\n",
    "file_T1mdc_vs_T1xFLAIR=\"/home/studenti/lia/projects/phuse_thesis_2024/PRL/output/bootstrapped_64_PRL_preanalysis_T1mdc_vs_T1xFLAIR.csv\"\n",
    "output_path = \"/home/studenti/lia/projects/phuse_thesis_2024/PRL/output/statistical_comparison.csv\" \n",
    "compare_scores(file_T1mdc_vs_T1xFLAIR, file_T1mdc_vs_T1, output_path)"
   ]
  },
  {
   "cell_type": "code",
   "execution_count": null,
   "id": "d37f1aa1",
   "metadata": {},
   "outputs": [],
   "source": []
  }
 ],
 "metadata": {
  "kernelspec": {
   "display_name": "umamba-env",
   "language": "python",
   "name": "python3"
  },
  "language_info": {
   "codemirror_mode": {
    "name": "ipython",
    "version": 3
   },
   "file_extension": ".py",
   "mimetype": "text/x-python",
   "name": "python",
   "nbconvert_exporter": "python",
   "pygments_lexer": "ipython3",
   "version": "3.11.12"
  }
 },
 "nbformat": 4,
 "nbformat_minor": 5
}
