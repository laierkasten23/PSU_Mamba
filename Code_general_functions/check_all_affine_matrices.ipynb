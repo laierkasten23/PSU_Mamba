{
 "cells": [
  {
   "cell_type": "code",
   "execution_count": 9,
   "metadata": {},
   "outputs": [
    {
     "name": "stdout",
     "output_type": "stream",
     "text": [
      "Checking subject 022\n",
      "/home/linuxuser/user/data/own_coregistration_240831/022/022_T1.nii --- /home/linuxuser/user/data/own_coregistration_240831/022/022_ChP_mask_FLAIR_manual_seg.nii\n",
      "Checking subject 022\n",
      "/home/linuxuser/user/data/own_coregistration_240831/022/022_T1.nii --- /home/linuxuser/user/data/own_coregistration_240831/022/022_ChP_mask_T1_manual_seg.nii\n",
      "Checking subject 022\n",
      "/home/linuxuser/user/data/own_coregistration_240831/022/022_T1.nii --- /home/linuxuser/user/data/own_coregistration_240831/022/022_ChP_mask_T1xFLAIR_manual_seg.nii\n",
      "Checking subject 022\n",
      "/home/linuxuser/user/data/own_coregistration_240831/022/022_T1.nii --- /home/linuxuser/user/data/own_coregistration_240831/022/022_FLAIR.nii\n",
      "Checking subject 022\n",
      "/home/linuxuser/user/data/own_coregistration_240831/022/022_T1.nii --- /home/linuxuser/user/data/own_coregistration_240831/022/022_T1.nii\n",
      "Checking subject 022\n",
      "/home/linuxuser/user/data/own_coregistration_240831/022/022_T1.nii --- /home/linuxuser/user/data/own_coregistration_240831/022/022_T1xFLAIR.nii\n",
      "Results for _ChP_mask_FLAIR_manual_seg.nii:\n",
      "022: check\n",
      "Results for _ChP_mask_T1_manual_seg.nii:\n",
      "022: check\n",
      "Results for _ChP_mask_T1xFLAIR_manual_seg.nii:\n",
      "022: matrices are not equal\n",
      "Results for _T1.nii:\n",
      "022: check\n",
      "Results for _T1xFLAIR.nii:\n",
      "022: matrices are not equal\n",
      "Results for _FLAIR.nii:\n",
      "022: matrices are not equal\n"
     ]
    }
   ],
   "source": [
    "import os\n",
    "import nibabel as nib\n",
    "import numpy as np\n",
    "\n",
    "def check_affine_matrices(parent_dir):\n",
    "    # List of file suffixes to check\n",
    "    files_to_check = [\n",
    "        \"_ChP_mask_FLAIR_manual_seg.nii\",\n",
    "        \"_ChP_mask_T1_manual_seg.nii\",\n",
    "        \"_ChP_mask_T1xFLAIR_manual_seg.nii\",\n",
    "        \"_T1.nii\",\n",
    "        \"_T1xFLAIR.nii\",\n",
    "        \"_FLAIR.nii\"\n",
    "    ]\n",
    "\n",
    "    # Initialize dictionaries to store results and affine matrices\n",
    "    results = {suffix: [] for suffix in files_to_check}\n",
    "    affine_matrices = {suffix: {} for suffix in files_to_check}\n",
    "    affine_matrices[\"_T1.nii\"] = {}\n",
    "\n",
    "\n",
    "    # Iterate over the directories in the parent directory\n",
    "    for subject_id in sorted(os.listdir(parent_dir)):\n",
    "        subject_dir = os.path.join(parent_dir, subject_id)\n",
    "        \n",
    "        # Load the reference T1.nii file\n",
    "        reference_file = os.path.join(subject_dir, f\"{subject_id}_T1.nii\")\n",
    "        if not os.path.isfile(reference_file):\n",
    "            print(f\"Reference file {reference_file} not found for subject {subject_id}\")\n",
    "            continue\n",
    "        \n",
    "\n",
    "        reference_img = nib.load(reference_file)\n",
    "        reference_affine = reference_img.affine\n",
    "        # Add the reference affine matrix to the dictionary\n",
    "        affine_matrices[\"_T1.nii\"][subject_id] = reference_affine\n",
    "        \n",
    "        # Check the affine matrices of the other files\n",
    "        for file_suffix in sorted(files_to_check):\n",
    "            file_to_check = os.path.join(subject_dir, f\"{subject_id}{file_suffix}\")\n",
    "            print(f\"Checking subject {subject_id}\")\n",
    "            print(reference_file, \"---\", file_to_check)\n",
    "            if not os.path.isfile(file_to_check):\n",
    "                print(f\"File {file_to_check} not found for subject {subject_id}\")\n",
    "                continue\n",
    "            \n",
    "            img_to_check = nib.load(file_to_check)\n",
    "            affine_to_check = img_to_check.affine\n",
    "\n",
    "            affine_matrices[file_suffix][subject_id] = affine_to_check\n",
    "            \n",
    "            \n",
    "            if np.allclose(reference_affine, affine_to_check):\n",
    "                results[file_suffix].append((subject_id, \"check\"))\n",
    "            else:\n",
    "                results[file_suffix].append((subject_id, \"matrices are not equal\"))\n",
    "\n",
    "    # Print the results sorted by subject identifier\n",
    "    for file_suffix, result_list in results.items():\n",
    "        print(f\"Results for {file_suffix}:\")\n",
    "        for subject_id, status in sorted(result_list):\n",
    "            print(f\"{subject_id}: {status}\")\n",
    "            #print(f\"Affine matrix:\\n{affine_matrices[file_suffix][subject_id]}\")\n",
    "\n",
    "    return results, affine_matrices\n",
    "\n",
    "\n",
    "# Example usage\n",
    "parent_directory = '/home/linuxuser/user/data/pazienti_final_tests'\n",
    "parent_directory = '/home/linuxuser/user/data/pazienti_Kopie'\n",
    "parent_directory = '/home/linuxuser/user/data/own_coregistration_240831'\n",
    "results, affine_matrices = check_affine_matrices(parent_directory)"
   ]
  },
  {
   "cell_type": "code",
   "execution_count": 10,
   "metadata": {},
   "outputs": [
    {
     "data": {
      "text/plain": [
       "[('022', 'matrices are not equal')]"
      ]
     },
     "execution_count": 10,
     "metadata": {},
     "output_type": "execute_result"
    }
   ],
   "source": [
    "sorted(results['_ChP_mask_T1xFLAIR_manual_seg.nii'])"
   ]
  },
  {
   "cell_type": "code",
   "execution_count": 60,
   "metadata": {},
   "outputs": [
    {
     "data": {
      "text/plain": [
       "[('001', 'check'),\n",
       " ('002', 'check'),\n",
       " ('003', 'check'),\n",
       " ('004', 'check'),\n",
       " ('005', 'check'),\n",
       " ('006', 'check'),\n",
       " ('007', 'check'),\n",
       " ('008', 'check'),\n",
       " ('009', 'check'),\n",
       " ('010', 'check'),\n",
       " ('011', 'check'),\n",
       " ('012', 'check'),\n",
       " ('013', 'check'),\n",
       " ('014', 'check'),\n",
       " ('015', 'check'),\n",
       " ('016', 'check'),\n",
       " ('017', 'check'),\n",
       " ('018', 'check'),\n",
       " ('019', 'check'),\n",
       " ('020', 'check'),\n",
       " ('021', 'check'),\n",
       " ('022', 'check'),\n",
       " ('023', 'check'),\n",
       " ('024', 'check'),\n",
       " ('025', 'check'),\n",
       " ('026', 'check'),\n",
       " ('027', 'check'),\n",
       " ('028', 'check'),\n",
       " ('029', 'check'),\n",
       " ('030', 'check'),\n",
       " ('031', 'check'),\n",
       " ('032', 'check'),\n",
       " ('033', 'check'),\n",
       " ('034', 'check'),\n",
       " ('035', 'check'),\n",
       " ('036', 'check'),\n",
       " ('037', 'check'),\n",
       " ('038', 'check'),\n",
       " ('039', 'check'),\n",
       " ('040', 'check'),\n",
       " ('041', 'check'),\n",
       " ('042', 'check'),\n",
       " ('043', 'check'),\n",
       " ('044', 'check'),\n",
       " ('045', 'check'),\n",
       " ('046', 'check'),\n",
       " ('047', 'check'),\n",
       " ('048', 'check'),\n",
       " ('049', 'check'),\n",
       " ('050', 'check'),\n",
       " ('051', 'check'),\n",
       " ('052', 'check'),\n",
       " ('053', 'check'),\n",
       " ('054', 'check'),\n",
       " ('055', 'check'),\n",
       " ('056', 'check'),\n",
       " ('057', 'check'),\n",
       " ('058', 'check'),\n",
       " ('059', 'check'),\n",
       " ('060', 'check'),\n",
       " ('061', 'check'),\n",
       " ('062', 'check'),\n",
       " ('063', 'check'),\n",
       " ('064', 'check'),\n",
       " ('065', 'check'),\n",
       " ('066', 'check'),\n",
       " ('067', 'check'),\n",
       " ('068', 'check'),\n",
       " ('069', 'check'),\n",
       " ('070', 'check'),\n",
       " ('071', 'check'),\n",
       " ('072', 'check'),\n",
       " ('073', 'check'),\n",
       " ('074', 'check'),\n",
       " ('075', 'check'),\n",
       " ('076', 'check'),\n",
       " ('077', 'check'),\n",
       " ('078', 'check'),\n",
       " ('079', 'check'),\n",
       " ('080', 'check'),\n",
       " ('081', 'check'),\n",
       " ('082', 'check'),\n",
       " ('083', 'check'),\n",
       " ('084', 'check'),\n",
       " ('085', 'check'),\n",
       " ('086', 'check'),\n",
       " ('087', 'check'),\n",
       " ('088', 'check'),\n",
       " ('089', 'check'),\n",
       " ('090', 'check'),\n",
       " ('091', 'check'),\n",
       " ('092', 'check'),\n",
       " ('093', 'check'),\n",
       " ('094', 'check'),\n",
       " ('095', 'check'),\n",
       " ('096', 'check'),\n",
       " ('097', 'check'),\n",
       " ('098', 'check'),\n",
       " ('099', 'check'),\n",
       " ('100', 'check'),\n",
       " ('101', 'check'),\n",
       " ('102', 'check'),\n",
       " ('103', 'check'),\n",
       " ('104', 'check')]"
      ]
     },
     "execution_count": 60,
     "metadata": {},
     "output_type": "execute_result"
    }
   ],
   "source": [
    "sorted(results['_T1.nii'])"
   ]
  },
  {
   "cell_type": "code",
   "execution_count": 12,
   "metadata": {},
   "outputs": [
    {
     "name": "stdout",
     "output_type": "stream",
     "text": [
      "[[ 9.93393064e-01 -1.14536405e-01 -5.45465946e-03 -7.51659927e+01]\n",
      " [ 1.14539087e-01  9.93418515e-01  4.02271748e-04 -1.26625496e+02]\n",
      " [ 5.37264347e-03 -1.02436543e-03  9.99985039e-01 -1.37170715e+02]\n",
      " [ 0.00000000e+00  0.00000000e+00  0.00000000e+00  1.00000000e+00]]\n",
      "[[ 9.93404090e-01 -1.14536464e-01 -5.45465574e-03 -7.82729797e+01]\n",
      " [ 1.14540339e-01  9.93418574e-01  4.02270962e-04 -1.26848640e+02]\n",
      " [ 5.37268072e-03 -1.02439569e-03  9.99985099e-01 -1.19430756e+02]\n",
      " [ 0.00000000e+00  0.00000000e+00  0.00000000e+00  1.00000000e+00]]\n"
     ]
    },
    {
     "data": {
      "text/plain": [
       "False"
      ]
     },
     "execution_count": 12,
     "metadata": {},
     "output_type": "execute_result"
    }
   ],
   "source": [
    "print(affine_matrices['_T1.nii']['022'])\n",
    "print(affine_matrices['_FLAIR.nii']['022']) \n",
    "\n",
    "np.allclose(affine_matrices['_T1.nii']['022'], affine_matrices['_FLAIR.nii']['022'])\n"
   ]
  },
  {
   "cell_type": "code",
   "execution_count": 3,
   "metadata": {},
   "outputs": [
    {
     "name": "stdout",
     "output_type": "stream",
     "text": [
      "[[ 9.93393064e-01 -1.14536449e-01 -5.45466598e-03 -7.82729797e+01]\n",
      " [ 1.14539057e-01  9.93418515e-01  4.02255246e-04 -1.26848640e+02]\n",
      " [ 5.37263416e-03 -1.02438126e-03  9.99985039e-01 -1.19430756e+02]\n",
      " [ 0.00000000e+00  0.00000000e+00  0.00000000e+00  1.00000000e+00]]\n",
      "[[ 9.93393064e-01 -1.14536457e-01 -5.45465574e-03 -7.82729797e+01]\n",
      " [ 1.14539064e-01  9.93418515e-01  4.02270962e-04 -1.26848640e+02]\n",
      " [ 5.37262158e-03 -1.02439569e-03  9.99985039e-01 -1.19430756e+02]\n",
      " [ 0.00000000e+00  0.00000000e+00  0.00000000e+00  1.00000000e+00]]\n"
     ]
    },
    {
     "data": {
      "text/plain": [
       "array([[ True, False, False,  True],\n",
       "       [False,  True, False,  True],\n",
       "       [False, False,  True,  True],\n",
       "       [ True,  True,  True,  True]])"
      ]
     },
     "execution_count": 3,
     "metadata": {},
     "output_type": "execute_result"
    }
   ],
   "source": [
    "print(affine_matrices['_ChP_mask_T1xFLAIR_manual_seg.nii']['022']) \n",
    "print(affine_matrices['_T1.nii']['022']) \n",
    "\n",
    "affine_matrices['_ChP_mask_T1xFLAIR_manual_seg.nii']['022'] == affine_matrices['_T1.nii']['022']"
   ]
  },
  {
   "cell_type": "code",
   "execution_count": 4,
   "metadata": {},
   "outputs": [
    {
     "data": {
      "text/plain": [
       "False"
      ]
     },
     "execution_count": 4,
     "metadata": {},
     "output_type": "execute_result"
    }
   ],
   "source": [
    "np.allclose(affine_matrices['_T1.nii']['005'], affine_matrices['_ChP_mask_T1_manual_seg.nii']['005'])"
   ]
  },
  {
   "cell_type": "code",
   "execution_count": 5,
   "metadata": {},
   "outputs": [
    {
     "data": {
      "text/plain": [
       "array([[ True,  True,  True,  True],\n",
       "       [ True,  True, False,  True],\n",
       "       [ True,  True,  True,  True],\n",
       "       [ True,  True,  True,  True]])"
      ]
     },
     "execution_count": 5,
     "metadata": {},
     "output_type": "execute_result"
    }
   ],
   "source": [
    "rtol=1.e-5; atol=1.e-8\n",
    "a = affine_matrices['_T1.nii']['022']\n",
    "b = affine_matrices['_ChP_mask_T1xFLAIR_manual_seg.nii']['022']\n",
    "np.absolute(a - b) <= (atol + rtol * np.absolute(b))"
   ]
  },
  {
   "cell_type": "code",
   "execution_count": 6,
   "metadata": {},
   "outputs": [],
   "source": [
    "parent_directory\n",
    "\n",
    "subject_id = '022'\n",
    "t1_22 = nib.load(\"/home/linuxuser/user/data/pazienti_Kopie/\"+subject_id+\"/\"+ subject_id + \"_T1.nii\")\n",
    "t1xflair_mask_22 = nib.load(\"/home/linuxuser/user/data/pazienti_Kopie/\"+subject_id+\"/\"+ subject_id + \"_ChP_mask_T1xFLAIR_manual_seg.nii\")\n",
    "flair_22 = nib.load(\"/home/linuxuser/user/data/pazienti_Kopie/\"+subject_id+\"/\"+ subject_id + \"_FLAIR.nii\")\n",
    "\n",
    "t1_21 = nib.load('/home/linuxuser/user/data/pazienti_Kopie/021/021_T1.nii')\n",
    "t1xflair_mask_21 = nib.load('/home/linuxuser/user/data/pazienti_Kopie/021/021_ChP_mask_T1xFLAIR_manual_seg.nii')\n",
    "\n",
    "t1_22_header = t1_22.header\n",
    "t1xflair_mask_22_header = t1xflair_mask_22.header\n",
    "t1_21_header = t1_21.header\n",
    "t1xflair_mask_21_header = t1xflair_mask_21.header\n",
    "flair_22_header = flair_22.header"
   ]
  },
  {
   "cell_type": "code",
   "execution_count": 22,
   "metadata": {},
   "outputs": [
    {
     "name": "stdout",
     "output_type": "stream",
     "text": [
      "1 \n",
      "  [ 9.9339306e-01 -1.1453646e-01 -5.4546557e-03 -7.8272980e+01] \n",
      "  [ 1.14539064e-01  9.93418515e-01  4.02270962e-04 -1.26848640e+02] \n",
      "  [ 5.37262158e-03 -1.02439569e-03  9.99985039e-01 -1.19430756e+02] \n",
      "  [[ 9.93393064e-01 -1.14536457e-01 -5.45465574e-03 -7.82729797e+01]\n",
      " [ 1.14539064e-01  9.93418515e-01  4.02270962e-04 -1.26848640e+02]\n",
      " [ 5.37262158e-03 -1.02439569e-03  9.99985039e-01 -1.19430756e+02]\n",
      " [ 0.00000000e+00  0.00000000e+00  0.00000000e+00  1.00000000e+00]] \n",
      " nan\n",
      "-------------------------------------------------\n",
      "2 \n",
      "  [ 9.9339306e-01 -1.1453645e-01 -5.4546660e-03 -7.8272980e+01] \n",
      "  [ 1.1453906e-01  9.9341851e-01  4.0225525e-04 -1.2684864e+02] \n",
      "  [ 5.37263416e-03 -1.02438126e-03  9.99985039e-01 -1.19430756e+02] \n",
      "  [[ 9.93393064e-01 -1.14536449e-01 -5.45466598e-03 -7.82729797e+01]\n",
      " [ 1.14539057e-01  9.93418515e-01  4.02255246e-04 -1.26848640e+02]\n",
      " [ 5.37263416e-03 -1.02438126e-03  9.99985039e-01 -1.19430756e+02]\n",
      " [ 0.00000000e+00  0.00000000e+00  0.00000000e+00  1.00000000e+00]]\n",
      "-------------------------------------------------\n",
      "2 \n",
      "  [ 9.93393064e-01 -1.14536405e-01 -5.45465946e-03 -7.82729797e+01] \n",
      "  [ 1.1453909e-01  9.9341851e-01  4.0227175e-04 -1.2684864e+02] \n",
      "  [ 5.37264347e-03 -1.02436543e-03  9.99985039e-01 -1.19430756e+02] \n",
      "  [[ 9.93393064e-01 -1.14536405e-01 -5.45465946e-03 -7.82729797e+01]\n",
      " [ 1.14539087e-01  9.93418515e-01  4.02271748e-04 -1.26848640e+02]\n",
      " [ 5.37264347e-03 -1.02436543e-03  9.99985039e-01 -1.19430756e+02]\n",
      " [ 0.00000000e+00  0.00000000e+00  0.00000000e+00  1.00000000e+00]]\n"
     ]
    }
   ],
   "source": [
    "print(t1_22_header['sform_code'], \"\\n \",\n",
    "      t1_22_header['srow_x'], \"\\n \", t1_22_header['srow_y'], \"\\n \", t1_22_header['srow_z'], \"\\n \", t1_22.affine, \"\\n\", t1_22_header['scl_slope'])\n",
    "print(\"-------------------------------------------------\")\n",
    "print(t1xflair_mask_22_header['sform_code'], \"\\n \",\n",
    "      t1xflair_mask_22_header['srow_x'], \"\\n \", t1xflair_mask_22_header['srow_y'], \"\\n \", t1xflair_mask_22_header['srow_z'], \"\\n \", t1xflair_mask_22.affine)\n",
    "print(\"-------------------------------------------------\")\n",
    "print(flair_22_header['sform_code'], \"\\n \",\n",
    "      flair_22_header['srow_x'], \"\\n \", flair_22_header['srow_y'], \"\\n \", flair_22_header['srow_z'], \"\\n \", flair_22.affine)\n",
    "\n"
   ]
  },
  {
   "cell_type": "code",
   "execution_count": 23,
   "metadata": {},
   "outputs": [
    {
     "name": "stdout",
     "output_type": "stream",
     "text": [
      "1 \n",
      "  [  0.9863125   -0.11351516  -0.11959028 -62.764965  ] \n",
      "  [ 1.2048503e-01  9.9131334e-01  5.2736774e-02 -1.2506137e+02] \n",
      "  [ 1.1256502e-01 -6.6423781e-02  9.9142170e-01 -1.3748172e+02] \n",
      "  [[ 9.86312509e-01 -1.13515161e-01 -1.19590282e-01 -6.27649651e+01]\n",
      " [ 1.20485030e-01  9.91313338e-01  5.27367741e-02 -1.25061371e+02]\n",
      " [ 1.12565018e-01 -6.64237812e-02  9.91421700e-01 -1.37481720e+02]\n",
      " [ 0.00000000e+00  0.00000000e+00  0.00000000e+00  1.00000000e+00]] \n",
      " nan\n",
      "-------------------------------------------------\n",
      "2 \n",
      "  [ 9.9339306e-01 -1.1453645e-01 -5.4546660e-03 -7.8272980e+01] \n",
      "  [ 1.1453906e-01  9.9341851e-01  4.0225525e-04 -1.2684864e+02] \n",
      "  [ 5.37263416e-03 -1.02438126e-03  9.99985039e-01 -1.19430756e+02] \n",
      "  [[ 9.93393064e-01 -1.14536449e-01 -5.45466598e-03 -7.82729797e+01]\n",
      " [ 1.14539057e-01  9.93418515e-01  4.02255246e-04 -1.26848640e+02]\n",
      " [ 5.37263416e-03 -1.02438126e-03  9.99985039e-01 -1.19430756e+02]\n",
      " [ 0.00000000e+00  0.00000000e+00  0.00000000e+00  1.00000000e+00]]\n",
      "-------------------------------------------------\n",
      "2 \n",
      "  [ 9.93393064e-01 -1.14536405e-01 -5.45465946e-03 -7.82729797e+01] \n",
      "  [ 1.1453909e-01  9.9341851e-01  4.0227175e-04 -1.2684864e+02] \n",
      "  [ 5.37264347e-03 -1.02436543e-03  9.99985039e-01 -1.19430756e+02] \n",
      "  [[ 9.93393064e-01 -1.14536405e-01 -5.45465946e-03 -7.82729797e+01]\n",
      " [ 1.14539087e-01  9.93418515e-01  4.02271748e-04 -1.26848640e+02]\n",
      " [ 5.37264347e-03 -1.02436543e-03  9.99985039e-01 -1.19430756e+02]\n",
      " [ 0.00000000e+00  0.00000000e+00  0.00000000e+00  1.00000000e+00]]\n"
     ]
    }
   ],
   "source": [
    "print(t1_21_header['sform_code'], \"\\n \",\n",
    "      t1_21_header['srow_x'], \"\\n \", t1_21_header['srow_y'], \"\\n \", t1_21_header['srow_z'], \"\\n \", t1_21.affine, \"\\n\", t1_21_header['scl_slope'])\n",
    "print(\"-------------------------------------------------\")\n",
    "print(t1xflair_mask_22_header['sform_code'], \"\\n \",\n",
    "      t1xflair_mask_22_header['srow_x'], \"\\n \", t1xflair_mask_22_header['srow_y'], \"\\n \", t1xflair_mask_22_header['srow_z'], \"\\n \", t1xflair_mask_22.affine)\n",
    "print(\"-------------------------------------------------\")\n",
    "print(flair_22_header['sform_code'], \"\\n \",\n",
    "      flair_22_header['srow_x'], \"\\n \", flair_22_header['srow_y'], \"\\n \", flair_22_header['srow_z'], \"\\n \", flair_22.affine)"
   ]
  },
  {
   "cell_type": "code",
   "execution_count": 10,
   "metadata": {},
   "outputs": [],
   "source": [
    "# Set the sform_code to indicate the use of the standard affine transformation\n",
    "t1xflair_mask_22_header['sform_code'] = t1_22_header['sform_code']\n",
    "    \n",
    "    # Set the srow_x, srow_y, srow_z fields with the new affine matrix\n",
    "t1xflair_mask_22_header['srow_x'] = t1_22_header['srow_x']\n",
    "t1xflair_mask_22_header['srow_y'] = t1_22_header['srow_y']\n",
    "t1xflair_mask_22_header['srow_z'] = t1_22_header['srow_z']\n"
   ]
  },
  {
   "cell_type": "code",
   "execution_count": 7,
   "metadata": {},
   "outputs": [],
   "source": [
    "t1xflair_mask_22.affine\n",
    "\n",
    "\n",
    "new_img = nib.Nifti1Image(t1xflair_mask_22.get_fdata(), t1_22.affine, t1xflair_mask_22_header)\n",
    "# Save nifti with modified header fields\n",
    "nib.save(new_img, '/home/linuxuser/user/data/pazienti_Kopie/022/022_ChP_mask_T1xFLAIR_manual_seg.nii')"
   ]
  },
  {
   "cell_type": "code",
   "execution_count": null,
   "metadata": {},
   "outputs": [],
   "source": [
    "\n",
    "# Save the modified NIfTI file\n",
    "new_img = nib.Nifti1Image(t1xflair_mask_22.get_fdata(), new_affine, header)\n",
    "nib.save(new_img, nifti_path)\n"
   ]
  },
  {
   "cell_type": "code",
   "execution_count": 13,
   "metadata": {},
   "outputs": [
    {
     "name": "stdout",
     "output_type": "stream",
     "text": [
      "Checking subject 099\n",
      "/home/linuxuser/user/data/pazienti_final_tests/099/099_T1.nii --- /home/linuxuser/user/data/pazienti_final_tests/099/099_ChP_mask_T1_manual_seg.nii\n",
      "Affine matrix of /home/linuxuser/user/data/pazienti_final_tests/099/099_ChP_mask_T1_manual_seg.nii is different from /home/linuxuser/user/data/pazienti_final_tests/099/099_T1.nii\n",
      "Setting the affine matrix of /home/linuxuser/user/data/pazienti_final_tests/099/099_ChP_mask_T1_manual_seg.nii to that of /home/linuxuser/user/data/pazienti_final_tests/099/099_T1.nii\n",
      "Affine matrix of /home/linuxuser/user/data/pazienti_final_tests/099/099_ChP_mask_T1_manual_seg.nii is now equal to /home/linuxuser/user/data/pazienti_final_tests/099/099_T1.nii\n",
      "Checking subject 099\n",
      "/home/linuxuser/user/data/pazienti_final_tests/099/099_T1.nii --- /home/linuxuser/user/data/pazienti_final_tests/099/099_T1.nii\n"
     ]
    }
   ],
   "source": [
    "\"\"\" Read two files from subject (XXX_T1.nii and XXX_ChP_mask_T1xFLAIR_manual_seg.nii) read the affine matrices,\n",
    "do the check of the individual elements of the matrices, if they are equal, continue with the next subject, if they are not equal,\n",
    " set the affine matrix of the XXX_ChP_mask_T1xFLAIR_manual_seg.nii to that of the XXX_T1.nii and overwrite the XXX_ChP_mask_T1xFLAIR_manual_seg.nii file\n",
    "\"\"\"\n",
    "\n",
    "def check_and_modify_affine_matrix(subject_id, parent_dir):\n",
    "    # List of file suffixes to check\n",
    "    files_to_check = [\n",
    "        \"_T1.nii\",\n",
    "        \"_ChP_mask_T1_manual_seg.nii\"\n",
    "    ]\n",
    "\n",
    "    # Initialize dictionaries to store results and affine matrices\n",
    "    results = {suffix: [] for suffix in files_to_check}\n",
    "    affine_matrices = {suffix: {} for suffix in files_to_check}\n",
    "    \n",
    "    # Iterate over the directories in the parent directory\n",
    "    subject_dir = os.path.join(parent_dir, subject_id)\n",
    "    \n",
    "    # Load the reference T1.nii file\n",
    "    reference_file = os.path.join(subject_dir, f\"{subject_id}_T1.nii\")\n",
    "    if not os.path.isfile(reference_file):\n",
    "        print(f\"Reference file {reference_file} not found for subject {subject_id}\")\n",
    "        return\n",
    "    \n",
    "    reference_img = nib.load(reference_file)\n",
    "    reference_affine = reference_img.affine\n",
    "    # Add the reference affine matrix to the dictionary\n",
    "    affine_matrices[\"_T1.nii\"][subject_id] = reference_affine\n",
    "\n",
    "    # Check the affine matrices of the other files\n",
    "    for file_suffix in sorted(files_to_check):\n",
    "        file_to_check = os.path.join(subject_dir, f\"{subject_id}{file_suffix}\")\n",
    "        print(f\"Checking subject {subject_id}\")\n",
    "        print(reference_file, \"---\", file_to_check)\n",
    "        if not os.path.isfile(file_to_check):\n",
    "            print(f\"File {file_to_check} not found for subject {subject_id}\")\n",
    "            return\n",
    "\n",
    "        img_to_check = nib.load(file_to_check)\n",
    "        affine_to_check = img_to_check.affine\n",
    "\n",
    "        affine_matrices[file_suffix][subject_id] = affine_to_check\n",
    "\n",
    "        rtol=1.e-5; atol=1.e-8\n",
    "        if np.allclose(reference_affine, affine_to_check, rtol=rtol, atol=atol):\n",
    "            results[file_suffix].append((subject_id, \"check\"))\n",
    "        else:\n",
    "            results[file_suffix].append((subject_id, \"matrices are not equal\"))\n",
    "            print(f\"Affine matrix of {file_to_check} is different from {reference_file}\")\n",
    "            print(f\"Setting the affine matrix of {file_to_check} to that of {reference_file}\")\n",
    "            # Create a new image with the updated affine matrix\n",
    "            new_img = nib.Nifti1Image(img_to_check.get_fdata(), reference_affine, img_to_check.header)\n",
    "            nib.save(new_img, file_to_check)\n",
    "            \n",
    "            print(f\"Affine matrix of {file_to_check} is now equal to {  reference_file}\")\n",
    "\n",
    "check_and_modify_affine_matrix('099', parent_directory)\n"
   ]
  }
 ],
 "metadata": {
  "kernelspec": {
   "display_name": "monai13",
   "language": "python",
   "name": "python3"
  },
  "language_info": {
   "codemirror_mode": {
    "name": "ipython",
    "version": 3
   },
   "file_extension": ".py",
   "mimetype": "text/x-python",
   "name": "python",
   "nbconvert_exporter": "python",
   "pygments_lexer": "ipython3",
   "version": "3.9.19"
  }
 },
 "nbformat": 4,
 "nbformat_minor": 2
}
