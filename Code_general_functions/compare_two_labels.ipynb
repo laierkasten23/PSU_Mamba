{
 "cells": [
  {
   "cell_type": "code",
   "execution_count": 6,
   "metadata": {},
   "outputs": [],
   "source": [
    "# write a function, that takes two strings to two different 3D nifti segmentation masks, reads them both, computes the difference of where the labels are different (binary). and plots the difference as a 3D Plot. \n",
    "# The function should return the difference as a 3D numpy array.\n",
    "\n",
    "import nibabel as nib\n",
    "import numpy as np\n",
    "import matplotlib.pyplot as plt\n",
    "from mpl_toolkits.mplot3d import Axes3D\n",
    "import os\n",
    "\n",
    "def plot_diff(seg1, seg2, name = None, savepath='/home/linuxuser/user/data/segmentation_diff/'):\n",
    "\n",
    "    os.makedirs(savepath, exist_ok=True)\n",
    "\n",
    "    # load the nifti files\n",
    "    seg1 = nib.load(seg1)\n",
    "    seg2 = nib.load(seg2)\n",
    "    # get the data\n",
    "    seg1_data = seg1.get_fdata()\n",
    "    seg2_data = seg2.get_fdata()\n",
    "    # get the shape\n",
    "    shape = seg1_data.shape\n",
    "    # create an empty array\n",
    "    diff = np.zeros(shape)\n",
    "    # find the difference\n",
    "    diff[seg1_data != seg2_data] = 1\n",
    "    # plot the difference\n",
    "    fig = plt.figure()\n",
    "    ax = fig.add_subplot(111, projection='3d')\n",
    "    ax.voxels(diff, edgecolor='k')\n",
    "    plt.show()\n",
    "\n",
    "    # save the difference as a nifti file\n",
    "    diff_nifti = nib.Nifti1Image(diff, seg1.affine)\n",
    "    if name is not None:\n",
    "        nib.save(diff_nifti, os.path.join(savepath, name))\n",
    "    else:\n",
    "        nib.save(diff_nifti, os.path.join(savepath, 'diff.nii'))\n",
    "    return diff\n",
    "    "
   ]
  },
  {
   "cell_type": "code",
   "execution_count": 9,
   "metadata": {},
   "outputs": [],
   "source": [
    "seg_FLAIR = '/home/linuxuser/user/data/pazienti/015/015_ChP_mask_FLAIR_manual_seg.nii'\n",
    "seg_T1xFLAIR = '/home/linuxuser/user/data/pazienti/015/015_ChP_mask_T1xFLAIR_manual_seg.nii' "
   ]
  }
 ],
 "metadata": {
  "kernelspec": {
   "display_name": "monai13",
   "language": "python",
   "name": "python3"
  },
  "language_info": {
   "codemirror_mode": {
    "name": "ipython",
    "version": 3
   },
   "file_extension": ".py",
   "mimetype": "text/x-python",
   "name": "python",
   "nbconvert_exporter": "python",
   "pygments_lexer": "ipython3",
   "version": "3.9.19"
  }
 },
 "nbformat": 4,
 "nbformat_minor": 2
}
