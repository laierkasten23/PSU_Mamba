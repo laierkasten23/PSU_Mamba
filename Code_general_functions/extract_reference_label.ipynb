{
 "cells": [
  {
   "cell_type": "code",
   "execution_count": 2,
   "metadata": {},
   "outputs": [
    {
     "name": "stdout",
     "output_type": "stream",
     "text": [
      "<re.Match object; span=(0, 3), match='026'>\n",
      "026\n",
      "/home/linuxuser/user/data/reference_labels/ref_labelTs/026_ChP_mask_T1xFLAIR_manual_seg.nii\n"
     ]
    }
   ],
   "source": [
    "import os\n",
    "import re\n",
    "\n",
    "def get_reference_label_path(image_path, reference_labels_base_path):\n",
    "    \"\"\"\n",
    "    Given an image path and the base path for reference labels,\n",
    "    return the path to the corresponding reference label.\n",
    "    \n",
    "    Args:\n",
    "    - image_path (str): The path to the current image or label.\n",
    "    - reference_labels_base_path (str): The base path where reference labels are stored.\n",
    "    \n",
    "    Returns:\n",
    "    - str: Path to the corresponding reference label.\n",
    "    \"\"\"\n",
    "    # Extract the index from the image filename\n",
    "    # Assuming filenames are in the format \"index_description.ext\" or similar\n",
    "    index_match = re.search(r'(\\d+)', os.path.basename(image_path))\n",
    "    print(index_match)\n",
    "    if not index_match:\n",
    "        raise ValueError(\"Could not extract index from image path.\")\n",
    "    \n",
    "    index = index_match.group(1)\n",
    "    print(index)\n",
    "    \n",
    "    # Construct the pathname for the reference label\n",
    "    # Assuming reference labels have a specific naming pattern you can adjust below\n",
    "    reference_label_filename = f\"{index}_ChP_mask_T1xFLAIR_manual_seg.nii\"  # T1xFLAIR reference label\n",
    "    #reference_label_path = os.path.join(reference_labels_base_path, reference_label_filename)\n",
    "\n",
    "    # Walk through the directory tree to find the file\n",
    "    for dirpath, dirnames, filenames in os.walk(reference_labels_base_path):\n",
    "        if reference_label_filename in filenames:\n",
    "            return os.path.join(dirpath, reference_label_filename)\n",
    "        \n",
    "    #if os.path.isfile(reference_label_path):\n",
    "    #    return reference_label_path\n",
    "    #else:\n",
    "    #    raise FileNotFoundError(f\"Reference label not found at {reference_label_path}.\")\n",
    "\n",
    "    # If the function hasn't returned by now, the file doesn't exist\n",
    "    raise FileNotFoundError(f\"Reference label {reference_label_filename} not found in {reference_labels_base_path} or its subdirectories.\")\n",
    "# Example usage\n",
    "image_path = \"/home/linuxuser/user/data/Dataset009_ChoroidPlexus_T1_sym_AP/image_Tr/010_image0001.nii\"\n",
    "image_path = \"/home/linuxuser/user/data/Dataset009_ChoroidPlexus_T1_sym_UMAMBA/imagesTs/026_image0001.nii\"\n",
    "#image_path = \"C:\\\\Users\\\\user\\\\Documents\\\\user\\\\data\\\\dataset_aschoplex\\\\image_Ts\\\\014_image.nii\"\n",
    "\n",
    "reference_labels_base_path = \"/home/linuxuser/user/data/reference_labels/ref_labelTr\"\n",
    "reference_labels_base_path = \"/home/linuxuser/user/data/reference_labels\"\n",
    "reference_label_path = get_reference_label_path(image_path, reference_labels_base_path)\n",
    "print(reference_label_path)"
   ]
  },
  {
   "cell_type": "code",
   "execution_count": 18,
   "metadata": {},
   "outputs": [
    {
     "name": "stdout",
     "output_type": "stream",
     "text": [
      "<re.Match object; span=(0, 3), match='010'>\n",
      "010\n",
      "<re.Match object; span=(0, 3), match='000'>\n",
      "000\n",
      "Warning: Reference label 000_ChP_mask_T1xFLAIR_manual_seg.nii not found in /home/linuxuser/user/data/reference_labels or its subdirectories.\n",
      "/home/linuxuser/user/data/reference_labels/ref_labelTr/010_ChP_mask_T1xFLAIR_manual_seg.nii\n"
     ]
    }
   ],
   "source": [
    "def get_reference_label_paths(image_paths, reference_labels_base_path):\n",
    "    \"\"\"\n",
    "    Given a list of image paths and the base path for reference labels,\n",
    "    return a list of paths to the corresponding reference labels.\n",
    "    \n",
    "    Args:\n",
    "    - image_paths (list of str): The paths to the current images or labels.\n",
    "    - reference_labels_base_path (str): The base path where reference labels are stored.\n",
    "    \n",
    "    Returns:\n",
    "    - list of str: Paths to the corresponding reference labels.\n",
    "    \"\"\"\n",
    "    reference_label_paths = []\n",
    "    for image_path in image_paths:\n",
    "        try:\n",
    "            reference_label_path = get_reference_label_path(image_path, reference_labels_base_path)\n",
    "            reference_label_paths.append(reference_label_path)\n",
    "        except FileNotFoundError as e:\n",
    "            print(f\"Warning: {e}\")\n",
    "            \n",
    "\n",
    "            \n",
    "    return reference_label_paths\n",
    "\n",
    "# Example usage\n",
    "image_paths = [\n",
    "    \"/home/linuxuser/user/data/Dataset009_ChoroidPlexus_T1_sym_AP/image_Tr/010_image0001.nii\",\n",
    "    \"/home/linuxuser/user/data/Dataset009_ChoroidPlexus_T1_sym_UMAMBA/imagesTs/000_image0001.nii\"\n",
    "]\n",
    "#reference_labels_base_path = \"/home/linuxuser/user/data/reference_labels/ref_labelTr\"\n",
    "reference_labels_base_path = \"/home/linuxuser/user/data/reference_labels\"\n",
    "\n",
    "reference_label_paths = get_reference_label_paths(image_paths, reference_labels_base_path)\n",
    "for path in reference_label_paths:\n",
    "    print(path)"
   ]
  }
 ],
 "metadata": {
  "kernelspec": {
   "display_name": "monai13",
   "language": "python",
   "name": "python3"
  },
  "language_info": {
   "codemirror_mode": {
    "name": "ipython",
    "version": 3
   },
   "file_extension": ".py",
   "mimetype": "text/x-python",
   "name": "python",
   "nbconvert_exporter": "python",
   "pygments_lexer": "ipython3",
   "version": "3.9.19"
  }
 },
 "nbformat": 4,
 "nbformat_minor": 2
}
