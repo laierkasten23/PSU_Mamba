{
 "cells": [
  {
   "cell_type": "markdown",
   "metadata": {},
   "source": [
    "Compute metrics to compare two segmentations of MRI brain data.\n"
   ]
  },
  {
   "cell_type": "code",
   "execution_count": null,
   "metadata": {},
   "outputs": [],
   "source": [
    "import numpy as np"
   ]
  },
  {
   "cell_type": "markdown",
   "metadata": {},
   "source": [
    "Quantitative contrast metrics:"
   ]
  },
  {
   "cell_type": "code",
   "execution_count": null,
   "metadata": {},
   "outputs": [],
   "source": [
    "# Signal to Noise Ratio (SNR) calculation\n",
    "def snr(roi_values, background_values):\n",
    "    return np.mean(roi_values)/np.std(background_values)\n",
    "\n",
    "\n",
    "# Contrast to Noise Ratio (CNR) calculation\n",
    "def cnr(roi_values, background_values):\n",
    "    return (np.mean(roi_values) - np.mean(background_values))/np.std(background_values)\n"
   ]
  },
  {
   "cell_type": "markdown",
   "metadata": {},
   "source": [
    "Quantitative segmentation metrics"
   ]
  },
  {
   "cell_type": "code",
   "execution_count": null,
   "metadata": {},
   "outputs": [],
   "source": [
    "# Dice similarity coefficient calculation\n",
    "def dsc(tp, fp, fn):\n",
    "    return 2*tp/(2*tp + fp + fn)\n",
    "\n",
    "# Percentage volume difference calculation\n",
    "def perc_vol_diff(vol_seg, vol_ref):\n",
    "    return 100 * (vol_seg - vol_ref)/vol_ref\n",
    "\n",
    "# Absolute percentage volume difference calculation\n",
    "def abs_perc_vol_diff(vol_seg, vol_ref):\n",
    "    return 100 * abs(vol_seg - vol_ref)/vol_ref\n",
    "\n",
    "# Pearson correlation coefficient calculation\n",
    "def pearson_correlation(x, y):\n",
    "    return np.corrcoef(x, y)[0, 1]"
   ]
  },
  {
   "cell_type": "markdown",
   "metadata": {},
   "source": [
    "Spatial variability metrics"
   ]
  },
  {
   "cell_type": "code",
   "execution_count": null,
   "metadata": {},
   "outputs": [],
   "source": [
    "# Error distribution per slice \n",
    "def error_dist_per_slice(slice, ref, seg):\n",
    "    return 100 * (np.sum(seg[slice] != ref[slice]) / len(ref[slice]))"
   ]
  },
  {
   "cell_type": "markdown",
   "metadata": {},
   "source": []
  }
 ],
 "metadata": {
  "language_info": {
   "name": "python"
  }
 },
 "nbformat": 4,
 "nbformat_minor": 2
}
