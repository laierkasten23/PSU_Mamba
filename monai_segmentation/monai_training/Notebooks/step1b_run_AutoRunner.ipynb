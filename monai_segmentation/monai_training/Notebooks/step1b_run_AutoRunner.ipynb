{
 "cells": [
  {
   "cell_type": "markdown",
   "metadata": {},
   "source": [
    "https://github.com/Project-MONAI/tutorials/blob/main/auto3dseg/notebooks/auto_runner.ipynb"
   ]
  },
  {
   "cell_type": "code",
   "execution_count": 1,
   "metadata": {},
   "outputs": [],
   "source": [
    "import os\n",
    "import nibabel as nib\n",
    "import numpy as np\n",
    "import json\n",
    "\n",
    "from monai.apps.auto3dseg import AutoRunner, export_bundle_algo_history, import_bundle_algo_history\n",
    "from monai.utils.enums import AlgoKeys\n",
    "from monai.auto3dseg import algo_to_pickle\n",
    "from monai.config import print_config\n",
    "from monai.bundle.config_parser import ConfigParser"
   ]
  },
  {
   "cell_type": "code",
   "execution_count": 2,
   "metadata": {},
   "outputs": [],
   "source": [
    "json_path = \"/var/data/student_home/lia/phuse_thesis_2024/monai_segmentation/monai_training/JSON_dir/train.json\"\n",
    "json_train_val_path = \"/var/data/student_home/lia/phuse_thesis_2024/monai_segmentation/monai_training/JSON_dir/train.json\"\n",
    "\n",
    "work_dir = os.path.join(\"/var/data/student_home/lia/phuse_thesis_2024/monai_segmentation/monai_training\", 'working_dir_training_from_scratch_0327') \n",
    "dataroot = \"/var/data/MONAI_Choroid_Plexus/dataset_monai_train_from_scratch\"\n",
    "\n"
   ]
  },
  {
   "cell_type": "code",
   "execution_count": 3,
   "metadata": {},
   "outputs": [],
   "source": [
    "data_src = {\n",
    "    \"modality\": \"MRI\",\n",
    "    \"datalist\": json_path,#datalist, # give path to json file, it is not necessary to already read the json file\n",
    "    \"dataroot\": dataroot,\n",
    "}\n",
    "\n",
    "data_src_cfg = os.path.join(work_dir, \"data_src_cfg.yaml\")\n",
    "ConfigParser.export_config_file(data_src, data_src_cfg)"
   ]
  },
  {
   "cell_type": "markdown",
   "metadata": {},
   "source": [
    "## Run the Auto3DSeg pipeline in a few lines of code"
   ]
  },
  {
   "cell_type": "code",
   "execution_count": 5,
   "metadata": {},
   "outputs": [
    {
     "name": "stdout",
     "output_type": "stream",
     "text": [
      "2024-02-27 11:53:32,533 - INFO - AutoRunner using work directory ./work_dir\n",
      "2024-02-27 11:53:32,538 - INFO - Loading input config /var/data/student_home/lia/phuse_thesis_2024/monai_segmentation/monai_training/working_dir_training_from_scratch/data_src_cfg.yaml\n",
      "2024-02-27 11:53:32,540 - INFO - Datalist was copied to work_dir: /var/data/student_home/lia/phuse_thesis_2024/monai_segmentation/monai_training/work_dir/train.json\n",
      "2024-02-27 11:53:32,542 - INFO - Setting num_fold 5 based on the input datalist /var/data/student_home/lia/phuse_thesis_2024/monai_segmentation/monai_training/work_dir/train.json.\n",
      "2024-02-27 11:53:32,573 - INFO - Using user defined command running prefix , will override other settings\n",
      "2024-02-27 11:53:32,575 - INFO - Running data analysis...\n",
      "2024-02-27 11:53:32,576 - INFO - Found 1 GPUs for data analyzing!\n"
     ]
    },
    {
     "name": "stderr",
     "output_type": "stream",
     "text": [
      "100%|██████████| 29/29 [00:33<00:00,  1.16s/it]"
     ]
    },
    {
     "name": "stdout",
     "output_type": "stream",
     "text": [
      "2024-02-27 11:54:06,478 - INFO - Writing data stats to /var/data/student_home/lia/phuse_thesis_2024/monai_segmentation/monai_training/work_dir/datastats.yaml.\n",
      "2024-02-27 11:54:06,491 - INFO - Writing by-case data stats to /var/data/student_home/lia/phuse_thesis_2024/monai_segmentation/monai_training/work_dir/datastats_by_case.yaml, this may take a while.\n"
     ]
    },
    {
     "name": "stderr",
     "output_type": "stream",
     "text": [
      "\n"
     ]
    },
    {
     "name": "stdout",
     "output_type": "stream",
     "text": [
      "2024-02-27 11:54:06,692 - INFO - BundleGen from https://github.com/Project-MONAI/research-contributions/releases/download/algo_templates/249bf4b.tar.gz\n"
     ]
    },
    {
     "name": "stderr",
     "output_type": "stream",
     "text": [
      "algo_templates.tar.gz: 104kB [00:01, 67.7kB/s]                             "
     ]
    },
    {
     "name": "stdout",
     "output_type": "stream",
     "text": [
      "2024-02-27 11:54:08,271 - INFO - Downloaded: /tmp/tmp7soakx57/algo_templates.tar.gz\n",
      "2024-02-27 11:54:08,272 - INFO - Expected md5 is None, skip md5 check for file /tmp/tmp7soakx57/algo_templates.tar.gz.\n",
      "2024-02-27 11:54:08,274 - INFO - Writing into directory: /var/data/student_home/lia/phuse_thesis_2024/monai_segmentation/monai_training/work_dir.\n"
     ]
    },
    {
     "name": "stderr",
     "output_type": "stream",
     "text": [
      "\n"
     ]
    },
    {
     "name": "stdout",
     "output_type": "stream",
     "text": [
      "2024-02-27 11:54:08,599 - INFO - Generated:/var/data/student_home/lia/phuse_thesis_2024/monai_segmentation/monai_training/work_dir/dints_0\n",
      "2024-02-27 11:54:08,723 - INFO - Generated:/var/data/student_home/lia/phuse_thesis_2024/monai_segmentation/monai_training/work_dir/dints_1\n",
      "2024-02-27 11:54:08,835 - INFO - Generated:/var/data/student_home/lia/phuse_thesis_2024/monai_segmentation/monai_training/work_dir/dints_2\n",
      "2024-02-27 11:54:08,924 - INFO - Generated:/var/data/student_home/lia/phuse_thesis_2024/monai_segmentation/monai_training/work_dir/dints_3\n",
      "2024-02-27 11:54:09,017 - INFO - Generated:/var/data/student_home/lia/phuse_thesis_2024/monai_segmentation/monai_training/work_dir/dints_4\n",
      "2024-02-27 11:54:09,062 - INFO - Generated:/var/data/student_home/lia/phuse_thesis_2024/monai_segmentation/monai_training/work_dir/segresnet_0\n",
      "2024-02-27 11:54:09,117 - INFO - Generated:/var/data/student_home/lia/phuse_thesis_2024/monai_segmentation/monai_training/work_dir/segresnet_1\n",
      "2024-02-27 11:54:09,172 - INFO - Generated:/var/data/student_home/lia/phuse_thesis_2024/monai_segmentation/monai_training/work_dir/segresnet_2\n",
      "2024-02-27 11:54:09,229 - INFO - Generated:/var/data/student_home/lia/phuse_thesis_2024/monai_segmentation/monai_training/work_dir/segresnet_3\n",
      "2024-02-27 11:54:09,282 - INFO - Generated:/var/data/student_home/lia/phuse_thesis_2024/monai_segmentation/monai_training/work_dir/segresnet_4\n",
      "2024-02-27 11:54:09,314 - INFO - segresnet2d_0 is skipped! SegresNet2D is skipped due to median spacing of [1.0, 1.0, 1.0],  which means the dataset is not highly anisotropic, e.g. spacing[2] < 3*(spacing[0] + spacing[1])/2) .\n",
      "2024-02-27 11:54:09,336 - INFO - segresnet2d_1 is skipped! SegresNet2D is skipped due to median spacing of [1.0, 1.0, 1.0],  which means the dataset is not highly anisotropic, e.g. spacing[2] < 3*(spacing[0] + spacing[1])/2) .\n",
      "2024-02-27 11:54:09,360 - INFO - segresnet2d_2 is skipped! SegresNet2D is skipped due to median spacing of [1.0, 1.0, 1.0],  which means the dataset is not highly anisotropic, e.g. spacing[2] < 3*(spacing[0] + spacing[1])/2) .\n",
      "2024-02-27 11:54:09,382 - INFO - segresnet2d_3 is skipped! SegresNet2D is skipped due to median spacing of [1.0, 1.0, 1.0],  which means the dataset is not highly anisotropic, e.g. spacing[2] < 3*(spacing[0] + spacing[1])/2) .\n",
      "2024-02-27 11:54:09,407 - INFO - segresnet2d_4 is skipped! SegresNet2D is skipped due to median spacing of [1.0, 1.0, 1.0],  which means the dataset is not highly anisotropic, e.g. spacing[2] < 3*(spacing[0] + spacing[1])/2) .\n",
      "2024-02-27 11:54:09,483 - INFO - Generated:/var/data/student_home/lia/phuse_thesis_2024/monai_segmentation/monai_training/work_dir/swinunetr_0\n",
      "2024-02-27 11:54:09,596 - INFO - Generated:/var/data/student_home/lia/phuse_thesis_2024/monai_segmentation/monai_training/work_dir/swinunetr_1\n",
      "2024-02-27 11:54:09,688 - INFO - Generated:/var/data/student_home/lia/phuse_thesis_2024/monai_segmentation/monai_training/work_dir/swinunetr_2\n",
      "2024-02-27 11:54:09,784 - INFO - Generated:/var/data/student_home/lia/phuse_thesis_2024/monai_segmentation/monai_training/work_dir/swinunetr_3\n",
      "2024-02-27 11:54:09,872 - INFO - Generated:/var/data/student_home/lia/phuse_thesis_2024/monai_segmentation/monai_training/work_dir/swinunetr_4\n",
      "2024-02-27 11:54:10,066 - INFO - ['python', '/var/data/student_home/lia/phuse_thesis_2024/monai_segmentation/monai_training/work_dir/dints_0/scripts/train.py', 'run', \"--config_file='/var/data/student_home/lia/phuse_thesis_2024/monai_segmentation/monai_training/work_dir/dints_0/configs/hyper_parameters.yaml,/var/data/student_home/lia/phuse_thesis_2024/monai_segmentation/monai_training/work_dir/dints_0/configs/hyper_parameters_search.yaml,/var/data/student_home/lia/phuse_thesis_2024/monai_segmentation/monai_training/work_dir/dints_0/configs/network.yaml,/var/data/student_home/lia/phuse_thesis_2024/monai_segmentation/monai_training/work_dir/dints_0/configs/network_search.yaml,/var/data/student_home/lia/phuse_thesis_2024/monai_segmentation/monai_training/work_dir/dints_0/configs/transforms_infer.yaml,/var/data/student_home/lia/phuse_thesis_2024/monai_segmentation/monai_training/work_dir/dints_0/configs/transforms_train.yaml,/var/data/student_home/lia/phuse_thesis_2024/monai_segmentation/monai_training/work_dir/dints_0/configs/transforms_validate.yaml'\"]\n"
     ]
    },
    {
     "name": "stderr",
     "output_type": "stream",
     "text": [
      "dints_0 - training ...:   0%|          | 0/232 [00:00<?, ?round/s]"
     ]
    },
    {
     "ename": "KeyboardInterrupt",
     "evalue": "",
     "output_type": "error",
     "traceback": [
      "\u001b[0;31m---------------------------------------------------------------------------\u001b[0m",
      "\u001b[0;31mKeyboardInterrupt\u001b[0m                         Traceback (most recent call last)",
      "Cell \u001b[0;32mIn[5], line 2\u001b[0m\n\u001b[1;32m      1\u001b[0m runner \u001b[38;5;241m=\u001b[39m AutoRunner(\u001b[38;5;28minput\u001b[39m\u001b[38;5;241m=\u001b[39mdata_src_cfg)\n\u001b[0;32m----> 2\u001b[0m \u001b[43mrunner\u001b[49m\u001b[38;5;241;43m.\u001b[39;49m\u001b[43mrun\u001b[49m\u001b[43m(\u001b[49m\u001b[43m)\u001b[49m\n",
      "File \u001b[0;32m~/envs/base/lib/python3.10/site-packages/monai/apps/auto3dseg/auto_runner.py:806\u001b[0m, in \u001b[0;36mAutoRunner.run\u001b[0;34m(self)\u001b[0m\n\u001b[1;32m    804\u001b[0m \u001b[38;5;28;01mif\u001b[39;00m \u001b[38;5;28mlen\u001b[39m(history) \u001b[38;5;241m>\u001b[39m \u001b[38;5;241m0\u001b[39m:\n\u001b[1;32m    805\u001b[0m     \u001b[38;5;28;01mif\u001b[39;00m \u001b[38;5;129;01mnot\u001b[39;00m \u001b[38;5;28mself\u001b[39m\u001b[38;5;241m.\u001b[39mhpo:\n\u001b[0;32m--> 806\u001b[0m         \u001b[38;5;28;43mself\u001b[39;49m\u001b[38;5;241;43m.\u001b[39;49m\u001b[43m_train_algo_in_sequence\u001b[49m\u001b[43m(\u001b[49m\u001b[43mhistory\u001b[49m\u001b[43m)\u001b[49m\n\u001b[1;32m    807\u001b[0m     \u001b[38;5;28;01melse\u001b[39;00m:\n\u001b[1;32m    808\u001b[0m         \u001b[38;5;28mself\u001b[39m\u001b[38;5;241m.\u001b[39m_train_algo_in_nni(history)\n",
      "File \u001b[0;32m~/envs/base/lib/python3.10/site-packages/monai/apps/auto3dseg/auto_runner.py:658\u001b[0m, in \u001b[0;36mAutoRunner._train_algo_in_sequence\u001b[0;34m(self, history)\u001b[0m\n\u001b[1;32m    656\u001b[0m algo \u001b[38;5;241m=\u001b[39m algo_dict[AlgoKeys\u001b[38;5;241m.\u001b[39mALGO]\n\u001b[1;32m    657\u001b[0m \u001b[38;5;28;01mif\u001b[39;00m has_option(algo\u001b[38;5;241m.\u001b[39mtrain, \u001b[38;5;124m\"\u001b[39m\u001b[38;5;124mdevice_setting\u001b[39m\u001b[38;5;124m\"\u001b[39m):\n\u001b[0;32m--> 658\u001b[0m     \u001b[43malgo\u001b[49m\u001b[38;5;241;43m.\u001b[39;49m\u001b[43mtrain\u001b[49m\u001b[43m(\u001b[49m\u001b[38;5;28;43mself\u001b[39;49m\u001b[38;5;241;43m.\u001b[39;49m\u001b[43mtrain_params\u001b[49m\u001b[43m,\u001b[49m\u001b[43m \u001b[49m\u001b[38;5;28;43mself\u001b[39;49m\u001b[38;5;241;43m.\u001b[39;49m\u001b[43mdevice_setting\u001b[49m\u001b[43m)\u001b[49m\n\u001b[1;32m    659\u001b[0m \u001b[38;5;28;01melse\u001b[39;00m:\n\u001b[1;32m    660\u001b[0m     algo\u001b[38;5;241m.\u001b[39mtrain(\u001b[38;5;28mself\u001b[39m\u001b[38;5;241m.\u001b[39mtrain_params)\n",
      "File \u001b[0;32m~/phuse_thesis_2024/monai_segmentation/monai_training/work_dir/algorithm_templates/dints/scripts/algo.py:490\u001b[0m, in \u001b[0;36mDintsAlgo.train\u001b[0;34m(self, train_params, device_setting, search)\u001b[0m\n\u001b[1;32m    488\u001b[0m cmd, devices_info \u001b[38;5;241m=\u001b[39m \u001b[38;5;28mself\u001b[39m\u001b[38;5;241m.\u001b[39m_create_cmd(dints_train_params)\n\u001b[1;32m    489\u001b[0m cmd \u001b[38;5;241m=\u001b[39m \u001b[38;5;124m\"\u001b[39m\u001b[38;5;124mOMP_NUM_THREADS=1 \u001b[39m\u001b[38;5;124m\"\u001b[39m \u001b[38;5;241m+\u001b[39m cmd\n\u001b[0;32m--> 490\u001b[0m \u001b[38;5;28;01mreturn\u001b[39;00m \u001b[38;5;28;43mself\u001b[39;49m\u001b[38;5;241;43m.\u001b[39;49m\u001b[43m_run_cmd\u001b[49m\u001b[43m(\u001b[49m\u001b[43mcmd\u001b[49m\u001b[43m,\u001b[49m\u001b[43m \u001b[49m\u001b[43mdevices_info\u001b[49m\u001b[43m)\u001b[49m\n",
      "File \u001b[0;32m~/envs/base/lib/python3.10/site-packages/monai/apps/auto3dseg/bundle_gen.py:255\u001b[0m, in \u001b[0;36mBundleAlgo._run_cmd\u001b[0;34m(self, cmd, devices_info)\u001b[0m\n\u001b[1;32m    251\u001b[0m     \u001b[38;5;28;01mreturn\u001b[39;00m _run_cmd_torchrun(\n\u001b[1;32m    252\u001b[0m         cmd, nnodes\u001b[38;5;241m=\u001b[39m\u001b[38;5;241m1\u001b[39m, nproc_per_node\u001b[38;5;241m=\u001b[39m\u001b[38;5;28mself\u001b[39m\u001b[38;5;241m.\u001b[39mdevice_setting[\u001b[38;5;124m\"\u001b[39m\u001b[38;5;124mn_devices\u001b[39m\u001b[38;5;124m\"\u001b[39m], env\u001b[38;5;241m=\u001b[39mps_environ, check\u001b[38;5;241m=\u001b[39m\u001b[38;5;28;01mTrue\u001b[39;00m\n\u001b[1;32m    253\u001b[0m     )\n\u001b[1;32m    254\u001b[0m \u001b[38;5;28;01melse\u001b[39;00m:\n\u001b[0;32m--> 255\u001b[0m     \u001b[38;5;28;01mreturn\u001b[39;00m \u001b[43mrun_cmd\u001b[49m\u001b[43m(\u001b[49m\u001b[43mcmd\u001b[49m\u001b[38;5;241;43m.\u001b[39;49m\u001b[43msplit\u001b[49m\u001b[43m(\u001b[49m\u001b[43m)\u001b[49m\u001b[43m,\u001b[49m\u001b[43m \u001b[49m\u001b[43mrun_cmd_verbose\u001b[49m\u001b[38;5;241;43m=\u001b[39;49m\u001b[38;5;28;43;01mTrue\u001b[39;49;00m\u001b[43m,\u001b[49m\u001b[43m \u001b[49m\u001b[43menv\u001b[49m\u001b[38;5;241;43m=\u001b[39;49m\u001b[43mps_environ\u001b[49m\u001b[43m,\u001b[49m\u001b[43m \u001b[49m\u001b[43mcheck\u001b[49m\u001b[38;5;241;43m=\u001b[39;49m\u001b[38;5;28;43;01mTrue\u001b[39;49;00m\u001b[43m)\u001b[49m\n",
      "File \u001b[0;32m~/envs/base/lib/python3.10/site-packages/monai/utils/misc.py:874\u001b[0m, in \u001b[0;36mrun_cmd\u001b[0;34m(cmd_list, **kwargs)\u001b[0m\n\u001b[1;32m    872\u001b[0m     monai\u001b[38;5;241m.\u001b[39mapps\u001b[38;5;241m.\u001b[39mutils\u001b[38;5;241m.\u001b[39mget_logger(\u001b[38;5;124m\"\u001b[39m\u001b[38;5;124mrun_cmd\u001b[39m\u001b[38;5;124m\"\u001b[39m)\u001b[38;5;241m.\u001b[39minfo(\u001b[38;5;124mf\u001b[39m\u001b[38;5;124m\"\u001b[39m\u001b[38;5;132;01m{\u001b[39;00mcmd_list\u001b[38;5;132;01m}\u001b[39;00m\u001b[38;5;124m\"\u001b[39m)\n\u001b[1;32m    873\u001b[0m \u001b[38;5;28;01mtry\u001b[39;00m:\n\u001b[0;32m--> 874\u001b[0m     \u001b[38;5;28;01mreturn\u001b[39;00m \u001b[43msubprocess\u001b[49m\u001b[38;5;241;43m.\u001b[39;49m\u001b[43mrun\u001b[49m\u001b[43m(\u001b[49m\u001b[43mcmd_list\u001b[49m\u001b[43m,\u001b[49m\u001b[43m \u001b[49m\u001b[38;5;241;43m*\u001b[39;49m\u001b[38;5;241;43m*\u001b[39;49m\u001b[43mkwargs\u001b[49m\u001b[43m)\u001b[49m\n\u001b[1;32m    875\u001b[0m \u001b[38;5;28;01mexcept\u001b[39;00m subprocess\u001b[38;5;241m.\u001b[39mCalledProcessError \u001b[38;5;28;01mas\u001b[39;00m e:\n\u001b[1;32m    876\u001b[0m     \u001b[38;5;28;01mif\u001b[39;00m \u001b[38;5;129;01mnot\u001b[39;00m debug:\n",
      "File \u001b[0;32m/usr/lib/python3.10/subprocess.py:503\u001b[0m, in \u001b[0;36mrun\u001b[0;34m(input, capture_output, timeout, check, *popenargs, **kwargs)\u001b[0m\n\u001b[1;32m    501\u001b[0m \u001b[38;5;28;01mwith\u001b[39;00m Popen(\u001b[38;5;241m*\u001b[39mpopenargs, \u001b[38;5;241m*\u001b[39m\u001b[38;5;241m*\u001b[39mkwargs) \u001b[38;5;28;01mas\u001b[39;00m process:\n\u001b[1;32m    502\u001b[0m     \u001b[38;5;28;01mtry\u001b[39;00m:\n\u001b[0;32m--> 503\u001b[0m         stdout, stderr \u001b[38;5;241m=\u001b[39m \u001b[43mprocess\u001b[49m\u001b[38;5;241;43m.\u001b[39;49m\u001b[43mcommunicate\u001b[49m\u001b[43m(\u001b[49m\u001b[38;5;28;43minput\u001b[39;49m\u001b[43m,\u001b[49m\u001b[43m \u001b[49m\u001b[43mtimeout\u001b[49m\u001b[38;5;241;43m=\u001b[39;49m\u001b[43mtimeout\u001b[49m\u001b[43m)\u001b[49m\n\u001b[1;32m    504\u001b[0m     \u001b[38;5;28;01mexcept\u001b[39;00m TimeoutExpired \u001b[38;5;28;01mas\u001b[39;00m exc:\n\u001b[1;32m    505\u001b[0m         process\u001b[38;5;241m.\u001b[39mkill()\n",
      "File \u001b[0;32m/usr/lib/python3.10/subprocess.py:1144\u001b[0m, in \u001b[0;36mPopen.communicate\u001b[0;34m(self, input, timeout)\u001b[0m\n\u001b[1;32m   1142\u001b[0m         stderr \u001b[38;5;241m=\u001b[39m \u001b[38;5;28mself\u001b[39m\u001b[38;5;241m.\u001b[39mstderr\u001b[38;5;241m.\u001b[39mread()\n\u001b[1;32m   1143\u001b[0m         \u001b[38;5;28mself\u001b[39m\u001b[38;5;241m.\u001b[39mstderr\u001b[38;5;241m.\u001b[39mclose()\n\u001b[0;32m-> 1144\u001b[0m     \u001b[38;5;28;43mself\u001b[39;49m\u001b[38;5;241;43m.\u001b[39;49m\u001b[43mwait\u001b[49m\u001b[43m(\u001b[49m\u001b[43m)\u001b[49m\n\u001b[1;32m   1145\u001b[0m \u001b[38;5;28;01melse\u001b[39;00m:\n\u001b[1;32m   1146\u001b[0m     \u001b[38;5;28;01mif\u001b[39;00m timeout \u001b[38;5;129;01mis\u001b[39;00m \u001b[38;5;129;01mnot\u001b[39;00m \u001b[38;5;28;01mNone\u001b[39;00m:\n",
      "File \u001b[0;32m/usr/lib/python3.10/subprocess.py:1207\u001b[0m, in \u001b[0;36mPopen.wait\u001b[0;34m(self, timeout)\u001b[0m\n\u001b[1;32m   1205\u001b[0m     endtime \u001b[38;5;241m=\u001b[39m _time() \u001b[38;5;241m+\u001b[39m timeout\n\u001b[1;32m   1206\u001b[0m \u001b[38;5;28;01mtry\u001b[39;00m:\n\u001b[0;32m-> 1207\u001b[0m     \u001b[38;5;28;01mreturn\u001b[39;00m \u001b[38;5;28;43mself\u001b[39;49m\u001b[38;5;241;43m.\u001b[39;49m\u001b[43m_wait\u001b[49m\u001b[43m(\u001b[49m\u001b[43mtimeout\u001b[49m\u001b[38;5;241;43m=\u001b[39;49m\u001b[43mtimeout\u001b[49m\u001b[43m)\u001b[49m\n\u001b[1;32m   1208\u001b[0m \u001b[38;5;28;01mexcept\u001b[39;00m \u001b[38;5;167;01mKeyboardInterrupt\u001b[39;00m:\n\u001b[1;32m   1209\u001b[0m     \u001b[38;5;66;03m# https://bugs.python.org/issue25942\u001b[39;00m\n\u001b[1;32m   1210\u001b[0m     \u001b[38;5;66;03m# The first keyboard interrupt waits briefly for the child to\u001b[39;00m\n\u001b[1;32m   1211\u001b[0m     \u001b[38;5;66;03m# exit under the common assumption that it also received the ^C\u001b[39;00m\n\u001b[1;32m   1212\u001b[0m     \u001b[38;5;66;03m# generated SIGINT and will exit rapidly.\u001b[39;00m\n\u001b[1;32m   1213\u001b[0m     \u001b[38;5;28;01mif\u001b[39;00m timeout \u001b[38;5;129;01mis\u001b[39;00m \u001b[38;5;129;01mnot\u001b[39;00m \u001b[38;5;28;01mNone\u001b[39;00m:\n",
      "File \u001b[0;32m/usr/lib/python3.10/subprocess.py:1941\u001b[0m, in \u001b[0;36mPopen._wait\u001b[0;34m(self, timeout)\u001b[0m\n\u001b[1;32m   1939\u001b[0m \u001b[38;5;28;01mif\u001b[39;00m \u001b[38;5;28mself\u001b[39m\u001b[38;5;241m.\u001b[39mreturncode \u001b[38;5;129;01mis\u001b[39;00m \u001b[38;5;129;01mnot\u001b[39;00m \u001b[38;5;28;01mNone\u001b[39;00m:\n\u001b[1;32m   1940\u001b[0m     \u001b[38;5;28;01mbreak\u001b[39;00m  \u001b[38;5;66;03m# Another thread waited.\u001b[39;00m\n\u001b[0;32m-> 1941\u001b[0m (pid, sts) \u001b[38;5;241m=\u001b[39m \u001b[38;5;28;43mself\u001b[39;49m\u001b[38;5;241;43m.\u001b[39;49m\u001b[43m_try_wait\u001b[49m\u001b[43m(\u001b[49m\u001b[38;5;241;43m0\u001b[39;49m\u001b[43m)\u001b[49m\n\u001b[1;32m   1942\u001b[0m \u001b[38;5;66;03m# Check the pid and loop as waitpid has been known to\u001b[39;00m\n\u001b[1;32m   1943\u001b[0m \u001b[38;5;66;03m# return 0 even without WNOHANG in odd situations.\u001b[39;00m\n\u001b[1;32m   1944\u001b[0m \u001b[38;5;66;03m# http://bugs.python.org/issue14396.\u001b[39;00m\n\u001b[1;32m   1945\u001b[0m \u001b[38;5;28;01mif\u001b[39;00m pid \u001b[38;5;241m==\u001b[39m \u001b[38;5;28mself\u001b[39m\u001b[38;5;241m.\u001b[39mpid:\n",
      "File \u001b[0;32m/usr/lib/python3.10/subprocess.py:1899\u001b[0m, in \u001b[0;36mPopen._try_wait\u001b[0;34m(self, wait_flags)\u001b[0m\n\u001b[1;32m   1897\u001b[0m \u001b[38;5;124;03m\"\"\"All callers to this function MUST hold self._waitpid_lock.\"\"\"\u001b[39;00m\n\u001b[1;32m   1898\u001b[0m \u001b[38;5;28;01mtry\u001b[39;00m:\n\u001b[0;32m-> 1899\u001b[0m     (pid, sts) \u001b[38;5;241m=\u001b[39m \u001b[43mos\u001b[49m\u001b[38;5;241;43m.\u001b[39;49m\u001b[43mwaitpid\u001b[49m\u001b[43m(\u001b[49m\u001b[38;5;28;43mself\u001b[39;49m\u001b[38;5;241;43m.\u001b[39;49m\u001b[43mpid\u001b[49m\u001b[43m,\u001b[49m\u001b[43m \u001b[49m\u001b[43mwait_flags\u001b[49m\u001b[43m)\u001b[49m\n\u001b[1;32m   1900\u001b[0m \u001b[38;5;28;01mexcept\u001b[39;00m \u001b[38;5;167;01mChildProcessError\u001b[39;00m:\n\u001b[1;32m   1901\u001b[0m     \u001b[38;5;66;03m# This happens if SIGCLD is set to be ignored or waiting\u001b[39;00m\n\u001b[1;32m   1902\u001b[0m     \u001b[38;5;66;03m# for child processes has otherwise been disabled for our\u001b[39;00m\n\u001b[1;32m   1903\u001b[0m     \u001b[38;5;66;03m# process.  This child is dead, we can't get the status.\u001b[39;00m\n\u001b[1;32m   1904\u001b[0m     pid \u001b[38;5;241m=\u001b[39m \u001b[38;5;28mself\u001b[39m\u001b[38;5;241m.\u001b[39mpid\n",
      "\u001b[0;31mKeyboardInterrupt\u001b[0m: "
     ]
    }
   ],
   "source": [
    "runner = AutoRunner(input=data_src_cfg) \n",
    "''' \n",
    "Running AutoRunner will perform the following steps:\n",
    "1. Load the data source and the algorithm configuration.\n",
    "2. Load the data and preprocess it.\n",
    "3. Download the pre-trained model from the url specified in the algorithm configuration.\n",
    "4. Create folders for each algorithm. \n",
    "'''\n",
    "runner.run()"
   ]
  },
  {
   "cell_type": "code",
   "execution_count": 4,
   "metadata": {},
   "outputs": [
    {
     "name": "stdout",
     "output_type": "stream",
     "text": [
      "2024-03-29 19:38:38,908 - INFO - AutoRunner using work directory /var/data/student_home/lia/phuse_thesis_2024/monai_segmentation/monai_training/working_dir_training_from_scratch_0327\n",
      "2024-03-29 19:38:38,913 - INFO - Loading input config /var/data/student_home/lia/phuse_thesis_2024/monai_segmentation/monai_training/working_dir_training_from_scratch_0327/data_src_cfg.yaml\n",
      "2024-03-29 19:38:38,915 - INFO - Datalist was copied to work_dir: /var/data/student_home/lia/phuse_thesis_2024/monai_segmentation/monai_training/working_dir_training_from_scratch_0327/train.json\n",
      "2024-03-29 19:38:38,917 - INFO - Setting num_fold 5 based on the input datalist /var/data/student_home/lia/phuse_thesis_2024/monai_segmentation/monai_training/working_dir_training_from_scratch_0327/train.json.\n",
      "2024-03-29 19:38:38,947 - INFO - Using user defined command running prefix , will override other settings\n",
      "in auto_runner run\n",
      "2024-03-29 19:38:38,949 - INFO - Skipping data analysis...\n",
      "in auto_runner first part juhu, now algorithm generation...\n",
      "2024-03-29 19:38:38,950 - INFO - BundleGen from directory /var/data/student_home/lia/phuse_thesis_2024/monai_segmentation/DNN_models/algorithm_templates_yaml/\n",
      "2024-03-29 19:38:38,975 - INFO - Copying template: DynUnet_128_Dice_2 -- {'_target_': 'DynUnet_128_Dice_2.scripts.algo.Dynunet_128_dice_2Algo', 'template_path': '/var/data/student_home/lia/phuse_thesis_2024/monai_segmentation/monai_training/working_dir_training_from_scratch_0327/algorithm_templates'}\n",
      "2024-03-29 19:38:38,976 - INFO - Copying template: SwinUnetr -- {'_target_': 'SwinUnetr.scripts.algo.SwinunetrAlgo', 'template_path': '/var/data/student_home/lia/phuse_thesis_2024/monai_segmentation/monai_training/working_dir_training_from_scratch_0327/algorithm_templates'}\n",
      "2024-03-29 19:38:38,977 - INFO - Copying template: dints -- {'_target_': 'dints.scripts.algo.DintsAlgo', 'template_path': '/var/data/student_home/lia/phuse_thesis_2024/monai_segmentation/monai_training/working_dir_training_from_scratch_0327/algorithm_templates'}\n",
      "2024-03-29 19:38:38,978 - INFO - Copying template: segresnet -- {'_target_': 'segresnet.scripts.algo.SegresnetAlgo', 'template_path': '/var/data/student_home/lia/phuse_thesis_2024/monai_segmentation/monai_training/working_dir_training_from_scratch_0327/algorithm_templates'}\n",
      "2024-03-29 19:38:38,979 - INFO - Copying template: UNET -- {'_target_': 'UNET.scripts.algo.UnetAlgo', 'template_path': '/var/data/student_home/lia/phuse_thesis_2024/monai_segmentation/monai_training/working_dir_training_from_scratch_0327/algorithm_templates'}\n",
      "bundle was generated...\n",
      "2024-03-29 19:38:39,230 - INFO - Generated:/var/data/student_home/lia/phuse_thesis_2024/monai_segmentation/monai_training/working_dir_training_from_scratch_0327/UNET_0\n",
      "2024-03-29 19:38:39,299 - INFO - Generated:/var/data/student_home/lia/phuse_thesis_2024/monai_segmentation/monai_training/working_dir_training_from_scratch_0327/UNET_1\n",
      "2024-03-29 19:38:39,364 - INFO - Generated:/var/data/student_home/lia/phuse_thesis_2024/monai_segmentation/monai_training/working_dir_training_from_scratch_0327/UNET_2\n",
      "2024-03-29 19:38:39,429 - INFO - Generated:/var/data/student_home/lia/phuse_thesis_2024/monai_segmentation/monai_training/working_dir_training_from_scratch_0327/UNET_3\n",
      "2024-03-29 19:38:39,494 - INFO - Generated:/var/data/student_home/lia/phuse_thesis_2024/monai_segmentation/monai_training/working_dir_training_from_scratch_0327/UNET_4\n",
      "now starting training...\n",
      "in auto_runner _train_algo_in_sequence\n",
      "2024-03-29 19:38:39,546 - INFO - ['python', '/var/data/student_home/lia/phuse_thesis_2024/monai_segmentation/monai_training/working_dir_training_from_scratch_0327/UNET_0/scripts/train.py', 'run', \"--config_file='/var/data/student_home/lia/phuse_thesis_2024/monai_segmentation/monai_training/working_dir_training_from_scratch_0327/UNET_0/configs/hyper_parameters.yaml,/var/data/student_home/lia/phuse_thesis_2024/monai_segmentation/monai_training/working_dir_training_from_scratch_0327/UNET_0/configs/network.yaml,/var/data/student_home/lia/phuse_thesis_2024/monai_segmentation/monai_training/working_dir_training_from_scratch_0327/UNET_0/configs/transforms_infer.yaml,/var/data/student_home/lia/phuse_thesis_2024/monai_segmentation/monai_training/working_dir_training_from_scratch_0327/UNET_0/configs/transforms_train.yaml,/var/data/student_home/lia/phuse_thesis_2024/monai_segmentation/monai_training/working_dir_training_from_scratch_0327/UNET_0/configs/transforms_validate.yaml'\"]\n",
      "IN RUN OF PRINT\n",
      "amp True\n",
      "ckpt_path /var/data/student_home/lia/phuse_thesis_2024/monai_segmentation/monai_training/working_dir_training_from_scratch_0327/UNET_0/model\n",
      "data_file_base_dir /var/data/MONAI_Choroid_Plexus/dataset_monai_train_from_scratch\n",
      "data_list_file_path /var/data/student_home/lia/phuse_thesis_2024/monai_segmentation/monai_training/working_dir_training_from_scratch_0327/train.json\n",
      "determ False\n",
      "num_images_per_batch 2\n",
      "num_iterations 40000\n",
      "patch_size_valid [128, 128, 128]\n",
      "PARSING SUCCESSFUL!\n",
      "[info] number of GPUs: 1\n",
      "[info] world_size: 1\n"
     ]
    },
    {
     "name": "stderr",
     "output_type": "stream",
     "text": [
      "Traceback (most recent call last):\n",
      "  File \"/var/data/student_home/lia/phuse_thesis_2024/monai_segmentation/monai_training/working_dir_training_from_scratch_0327/UNET_0/scripts/train.py\", line 424, in <module>\n",
      "    fire.Fire()\n",
      "  File \"/var/data/student_home/lia/envs/base/lib/python3.10/site-packages/fire/core.py\", line 141, in Fire\n",
      "    component_trace = _Fire(component, args, parsed_flag_args, context, name)\n",
      "  File \"/var/data/student_home/lia/envs/base/lib/python3.10/site-packages/fire/core.py\", line 475, in _Fire\n",
      "    component, remaining_args = _CallAndUpdateTrace(\n",
      "  File \"/var/data/student_home/lia/envs/base/lib/python3.10/site-packages/fire/core.py\", line 691, in _CallAndUpdateTrace\n",
      "    component = fn(*varargs, **kwargs)\n",
      "  File \"/var/data/student_home/lia/phuse_thesis_2024/monai_segmentation/monai_training/working_dir_training_from_scratch_0327/UNET_0/scripts/train.py\", line 104, in run\n",
      "    for item in datalist[\"validation\"]:\n",
      "KeyError: 'validation'\n"
     ]
    },
    {
     "ename": "CalledProcessError",
     "evalue": "Command '['python', '/var/data/student_home/lia/phuse_thesis_2024/monai_segmentation/monai_training/working_dir_training_from_scratch_0327/UNET_0/scripts/train.py', 'run', \"--config_file='/var/data/student_home/lia/phuse_thesis_2024/monai_segmentation/monai_training/working_dir_training_from_scratch_0327/UNET_0/configs/hyper_parameters.yaml,/var/data/student_home/lia/phuse_thesis_2024/monai_segmentation/monai_training/working_dir_training_from_scratch_0327/UNET_0/configs/network.yaml,/var/data/student_home/lia/phuse_thesis_2024/monai_segmentation/monai_training/working_dir_training_from_scratch_0327/UNET_0/configs/transforms_infer.yaml,/var/data/student_home/lia/phuse_thesis_2024/monai_segmentation/monai_training/working_dir_training_from_scratch_0327/UNET_0/configs/transforms_train.yaml,/var/data/student_home/lia/phuse_thesis_2024/monai_segmentation/monai_training/working_dir_training_from_scratch_0327/UNET_0/configs/transforms_validate.yaml'\"]' returned non-zero exit status 1.",
     "output_type": "error",
     "traceback": [
      "\u001b[0;31m---------------------------------------------------------------------------\u001b[0m",
      "\u001b[0;31mCalledProcessError\u001b[0m                        Traceback (most recent call last)",
      "Cell \u001b[0;32mIn[4], line 6\u001b[0m\n\u001b[1;32m      4\u001b[0m templates_path_or_url \u001b[38;5;241m=\u001b[39m \u001b[38;5;124m\"\u001b[39m\u001b[38;5;124m/var/data/student_home/lia/phuse_thesis_2024/monai_segmentation/DNN_models/algorithm_templates_yaml/\u001b[39m\u001b[38;5;124m\"\u001b[39m\n\u001b[1;32m      5\u001b[0m runner \u001b[38;5;241m=\u001b[39m AutoRunner(work_dir\u001b[38;5;241m=\u001b[39mwork_dir, \u001b[38;5;28minput\u001b[39m\u001b[38;5;241m=\u001b[39m\u001b[38;5;28minput\u001b[39m, algos\u001b[38;5;241m=\u001b[39malgos, templates_path_or_url\u001b[38;5;241m=\u001b[39mtemplates_path_or_url)\n\u001b[0;32m----> 6\u001b[0m \u001b[43mrunner\u001b[49m\u001b[38;5;241;43m.\u001b[39;49m\u001b[43mrun\u001b[49m\u001b[43m(\u001b[49m\u001b[43m)\u001b[49m\n\u001b[1;32m      8\u001b[0m \u001b[38;5;66;03m#runner = AutoRunner(input=data_src_cfg, algo_gen=False) \u001b[39;00m\n\u001b[1;32m      9\u001b[0m \u001b[38;5;124;03m''' \u001b[39;00m\n\u001b[1;32m     10\u001b[0m \u001b[38;5;124;03mRunning AutoRunner will perform the following steps:\u001b[39;00m\n\u001b[1;32m     11\u001b[0m \u001b[38;5;124;03m1. Load the data source and the algorithm configuration.\u001b[39;00m\n\u001b[0;32m   (...)\u001b[0m\n\u001b[1;32m     14\u001b[0m \u001b[38;5;124;03m4. Create folders for each algorithm. \u001b[39;00m\n\u001b[1;32m     15\u001b[0m \u001b[38;5;124;03m'''\u001b[39;00m\n",
      "File \u001b[0;32m~/envs/base/lib/python3.10/site-packages/monai/apps/auto3dseg/auto_runner.py:821\u001b[0m, in \u001b[0;36mAutoRunner.run\u001b[0;34m(self)\u001b[0m\n\u001b[1;32m    819\u001b[0m \u001b[38;5;28;01mif\u001b[39;00m \u001b[38;5;28mlen\u001b[39m(history) \u001b[38;5;241m>\u001b[39m \u001b[38;5;241m0\u001b[39m:\n\u001b[1;32m    820\u001b[0m     \u001b[38;5;28;01mif\u001b[39;00m \u001b[38;5;129;01mnot\u001b[39;00m \u001b[38;5;28mself\u001b[39m\u001b[38;5;241m.\u001b[39mhpo:\n\u001b[0;32m--> 821\u001b[0m         \u001b[38;5;28;43mself\u001b[39;49m\u001b[38;5;241;43m.\u001b[39;49m\u001b[43m_train_algo_in_sequence\u001b[49m\u001b[43m(\u001b[49m\u001b[43mhistory\u001b[49m\u001b[43m)\u001b[49m\n\u001b[1;32m    822\u001b[0m     \u001b[38;5;28;01melse\u001b[39;00m:\n\u001b[1;32m    823\u001b[0m         \u001b[38;5;28mself\u001b[39m\u001b[38;5;241m.\u001b[39m_train_algo_in_nni(history)\n",
      "File \u001b[0;32m~/envs/base/lib/python3.10/site-packages/monai/apps/auto3dseg/auto_runner.py:661\u001b[0m, in \u001b[0;36mAutoRunner._train_algo_in_sequence\u001b[0;34m(self, history)\u001b[0m\n\u001b[1;32m    659\u001b[0m algo \u001b[38;5;241m=\u001b[39m algo_dict[AlgoKeys\u001b[38;5;241m.\u001b[39mALGO]\n\u001b[1;32m    660\u001b[0m \u001b[38;5;28;01mif\u001b[39;00m has_option(algo\u001b[38;5;241m.\u001b[39mtrain, \u001b[38;5;124m\"\u001b[39m\u001b[38;5;124mdevice_setting\u001b[39m\u001b[38;5;124m\"\u001b[39m):\n\u001b[0;32m--> 661\u001b[0m     \u001b[43malgo\u001b[49m\u001b[38;5;241;43m.\u001b[39;49m\u001b[43mtrain\u001b[49m\u001b[43m(\u001b[49m\u001b[38;5;28;43mself\u001b[39;49m\u001b[38;5;241;43m.\u001b[39;49m\u001b[43mtrain_params\u001b[49m\u001b[43m,\u001b[49m\u001b[43m \u001b[49m\u001b[38;5;28;43mself\u001b[39;49m\u001b[38;5;241;43m.\u001b[39;49m\u001b[43mdevice_setting\u001b[49m\u001b[43m)\u001b[49m\n\u001b[1;32m    662\u001b[0m \u001b[38;5;28;01melse\u001b[39;00m:\n\u001b[1;32m    663\u001b[0m     algo\u001b[38;5;241m.\u001b[39mtrain(\u001b[38;5;28mself\u001b[39m\u001b[38;5;241m.\u001b[39mtrain_params)\n",
      "File \u001b[0;32m~/envs/base/lib/python3.10/site-packages/monai/apps/auto3dseg/bundle_gen.py:278\u001b[0m, in \u001b[0;36mBundleAlgo.train\u001b[0;34m(self, train_params, device_setting)\u001b[0m\n\u001b[1;32m    275\u001b[0m     train_params\u001b[38;5;241m.\u001b[39mpop(\u001b[38;5;124m\"\u001b[39m\u001b[38;5;124mCUDA_VISIBLE_DEVICES\u001b[39m\u001b[38;5;124m\"\u001b[39m)\n\u001b[1;32m    277\u001b[0m cmd, _unused_return \u001b[38;5;241m=\u001b[39m \u001b[38;5;28mself\u001b[39m\u001b[38;5;241m.\u001b[39m_create_cmd(train_params)\n\u001b[0;32m--> 278\u001b[0m \u001b[38;5;28;01mreturn\u001b[39;00m \u001b[38;5;28;43mself\u001b[39;49m\u001b[38;5;241;43m.\u001b[39;49m\u001b[43m_run_cmd\u001b[49m\u001b[43m(\u001b[49m\u001b[43mcmd\u001b[49m\u001b[43m)\u001b[49m\n",
      "File \u001b[0;32m~/envs/base/lib/python3.10/site-packages/monai/apps/auto3dseg/bundle_gen.py:255\u001b[0m, in \u001b[0;36mBundleAlgo._run_cmd\u001b[0;34m(self, cmd, devices_info)\u001b[0m\n\u001b[1;32m    251\u001b[0m     \u001b[38;5;28;01mreturn\u001b[39;00m _run_cmd_torchrun(\n\u001b[1;32m    252\u001b[0m         cmd, nnodes\u001b[38;5;241m=\u001b[39m\u001b[38;5;241m1\u001b[39m, nproc_per_node\u001b[38;5;241m=\u001b[39m\u001b[38;5;28mself\u001b[39m\u001b[38;5;241m.\u001b[39mdevice_setting[\u001b[38;5;124m\"\u001b[39m\u001b[38;5;124mn_devices\u001b[39m\u001b[38;5;124m\"\u001b[39m], env\u001b[38;5;241m=\u001b[39mps_environ, check\u001b[38;5;241m=\u001b[39m\u001b[38;5;28;01mTrue\u001b[39;00m\n\u001b[1;32m    253\u001b[0m     )\n\u001b[1;32m    254\u001b[0m \u001b[38;5;28;01melse\u001b[39;00m:\n\u001b[0;32m--> 255\u001b[0m     \u001b[38;5;28;01mreturn\u001b[39;00m \u001b[43mrun_cmd\u001b[49m\u001b[43m(\u001b[49m\u001b[43mcmd\u001b[49m\u001b[38;5;241;43m.\u001b[39;49m\u001b[43msplit\u001b[49m\u001b[43m(\u001b[49m\u001b[43m)\u001b[49m\u001b[43m,\u001b[49m\u001b[43m \u001b[49m\u001b[43mrun_cmd_verbose\u001b[49m\u001b[38;5;241;43m=\u001b[39;49m\u001b[38;5;28;43;01mTrue\u001b[39;49;00m\u001b[43m,\u001b[49m\u001b[43m \u001b[49m\u001b[43menv\u001b[49m\u001b[38;5;241;43m=\u001b[39;49m\u001b[43mps_environ\u001b[49m\u001b[43m,\u001b[49m\u001b[43m \u001b[49m\u001b[43mcheck\u001b[49m\u001b[38;5;241;43m=\u001b[39;49m\u001b[38;5;28;43;01mTrue\u001b[39;49;00m\u001b[43m)\u001b[49m\n",
      "File \u001b[0;32m~/envs/base/lib/python3.10/site-packages/monai/utils/misc.py:874\u001b[0m, in \u001b[0;36mrun_cmd\u001b[0;34m(cmd_list, **kwargs)\u001b[0m\n\u001b[1;32m    872\u001b[0m     monai\u001b[38;5;241m.\u001b[39mapps\u001b[38;5;241m.\u001b[39mutils\u001b[38;5;241m.\u001b[39mget_logger(\u001b[38;5;124m\"\u001b[39m\u001b[38;5;124mrun_cmd\u001b[39m\u001b[38;5;124m\"\u001b[39m)\u001b[38;5;241m.\u001b[39minfo(\u001b[38;5;124mf\u001b[39m\u001b[38;5;124m\"\u001b[39m\u001b[38;5;132;01m{\u001b[39;00mcmd_list\u001b[38;5;132;01m}\u001b[39;00m\u001b[38;5;124m\"\u001b[39m)\n\u001b[1;32m    873\u001b[0m \u001b[38;5;28;01mtry\u001b[39;00m:\n\u001b[0;32m--> 874\u001b[0m     \u001b[38;5;28;01mreturn\u001b[39;00m \u001b[43msubprocess\u001b[49m\u001b[38;5;241;43m.\u001b[39;49m\u001b[43mrun\u001b[49m\u001b[43m(\u001b[49m\u001b[43mcmd_list\u001b[49m\u001b[43m,\u001b[49m\u001b[43m \u001b[49m\u001b[38;5;241;43m*\u001b[39;49m\u001b[38;5;241;43m*\u001b[39;49m\u001b[43mkwargs\u001b[49m\u001b[43m)\u001b[49m\n\u001b[1;32m    875\u001b[0m \u001b[38;5;28;01mexcept\u001b[39;00m subprocess\u001b[38;5;241m.\u001b[39mCalledProcessError \u001b[38;5;28;01mas\u001b[39;00m e:\n\u001b[1;32m    876\u001b[0m     \u001b[38;5;28;01mif\u001b[39;00m \u001b[38;5;129;01mnot\u001b[39;00m debug:\n",
      "File \u001b[0;32m/usr/lib/python3.10/subprocess.py:524\u001b[0m, in \u001b[0;36mrun\u001b[0;34m(input, capture_output, timeout, check, *popenargs, **kwargs)\u001b[0m\n\u001b[1;32m    522\u001b[0m     retcode \u001b[38;5;241m=\u001b[39m process\u001b[38;5;241m.\u001b[39mpoll()\n\u001b[1;32m    523\u001b[0m     \u001b[38;5;28;01mif\u001b[39;00m check \u001b[38;5;129;01mand\u001b[39;00m retcode:\n\u001b[0;32m--> 524\u001b[0m         \u001b[38;5;28;01mraise\u001b[39;00m CalledProcessError(retcode, process\u001b[38;5;241m.\u001b[39margs,\n\u001b[1;32m    525\u001b[0m                                  output\u001b[38;5;241m=\u001b[39mstdout, stderr\u001b[38;5;241m=\u001b[39mstderr)\n\u001b[1;32m    526\u001b[0m \u001b[38;5;28;01mreturn\u001b[39;00m CompletedProcess(process\u001b[38;5;241m.\u001b[39margs, retcode, stdout, stderr)\n",
      "\u001b[0;31mCalledProcessError\u001b[0m: Command '['python', '/var/data/student_home/lia/phuse_thesis_2024/monai_segmentation/monai_training/working_dir_training_from_scratch_0327/UNET_0/scripts/train.py', 'run', \"--config_file='/var/data/student_home/lia/phuse_thesis_2024/monai_segmentation/monai_training/working_dir_training_from_scratch_0327/UNET_0/configs/hyper_parameters.yaml,/var/data/student_home/lia/phuse_thesis_2024/monai_segmentation/monai_training/working_dir_training_from_scratch_0327/UNET_0/configs/network.yaml,/var/data/student_home/lia/phuse_thesis_2024/monai_segmentation/monai_training/working_dir_training_from_scratch_0327/UNET_0/configs/transforms_infer.yaml,/var/data/student_home/lia/phuse_thesis_2024/monai_segmentation/monai_training/working_dir_training_from_scratch_0327/UNET_0/configs/transforms_train.yaml,/var/data/student_home/lia/phuse_thesis_2024/monai_segmentation/monai_training/working_dir_training_from_scratch_0327/UNET_0/configs/transforms_validate.yaml'\"]' returned non-zero exit status 1."
     ]
    }
   ],
   "source": [
    "work_dir = work_dir\n",
    "input = data_src_cfg\n",
    "algos = \"UNET\"\n",
    "templates_path_or_url = \"/var/data/student_home/lia/phuse_thesis_2024/monai_segmentation/DNN_models/algorithm_templates_yaml/\"\n",
    "runner = AutoRunner(work_dir=work_dir, input=input, algos=algos, templates_path_or_url=templates_path_or_url)\n",
    "runner.run()\n",
    "\n",
    "#runner = AutoRunner(input=data_src_cfg, algo_gen=False) \n",
    "''' \n",
    "Running AutoRunner will perform the following steps:\n",
    "1. Load the data source and the algorithm configuration.\n",
    "2. Load the data and preprocess it.\n",
    "3. Download the pre-trained model from the url specified in the algorithm configuration.\n",
    "4. Create folders for each algorithm. \n",
    "'''\n",
    "#runner.run()\n",
    "\n",
    "# this also does not work because there are no algorithms in the working directory. This means, we need to create the algorithms first and then run the AutoRunner again. \n",
    "# Therefore, we need to modify the BundleGen and AlgoGen scripts. "
   ]
  },
  {
   "cell_type": "code",
   "execution_count": null,
   "metadata": {},
   "outputs": [],
   "source": []
  }
 ],
 "metadata": {
  "kernelspec": {
   "display_name": "base",
   "language": "python",
   "name": "python3"
  },
  "language_info": {
   "codemirror_mode": {
    "name": "ipython",
    "version": 3
   },
   "file_extension": ".py",
   "mimetype": "text/x-python",
   "name": "python",
   "nbconvert_exporter": "python",
   "pygments_lexer": "ipython3",
   "version": "3.10.6"
  }
 },
 "nbformat": 4,
 "nbformat_minor": 2
}
