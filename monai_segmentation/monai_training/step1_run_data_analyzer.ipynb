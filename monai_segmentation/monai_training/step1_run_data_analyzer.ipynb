{
 "cells": [
  {
   "cell_type": "markdown",
   "metadata": {},
   "source": [
    "### Setup Imports"
   ]
  },
  {
   "cell_type": "code",
   "execution_count": 22,
   "metadata": {},
   "outputs": [],
   "source": [
    "import os\n",
    "import nibabel as nib\n",
    "import numpy as np\n",
    "import json\n",
    "\n",
    "from monai.apps.auto3dseg import DataAnalyzer\n",
    "from monai.config import print_config\n",
    "from monai.bundle.config_parser import ConfigParser"
   ]
  },
  {
   "cell_type": "markdown",
   "metadata": {},
   "source": [
    "### Run the DataAnalyzer on datasets"
   ]
  },
  {
   "cell_type": "code",
   "execution_count": 17,
   "metadata": {},
   "outputs": [],
   "source": [
    "\n",
    "json_path = \"/var/data/student_home/lia/thesis/monai_segmentation/monai_training/JSON_dir/train.json\"\n",
    "\n",
    "datalist = [] # your list with json objects (dicts)\n",
    "\n",
    "with open(json_path) as json_file:\n",
    "   datalist = json.load(json_file)\n"
   ]
  },
  {
   "cell_type": "code",
   "execution_count": 18,
   "metadata": {},
   "outputs": [
    {
     "data": {
      "text/plain": [
       "{'description': 'Dataset for Choroid Plexus segmentation',\n",
       " 'labels': {'0': 'background', '1': 'Choroid Plexus'},\n",
       " 'modality': {'0': 'MR'},\n",
       " 'name': 'MRI Dataset - Choroid Plexus Segmentation',\n",
       " 'numTraining': 29,\n",
       " 'tensorImageSize': '3D',\n",
       " 'training': [{'fold': 0,\n",
       "   'image': '/var/data/MONAI_Choroid_Plexus/dataset_train_from_scratch_monai/0_ChP.nii.gz',\n",
       "   'label': '/var/data/MONAI_Choroid_Plexus/dataset_train_from_scratch_monai/labels/final/0_ChP.nii.gz'},\n",
       "  {'fold': 0,\n",
       "   'image': '/var/data/MONAI_Choroid_Plexus/dataset_train_from_scratch_monai/10_ChP.nii.gz',\n",
       "   'label': '/var/data/MONAI_Choroid_Plexus/dataset_train_from_scratch_monai/labels/final/10_ChP.nii.gz'},\n",
       "  {'fold': 0,\n",
       "   'image': '/var/data/MONAI_Choroid_Plexus/dataset_train_from_scratch_monai/11_ChP.nii.gz',\n",
       "   'label': '/var/data/MONAI_Choroid_Plexus/dataset_train_from_scratch_monai/labels/final/11_ChP.nii.gz'},\n",
       "  {'fold': 0,\n",
       "   'image': '/var/data/MONAI_Choroid_Plexus/dataset_train_from_scratch_monai/12_ChP.nii.gz',\n",
       "   'label': '/var/data/MONAI_Choroid_Plexus/dataset_train_from_scratch_monai/labels/final/12_ChP.nii.gz'},\n",
       "  {'fold': 0,\n",
       "   'image': '/var/data/MONAI_Choroid_Plexus/dataset_train_from_scratch_monai/13_ChP.nii.gz',\n",
       "   'label': '/var/data/MONAI_Choroid_Plexus/dataset_train_from_scratch_monai/labels/final/13_ChP.nii.gz'},\n",
       "  {'fold': 1,\n",
       "   'image': '/var/data/MONAI_Choroid_Plexus/dataset_train_from_scratch_monai/14_ChP.nii.gz',\n",
       "   'label': '/var/data/MONAI_Choroid_Plexus/dataset_train_from_scratch_monai/labels/final/14_ChP.nii.gz'},\n",
       "  {'fold': 1,\n",
       "   'image': '/var/data/MONAI_Choroid_Plexus/dataset_train_from_scratch_monai/15_ChP.nii.gz',\n",
       "   'label': '/var/data/MONAI_Choroid_Plexus/dataset_train_from_scratch_monai/labels/final/15_ChP.nii.gz'},\n",
       "  {'fold': 1,\n",
       "   'image': '/var/data/MONAI_Choroid_Plexus/dataset_train_from_scratch_monai/16_ChP.nii.gz',\n",
       "   'label': '/var/data/MONAI_Choroid_Plexus/dataset_train_from_scratch_monai/labels/final/16_ChP.nii.gz'},\n",
       "  {'fold': 1,\n",
       "   'image': '/var/data/MONAI_Choroid_Plexus/dataset_train_from_scratch_monai/17_ChP.nii.gz',\n",
       "   'label': '/var/data/MONAI_Choroid_Plexus/dataset_train_from_scratch_monai/labels/final/17_ChP.nii.gz'},\n",
       "  {'fold': 1,\n",
       "   'image': '/var/data/MONAI_Choroid_Plexus/dataset_train_from_scratch_monai/18_ChP.nii.gz',\n",
       "   'label': '/var/data/MONAI_Choroid_Plexus/dataset_train_from_scratch_monai/labels/final/18_ChP.nii.gz'},\n",
       "  {'fold': 2,\n",
       "   'image': '/var/data/MONAI_Choroid_Plexus/dataset_train_from_scratch_monai/19_ChP.nii.gz',\n",
       "   'label': '/var/data/MONAI_Choroid_Plexus/dataset_train_from_scratch_monai/labels/final/19_ChP.nii.gz'},\n",
       "  {'fold': 2,\n",
       "   'image': '/var/data/MONAI_Choroid_Plexus/dataset_train_from_scratch_monai/1_ChP.nii.gz',\n",
       "   'label': '/var/data/MONAI_Choroid_Plexus/dataset_train_from_scratch_monai/labels/final/1_ChP.nii.gz'},\n",
       "  {'fold': 2,\n",
       "   'image': '/var/data/MONAI_Choroid_Plexus/dataset_train_from_scratch_monai/20_ChP.nii.gz',\n",
       "   'label': '/var/data/MONAI_Choroid_Plexus/dataset_train_from_scratch_monai/labels/final/20_ChP.nii.gz'},\n",
       "  {'fold': 2,\n",
       "   'image': '/var/data/MONAI_Choroid_Plexus/dataset_train_from_scratch_monai/21_ChP.nii.gz',\n",
       "   'label': '/var/data/MONAI_Choroid_Plexus/dataset_train_from_scratch_monai/labels/final/21_ChP.nii.gz'},\n",
       "  {'fold': 2,\n",
       "   'image': '/var/data/MONAI_Choroid_Plexus/dataset_train_from_scratch_monai/22_ChP.nii.gz',\n",
       "   'label': '/var/data/MONAI_Choroid_Plexus/dataset_train_from_scratch_monai/labels/final/22_ChP.nii.gz'},\n",
       "  {'fold': 3,\n",
       "   'image': '/var/data/MONAI_Choroid_Plexus/dataset_train_from_scratch_monai/23_ChP.nii.gz',\n",
       "   'label': '/var/data/MONAI_Choroid_Plexus/dataset_train_from_scratch_monai/labels/final/23_ChP.nii.gz'},\n",
       "  {'fold': 3,\n",
       "   'image': '/var/data/MONAI_Choroid_Plexus/dataset_train_from_scratch_monai/24_ChP.nii.gz',\n",
       "   'label': '/var/data/MONAI_Choroid_Plexus/dataset_train_from_scratch_monai/labels/final/24_ChP.nii.gz'},\n",
       "  {'fold': 3,\n",
       "   'image': '/var/data/MONAI_Choroid_Plexus/dataset_train_from_scratch_monai/25_ChP.nii.gz',\n",
       "   'label': '/var/data/MONAI_Choroid_Plexus/dataset_train_from_scratch_monai/labels/final/25_ChP.nii.gz'},\n",
       "  {'fold': 3,\n",
       "   'image': '/var/data/MONAI_Choroid_Plexus/dataset_train_from_scratch_monai/26_ChP.nii.gz',\n",
       "   'label': '/var/data/MONAI_Choroid_Plexus/dataset_train_from_scratch_monai/labels/final/26_ChP.nii.gz'},\n",
       "  {'fold': 3,\n",
       "   'image': '/var/data/MONAI_Choroid_Plexus/dataset_train_from_scratch_monai/28_ChP.nii.gz',\n",
       "   'label': '/var/data/MONAI_Choroid_Plexus/dataset_train_from_scratch_monai/labels/final/28_ChP.nii.gz'},\n",
       "  {'fold': 4,\n",
       "   'image': '/var/data/MONAI_Choroid_Plexus/dataset_train_from_scratch_monai/29_ChP.nii.gz',\n",
       "   'label': '/var/data/MONAI_Choroid_Plexus/dataset_train_from_scratch_monai/labels/final/29_ChP.nii.gz'},\n",
       "  {'fold': 4,\n",
       "   'image': '/var/data/MONAI_Choroid_Plexus/dataset_train_from_scratch_monai/2_ChP.nii.gz',\n",
       "   'label': '/var/data/MONAI_Choroid_Plexus/dataset_train_from_scratch_monai/labels/final/2_ChP.nii.gz'},\n",
       "  {'fold': 4,\n",
       "   'image': '/var/data/MONAI_Choroid_Plexus/dataset_train_from_scratch_monai/3_ChP.nii.gz',\n",
       "   'label': '/var/data/MONAI_Choroid_Plexus/dataset_train_from_scratch_monai/labels/final/3_ChP.nii.gz'},\n",
       "  {'fold': 4,\n",
       "   'image': '/var/data/MONAI_Choroid_Plexus/dataset_train_from_scratch_monai/4_ChP.nii.gz',\n",
       "   'label': '/var/data/MONAI_Choroid_Plexus/dataset_train_from_scratch_monai/labels/final/4_ChP.nii.gz'},\n",
       "  {'fold': 4,\n",
       "   'image': '/var/data/MONAI_Choroid_Plexus/dataset_train_from_scratch_monai/5_ChP.nii.gz',\n",
       "   'label': '/var/data/MONAI_Choroid_Plexus/dataset_train_from_scratch_monai/labels/final/5_ChP.nii.gz'},\n",
       "  {'fold': 0,\n",
       "   'image': '/var/data/MONAI_Choroid_Plexus/dataset_train_from_scratch_monai/6_ChP.nii.gz',\n",
       "   'label': '/var/data/MONAI_Choroid_Plexus/dataset_train_from_scratch_monai/labels/final/6_ChP.nii.gz'},\n",
       "  {'fold': 0,\n",
       "   'image': '/var/data/MONAI_Choroid_Plexus/dataset_train_from_scratch_monai/7_ChP.nii.gz',\n",
       "   'label': '/var/data/MONAI_Choroid_Plexus/dataset_train_from_scratch_monai/labels/final/7_ChP.nii.gz'},\n",
       "  {'fold': 0,\n",
       "   'image': '/var/data/MONAI_Choroid_Plexus/dataset_train_from_scratch_monai/8_ChP.nii.gz',\n",
       "   'label': '/var/data/MONAI_Choroid_Plexus/dataset_train_from_scratch_monai/labels/final/8_ChP.nii.gz'},\n",
       "  {'fold': 0,\n",
       "   'image': '/var/data/MONAI_Choroid_Plexus/dataset_train_from_scratch_monai/9_ChP.nii.gz',\n",
       "   'label': '/var/data/MONAI_Choroid_Plexus/dataset_train_from_scratch_monai/labels/final/9_ChP.nii.gz'}]}"
      ]
     },
     "execution_count": 18,
     "metadata": {},
     "output_type": "execute_result"
    }
   ],
   "source": [
    "datalist"
   ]
  },
  {
   "cell_type": "code",
   "execution_count": 20,
   "metadata": {},
   "outputs": [
    {
     "name": "stdout",
     "output_type": "stream",
     "text": [
      "2024-02-13 17:00:16,988 - INFO - Found 1 GPUs for data analyzing!\n"
     ]
    },
    {
     "name": "stderr",
     "output_type": "stream",
     "text": [
      " 31%|███       | 9/29 [00:12<00:19,  1.03it/s]"
     ]
    },
    {
     "name": "stdout",
     "output_type": "stream",
     "text": [
      "2024-02-13 17:00:29,888 - INFO - Unable to process data /var/data/MONAI_Choroid_Plexus/dataset_train_from_scratch_monai/18_ChP.nii.gz on cuda:0. applying transform <monai.auto3dseg.analyzer.ImageStats object at 0x7f2420821fc0>\n",
      "2024-02-13 17:00:29,889 - INFO - DataAnalyzer `device` set to GPU execution hit an exception. Falling back to `cpu`.\n"
     ]
    },
    {
     "name": "stderr",
     "output_type": "stream",
     "text": [
      " 38%|███▊      | 11/29 [00:19<00:35,  1.99s/it]"
     ]
    },
    {
     "name": "stdout",
     "output_type": "stream",
     "text": [
      "2024-02-13 17:00:37,306 - INFO - Unable to process data /var/data/MONAI_Choroid_Plexus/dataset_train_from_scratch_monai/1_ChP.nii.gz on cuda:0. applying transform <monai.auto3dseg.analyzer.LabelStats object at 0x7f24208ac4f0>\n",
      "2024-02-13 17:00:37,307 - INFO - DataAnalyzer `device` set to GPU execution hit an exception. Falling back to `cpu`.\n"
     ]
    },
    {
     "name": "stderr",
     "output_type": "stream",
     "text": [
      " 52%|█████▏    | 15/29 [00:27<00:21,  1.54s/it]"
     ]
    },
    {
     "name": "stdout",
     "output_type": "stream",
     "text": [
      "2024-02-13 17:00:45,640 - INFO - Unable to process data /var/data/MONAI_Choroid_Plexus/dataset_train_from_scratch_monai/23_ChP.nii.gz on cuda:0. applying transform <monai.auto3dseg.analyzer.LabelStats object at 0x7f24208ac4f0>\n",
      "2024-02-13 17:00:45,641 - INFO - DataAnalyzer `device` set to GPU execution hit an exception. Falling back to `cpu`.\n"
     ]
    },
    {
     "name": "stderr",
     "output_type": "stream",
     "text": [
      " 76%|███████▌  | 22/29 [00:38<00:06,  1.13it/s]"
     ]
    },
    {
     "name": "stdout",
     "output_type": "stream",
     "text": [
      "2024-02-13 17:00:55,113 - INFO - Unable to process data /var/data/MONAI_Choroid_Plexus/dataset_train_from_scratch_monai/3_ChP.nii.gz on cuda:0. applying transform <monai.auto3dseg.analyzer.ImageStats object at 0x7f2420821fc0>\n",
      "2024-02-13 17:00:55,114 - INFO - DataAnalyzer `device` set to GPU execution hit an exception. Falling back to `cpu`.\n"
     ]
    },
    {
     "name": "stderr",
     "output_type": "stream",
     "text": [
      " 83%|████████▎ | 24/29 [00:44<00:09,  1.85s/it]"
     ]
    },
    {
     "name": "stdout",
     "output_type": "stream",
     "text": [
      "2024-02-13 17:01:02,453 - INFO - Unable to process data /var/data/MONAI_Choroid_Plexus/dataset_train_from_scratch_monai/5_ChP.nii.gz on cuda:0. applying transform <monai.auto3dseg.analyzer.LabelStats object at 0x7f24208ac4f0>\n",
      "2024-02-13 17:01:02,454 - INFO - DataAnalyzer `device` set to GPU execution hit an exception. Falling back to `cpu`.\n"
     ]
    },
    {
     "name": "stderr",
     "output_type": "stream",
     "text": [
      " 97%|█████████▋| 28/29 [00:53<00:01,  1.55s/it]"
     ]
    },
    {
     "name": "stdout",
     "output_type": "stream",
     "text": [
      "2024-02-13 17:01:10,390 - INFO - Unable to process data /var/data/MONAI_Choroid_Plexus/dataset_train_from_scratch_monai/9_ChP.nii.gz on cuda:0. applying transform <monai.auto3dseg.analyzer.ImageStats object at 0x7f2420821fc0>\n",
      "2024-02-13 17:01:10,391 - INFO - DataAnalyzer `device` set to GPU execution hit an exception. Falling back to `cpu`.\n"
     ]
    },
    {
     "name": "stderr",
     "output_type": "stream",
     "text": [
      "100%|██████████| 29/29 [00:59<00:00,  2.05s/it]\n"
     ]
    },
    {
     "name": "stdout",
     "output_type": "stream",
     "text": [
      "2024-02-13 17:01:16,622 - INFO - Data spacing is not completely uniform. MONAI transforms may provide unexpected result\n",
      "2024-02-13 17:01:16,623 - INFO - Writing data stats to /var/data/student_home/lia/thesis/monai_segmentation/monai_training/working_directory_finetuning/datastats.yaml.\n",
      "2024-02-13 17:01:16,640 - INFO - Writing by-case data stats to /var/data/student_home/lia/thesis/monai_segmentation/monai_training/working_directory_finetuning/datastats_by_case.yaml, this may take a while.\n"
     ]
    }
   ],
   "source": [
    "work_dir = os.path.join(\"/var/data/student_home/lia/thesis/monai_segmentation/monai_training\", 'working_directory_finetuning') \n",
    "dataroot = \"/var/data/MONAI_Choroid_Plexus/dataset_train_from_scratch_monai\"\n",
    "\n",
    "# create working directory\n",
    "if not os.path.isdir(work_dir):\n",
    "    os.makedirs(work_dir)\n",
    "if not os.path.isdir(dataroot):\n",
    "    os.makedirs(dataroot)\n",
    "\n",
    "da_output_yaml = os.path.join(work_dir, \"datastats.yaml\")\n",
    "\n",
    "analyser = DataAnalyzer(datalist, dataroot, output_path=da_output_yaml)\n",
    "   \n",
    "analyser.get_all_case_stats()\n",
    "\n",
    "data_src = {\n",
    "    \"modality\": \"MRI\",\n",
    "    \"datalist\": datalist,\n",
    "    \"dataroot\": dataroot,\n",
    "}\n"
   ]
  },
  {
   "cell_type": "code",
   "execution_count": 23,
   "metadata": {},
   "outputs": [],
   "source": [
    "data_src_cfg = os.path.join(work_dir, \"data_src_cfg.yaml\")\n",
    "ConfigParser.export_config_file(data_src, data_src_cfg)"
   ]
  },
  {
   "cell_type": "markdown",
   "metadata": {},
   "source": [
    "## Training # TODO"
   ]
  },
  {
   "cell_type": "code",
   "execution_count": null,
   "metadata": {},
   "outputs": [],
   "source": [
    "class Trainer:\n",
    "\n",
    "    # Class to train a Neural Network from scratch\n",
    "\n",
    "    # initialization\n",
    "    def __init__(self, work_dir: str=\".\", dataroot: str = \".\", json_file: str = \".\", output_dir=None):\n",
    "\n",
    "        self.workdir=work_dir\n",
    "        self.dataroot=dataroot\n",
    "        self.JSON_file=json_file\n",
    "        if output_dir is None:\n",
    "            self.output_dir=os.path.join(self.workdir, 'working_directory_finetuning')\n",
    "        elif  isinstance(output_dir, str):\n",
    "            self.output_dir=output_dir\n",
    "    \n",
    "    def finetuning_run(self):\n",
    "\n",
    "        dataroot = self.dataroot\n",
    "        work_dir = self.output_dir\n",
    "\n",
    "        # create working directory\n",
    "        if not os.path.isdir(work_dir):\n",
    "            os.makedirs(work_dir)\n",
    "\n",
    "        algorithm_path=os.path.join(self.workdir, 'DNN_models', 'algorithm_templates')\n",
    "\n",
    "        da_output_yaml = os.path.join(work_dir, \"datastats.yaml\")\n",
    "        data_src_cfg = os.path.join(work_dir, \"data_src_cfg.yaml\")\n",
    "\n",
    "        if not os.path.isdir(dataroot):\n",
    "            os.makedirs(dataroot)\n",
    "\n",
    "        if not os.path.isdir(work_dir):\n",
    "            os.makedirs(work_dir)\n",
    "\n",
    "\n",
    "        # write to a json file\n",
    "        datalist = self.JSON_file\n",
    "\n",
    "        # 1. Analyze Dataset\n",
    "\n",
    "        da = DataAnalyzer(datalist, dataroot, output_path=da_output_yaml)\n",
    "        da.get_all_case_stats()\n",
    "\n",
    "        data_src = {\n",
    "            \"modality\": \"MRI\",\n",
    "            \"datalist\": datalist,\n",
    "            \"dataroot\": dataroot,\n",
    "        }\n",
    "\n",
    "        ConfigParser.export_config_file(data_src, data_src_cfg)\n"
   ]
  }
 ],
 "metadata": {
  "kernelspec": {
   "display_name": "base",
   "language": "python",
   "name": "python3"
  },
  "language_info": {
   "codemirror_mode": {
    "name": "ipython",
    "version": 3
   },
   "file_extension": ".py",
   "mimetype": "text/x-python",
   "name": "python",
   "nbconvert_exporter": "python",
   "pygments_lexer": "ipython3",
   "version": "3.10.6"
  }
 },
 "nbformat": 4,
 "nbformat_minor": 2
}
