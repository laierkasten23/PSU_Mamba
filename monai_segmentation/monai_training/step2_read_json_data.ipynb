{
 "cells": [
  {
   "cell_type": "markdown",
   "metadata": {},
   "source": [
    "## Demo to show how to read json file for training and building the dataset"
   ]
  },
  {
   "cell_type": "code",
   "execution_count": 11,
   "metadata": {},
   "outputs": [],
   "source": [
    "import monai\n",
    "from monai.data import load_decathlon_datalist, list_data_collate, CacheDataset, DataLoader\n",
    "from monai.transforms import (\n",
    "    Activations,\n",
    "    EnsureChannelFirstd,\n",
    "    AsDiscrete,\n",
    "    Compose,\n",
    "    LoadImaged,\n",
    "    RandCropByPosNegLabeld,\n",
    "    RandRotate90d,\n",
    "    ScaleIntensityd,\n",
    ")"
   ]
  },
  {
   "cell_type": "code",
   "execution_count": 1,
   "metadata": {},
   "outputs": [],
   "source": [
    "datalist = \"/var/data/student_home/lia/thesis/monai_segmentation/monai_training/JSON_dir/train.json\""
   ]
  },
  {
   "cell_type": "code",
   "execution_count": 3,
   "metadata": {},
   "outputs": [],
   "source": [
    "train_files = load_decathlon_datalist(data_list_file_path=datalist, is_segmentation=True, data_list_key='training')"
   ]
  },
  {
   "cell_type": "code",
   "execution_count": 4,
   "metadata": {},
   "outputs": [
    {
     "data": {
      "text/plain": [
       "[{'fold': 0,\n",
       "  'image': '/var/data/MONAI_Choroid_Plexus/dataset_train_from_scratch_monai/0_ChP.nii.gz',\n",
       "  'label': '/var/data/MONAI_Choroid_Plexus/dataset_train_from_scratch_monai/labels/final/0_ChP.nii.gz'},\n",
       " {'fold': 0,\n",
       "  'image': '/var/data/MONAI_Choroid_Plexus/dataset_train_from_scratch_monai/10_ChP.nii.gz',\n",
       "  'label': '/var/data/MONAI_Choroid_Plexus/dataset_train_from_scratch_monai/labels/final/10_ChP.nii.gz'},\n",
       " {'fold': 0,\n",
       "  'image': '/var/data/MONAI_Choroid_Plexus/dataset_train_from_scratch_monai/11_ChP.nii.gz',\n",
       "  'label': '/var/data/MONAI_Choroid_Plexus/dataset_train_from_scratch_monai/labels/final/11_ChP.nii.gz'},\n",
       " {'fold': 0,\n",
       "  'image': '/var/data/MONAI_Choroid_Plexus/dataset_train_from_scratch_monai/12_ChP.nii.gz',\n",
       "  'label': '/var/data/MONAI_Choroid_Plexus/dataset_train_from_scratch_monai/labels/final/12_ChP.nii.gz'},\n",
       " {'fold': 0,\n",
       "  'image': '/var/data/MONAI_Choroid_Plexus/dataset_train_from_scratch_monai/13_ChP.nii.gz',\n",
       "  'label': '/var/data/MONAI_Choroid_Plexus/dataset_train_from_scratch_monai/labels/final/13_ChP.nii.gz'},\n",
       " {'fold': 1,\n",
       "  'image': '/var/data/MONAI_Choroid_Plexus/dataset_train_from_scratch_monai/14_ChP.nii.gz',\n",
       "  'label': '/var/data/MONAI_Choroid_Plexus/dataset_train_from_scratch_monai/labels/final/14_ChP.nii.gz'},\n",
       " {'fold': 1,\n",
       "  'image': '/var/data/MONAI_Choroid_Plexus/dataset_train_from_scratch_monai/15_ChP.nii.gz',\n",
       "  'label': '/var/data/MONAI_Choroid_Plexus/dataset_train_from_scratch_monai/labels/final/15_ChP.nii.gz'},\n",
       " {'fold': 1,\n",
       "  'image': '/var/data/MONAI_Choroid_Plexus/dataset_train_from_scratch_monai/16_ChP.nii.gz',\n",
       "  'label': '/var/data/MONAI_Choroid_Plexus/dataset_train_from_scratch_monai/labels/final/16_ChP.nii.gz'},\n",
       " {'fold': 1,\n",
       "  'image': '/var/data/MONAI_Choroid_Plexus/dataset_train_from_scratch_monai/17_ChP.nii.gz',\n",
       "  'label': '/var/data/MONAI_Choroid_Plexus/dataset_train_from_scratch_monai/labels/final/17_ChP.nii.gz'},\n",
       " {'fold': 1,\n",
       "  'image': '/var/data/MONAI_Choroid_Plexus/dataset_train_from_scratch_monai/18_ChP.nii.gz',\n",
       "  'label': '/var/data/MONAI_Choroid_Plexus/dataset_train_from_scratch_monai/labels/final/18_ChP.nii.gz'},\n",
       " {'fold': 2,\n",
       "  'image': '/var/data/MONAI_Choroid_Plexus/dataset_train_from_scratch_monai/19_ChP.nii.gz',\n",
       "  'label': '/var/data/MONAI_Choroid_Plexus/dataset_train_from_scratch_monai/labels/final/19_ChP.nii.gz'},\n",
       " {'fold': 2,\n",
       "  'image': '/var/data/MONAI_Choroid_Plexus/dataset_train_from_scratch_monai/1_ChP.nii.gz',\n",
       "  'label': '/var/data/MONAI_Choroid_Plexus/dataset_train_from_scratch_monai/labels/final/1_ChP.nii.gz'},\n",
       " {'fold': 2,\n",
       "  'image': '/var/data/MONAI_Choroid_Plexus/dataset_train_from_scratch_monai/20_ChP.nii.gz',\n",
       "  'label': '/var/data/MONAI_Choroid_Plexus/dataset_train_from_scratch_monai/labels/final/20_ChP.nii.gz'},\n",
       " {'fold': 2,\n",
       "  'image': '/var/data/MONAI_Choroid_Plexus/dataset_train_from_scratch_monai/21_ChP.nii.gz',\n",
       "  'label': '/var/data/MONAI_Choroid_Plexus/dataset_train_from_scratch_monai/labels/final/21_ChP.nii.gz'},\n",
       " {'fold': 2,\n",
       "  'image': '/var/data/MONAI_Choroid_Plexus/dataset_train_from_scratch_monai/22_ChP.nii.gz',\n",
       "  'label': '/var/data/MONAI_Choroid_Plexus/dataset_train_from_scratch_monai/labels/final/22_ChP.nii.gz'},\n",
       " {'fold': 3,\n",
       "  'image': '/var/data/MONAI_Choroid_Plexus/dataset_train_from_scratch_monai/23_ChP.nii.gz',\n",
       "  'label': '/var/data/MONAI_Choroid_Plexus/dataset_train_from_scratch_monai/labels/final/23_ChP.nii.gz'},\n",
       " {'fold': 3,\n",
       "  'image': '/var/data/MONAI_Choroid_Plexus/dataset_train_from_scratch_monai/24_ChP.nii.gz',\n",
       "  'label': '/var/data/MONAI_Choroid_Plexus/dataset_train_from_scratch_monai/labels/final/24_ChP.nii.gz'},\n",
       " {'fold': 3,\n",
       "  'image': '/var/data/MONAI_Choroid_Plexus/dataset_train_from_scratch_monai/25_ChP.nii.gz',\n",
       "  'label': '/var/data/MONAI_Choroid_Plexus/dataset_train_from_scratch_monai/labels/final/25_ChP.nii.gz'},\n",
       " {'fold': 3,\n",
       "  'image': '/var/data/MONAI_Choroid_Plexus/dataset_train_from_scratch_monai/26_ChP.nii.gz',\n",
       "  'label': '/var/data/MONAI_Choroid_Plexus/dataset_train_from_scratch_monai/labels/final/26_ChP.nii.gz'},\n",
       " {'fold': 3,\n",
       "  'image': '/var/data/MONAI_Choroid_Plexus/dataset_train_from_scratch_monai/28_ChP.nii.gz',\n",
       "  'label': '/var/data/MONAI_Choroid_Plexus/dataset_train_from_scratch_monai/labels/final/28_ChP.nii.gz'},\n",
       " {'fold': 4,\n",
       "  'image': '/var/data/MONAI_Choroid_Plexus/dataset_train_from_scratch_monai/29_ChP.nii.gz',\n",
       "  'label': '/var/data/MONAI_Choroid_Plexus/dataset_train_from_scratch_monai/labels/final/29_ChP.nii.gz'},\n",
       " {'fold': 4,\n",
       "  'image': '/var/data/MONAI_Choroid_Plexus/dataset_train_from_scratch_monai/2_ChP.nii.gz',\n",
       "  'label': '/var/data/MONAI_Choroid_Plexus/dataset_train_from_scratch_monai/labels/final/2_ChP.nii.gz'},\n",
       " {'fold': 4,\n",
       "  'image': '/var/data/MONAI_Choroid_Plexus/dataset_train_from_scratch_monai/3_ChP.nii.gz',\n",
       "  'label': '/var/data/MONAI_Choroid_Plexus/dataset_train_from_scratch_monai/labels/final/3_ChP.nii.gz'},\n",
       " {'fold': 4,\n",
       "  'image': '/var/data/MONAI_Choroid_Plexus/dataset_train_from_scratch_monai/4_ChP.nii.gz',\n",
       "  'label': '/var/data/MONAI_Choroid_Plexus/dataset_train_from_scratch_monai/labels/final/4_ChP.nii.gz'},\n",
       " {'fold': 4,\n",
       "  'image': '/var/data/MONAI_Choroid_Plexus/dataset_train_from_scratch_monai/5_ChP.nii.gz',\n",
       "  'label': '/var/data/MONAI_Choroid_Plexus/dataset_train_from_scratch_monai/labels/final/5_ChP.nii.gz'},\n",
       " {'fold': 0,\n",
       "  'image': '/var/data/MONAI_Choroid_Plexus/dataset_train_from_scratch_monai/6_ChP.nii.gz',\n",
       "  'label': '/var/data/MONAI_Choroid_Plexus/dataset_train_from_scratch_monai/labels/final/6_ChP.nii.gz'},\n",
       " {'fold': 0,\n",
       "  'image': '/var/data/MONAI_Choroid_Plexus/dataset_train_from_scratch_monai/7_ChP.nii.gz',\n",
       "  'label': '/var/data/MONAI_Choroid_Plexus/dataset_train_from_scratch_monai/labels/final/7_ChP.nii.gz'},\n",
       " {'fold': 0,\n",
       "  'image': '/var/data/MONAI_Choroid_Plexus/dataset_train_from_scratch_monai/8_ChP.nii.gz',\n",
       "  'label': '/var/data/MONAI_Choroid_Plexus/dataset_train_from_scratch_monai/labels/final/8_ChP.nii.gz'},\n",
       " {'fold': 0,\n",
       "  'image': '/var/data/MONAI_Choroid_Plexus/dataset_train_from_scratch_monai/9_ChP.nii.gz',\n",
       "  'label': '/var/data/MONAI_Choroid_Plexus/dataset_train_from_scratch_monai/labels/final/9_ChP.nii.gz'}]"
      ]
     },
     "execution_count": 4,
     "metadata": {},
     "output_type": "execute_result"
    }
   ],
   "source": [
    "train_files"
   ]
  },
  {
   "cell_type": "code",
   "execution_count": 13,
   "metadata": {},
   "outputs": [
    {
     "name": "stderr",
     "output_type": "stream",
     "text": [
      "Loading dataset: 100%|██████████| 29/29 [00:23<00:00,  1.25it/s]\n"
     ]
    },
    {
     "name": "stdout",
     "output_type": "stream",
     "text": [
      "torch.Size([8, 1, 180, 180, 180]) torch.Size([8, 1, 180, 180, 180])\n"
     ]
    },
    {
     "name": "stderr",
     "output_type": "stream",
     "text": [
      "Loading dataset: 100%|██████████| 6/6 [00:02<00:00,  2.22it/s]\n"
     ]
    }
   ],
   "source": [
    "# define transforms for image and segmentation\n",
    "\n",
    "train_transforms = Compose(\n",
    "    [\n",
    "        LoadImaged(keys=[\"image\", \"label\"]),\n",
    "        EnsureChannelFirstd(keys=[\"image\", \"label\"]),\n",
    "        ScaleIntensityd(keys=\"image\"),\n",
    "        RandCropByPosNegLabeld(keys=[\"image\", \"label\"], label_key=\"label\", spatial_size=[180, 180, 180], pos=1, neg=1, num_samples=4\n",
    "            ),\n",
    "        RandRotate90d(keys=[\"image\", \"label\"], prob=0.5, spatial_axes=[0, 2]),\n",
    "    ]\n",
    ")\n",
    "\n",
    "# define dataset, data loader\n",
    "check_ds = CacheDataset(data=train_files, transform=train_transforms)\n",
    "# use batch_size=2 to load images and use RandCropByPosNegLabeld to generate 2 x 4 images for network training\n",
    "check_loader = DataLoader(check_ds, batch_size=2, num_workers=4, collate_fn=list_data_collate)\n",
    "check_data = monai.utils.misc.first(check_loader) # Returns the first item in the given iterable or default if empty, meaningful mostly with ‘for’ expressions.\n",
    "print(check_data[\"image\"].shape, check_data[\"label\"].shape)\n",
    "\n",
    "train_dataset = CacheDataset(\n",
    "    data=train_files, transform=train_transforms, cache_num=6, cache_rate=1.0, num_workers=4)\n",
    "train_loader = DataLoader(train_dataset, batch_size=2, shuffle=True, num_workers=4, collate_fn=list_data_collate)\n",
    "\n"
   ]
  },
  {
   "cell_type": "code",
   "execution_count": 9,
   "metadata": {},
   "outputs": [
    {
     "data": {
      "text/plain": [
       "<monai.data.dataset.CacheDataset at 0x7f8c82ce3ee0>"
      ]
     },
     "execution_count": 9,
     "metadata": {},
     "output_type": "execute_result"
    }
   ],
   "source": [
    "train_dataset"
   ]
  },
  {
   "cell_type": "code",
   "execution_count": null,
   "metadata": {},
   "outputs": [],
   "source": [
    "python ASCHOPLEX/launching_tool.py --dataroot '/var/data/MONAI_Choroid_Plexus/dataset_aschoplex' --work_dir '/var/data/student_home/lia/ASCHOPLEX' --finetune 'yes' --prediction 'yes' "
   ]
  }
 ],
 "metadata": {
  "kernelspec": {
   "display_name": "base",
   "language": "python",
   "name": "python3"
  },
  "language_info": {
   "codemirror_mode": {
    "name": "ipython",
    "version": 3
   },
   "file_extension": ".py",
   "mimetype": "text/x-python",
   "name": "python",
   "nbconvert_exporter": "python",
   "pygments_lexer": "ipython3",
   "version": "3.10.6"
  }
 },
 "nbformat": 4,
 "nbformat_minor": 2
}
