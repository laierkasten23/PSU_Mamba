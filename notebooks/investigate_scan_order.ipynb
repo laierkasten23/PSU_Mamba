{
 "cells": [
  {
   "cell_type": "code",
   "execution_count": null,
   "metadata": {},
   "outputs": [],
   "source": [
    "import numpy as np\n",
    "import nibabel as nib\n"
   ]
  },
  {
   "cell_type": "code",
   "execution_count": 6,
   "metadata": {},
   "outputs": [
    {
     "name": "stdout",
     "output_type": "stream",
     "text": [
      "M [[[ 0  1  2]\n",
      "  [ 3  4  5]\n",
      "  [ 6  7  8]]\n",
      "\n",
      " [[ 9 10 11]\n",
      "  [12 13 14]\n",
      "  [15 16 17]]\n",
      "\n",
      " [[18 19 20]\n",
      "  [21 22 23]\n",
      "  [24 25 26]]]\n",
      "M_yzx [[[ 0  9 18]\n",
      "  [ 3 12 21]\n",
      "  [ 6 15 24]]\n",
      "\n",
      " [[ 1 10 19]\n",
      "  [ 4 13 22]\n",
      "  [ 7 16 25]]\n",
      "\n",
      " [[ 2 11 20]\n",
      "  [ 5 14 23]\n",
      "  [ 8 17 26]]]\n",
      "M_xzy [[[ 0  1  2]\n",
      "  [ 9 10 11]\n",
      "  [18 19 20]]\n",
      "\n",
      " [[ 3  4  6]\n",
      "  [12 13 14]\n",
      "  [21 22 23]]\n",
      "\n",
      " [[ 6  7  8]\n",
      "  [15 16 17]\n",
      "  [24 25 26]]]\n"
     ]
    }
   ],
   "source": [
    "M = np.arange(27).reshape((3, 3, 3))\n",
    "M_yzx = np.array([[[ 0,  9, 18],[ 3, 12, 21],[6, 15, 24]],\n",
    "                  [[ 1, 10, 19],[ 4, 13, 22],[ 7, 16, 25]],\n",
    "                  [[ 2, 11, 20],[ 5, 14, 23],[ 8, 17, 26]]])\n",
    "\n",
    "M_xzy = np.array([[[ 0,  1,  2],[ 9,  10,  11],[ 18,  19,  20]],\n",
    "                    [[ 3, 4, 6],[12, 13, 14],[21, 22, 23]],\n",
    "                    [[6, 7, 8],[15, 16, 17],[24, 25, 26]]])\n",
    "\n",
    "print(\"M\", M)\n",
    "print(\"M_yzx\", M_yzx)\n",
    "print(\"M_xzy\", M_xzy)\n"
   ]
  },
  {
   "cell_type": "code",
   "execution_count": 7,
   "metadata": {},
   "outputs": [
    {
     "name": "stdout",
     "output_type": "stream",
     "text": [
      "Original 3D matrix:\n",
      "[[[ 0  1  2]\n",
      "  [ 3  4  5]\n",
      "  [ 6  7  8]]\n",
      "\n",
      " [[ 9 10 11]\n",
      "  [12 13 14]\n",
      "  [15 16 17]]\n",
      "\n",
      " [[18 19 20]\n",
      "  [21 22 23]\n",
      "  [24 25 26]]]\n",
      "\n",
      "Transposed 3D matrix (axes 0 and 1 swapped):\n",
      "[[[ 0  1  2]\n",
      "  [ 9 10 11]\n",
      "  [18 19 20]]\n",
      "\n",
      " [[ 3  4  5]\n",
      "  [12 13 14]\n",
      "  [21 22 23]]\n",
      "\n",
      " [[ 6  7  8]\n",
      "  [15 16 17]\n",
      "  [24 25 26]]]\n",
      "\n",
      "Transposed 3D matrix (axes 0 and 2 swapped):\n",
      "[[[ 0  9 18]\n",
      "  [ 3 12 21]\n",
      "  [ 6 15 24]]\n",
      "\n",
      " [[ 1 10 19]\n",
      "  [ 4 13 22]\n",
      "  [ 7 16 25]]\n",
      "\n",
      " [[ 2 11 20]\n",
      "  [ 5 14 23]\n",
      "  [ 8 17 26]]]\n"
     ]
    }
   ],
   "source": [
    "print(\"Original 3D matrix:\")\n",
    "print(M)\n",
    "\n",
    "# Step 2: Transpose the axes\n",
    "# M_xzy (not exactly what we want )\n",
    "transposed_matrix = np.transpose(M, (1, 0, 2))\n",
    "print(\"\\nTransposed 3D matrix (axes 0 and 1 swapped):\")\n",
    "print(transposed_matrix)\n",
    "\n",
    "# Transpose axes to change scan order in z-direction \n",
    "# THIS IS WHAT WE WANT (but need to check how volume is placed in the beginning)\n",
    "# M_yzx\n",
    "transposed_matrix_2 = np.transpose(M, (2, 1, 0))\n",
    "print(\"\\nTransposed 3D matrix (axes 0 and 2 swapped):\")\n",
    "print(transposed_matrix_2)"
   ]
  },
  {
   "cell_type": "code",
   "execution_count": 10,
   "metadata": {},
   "outputs": [
    {
     "data": {
      "text/plain": [
       "(array([[0, 1, 2],\n",
       "        [3, 4, 5],\n",
       "        [6, 7, 8]]),\n",
       " array([[ 0,  9, 18],\n",
       "        [ 3, 12, 21],\n",
       "        [ 6, 15, 24]]),\n",
       " array([[ 0,  1,  2],\n",
       "        [ 9, 10, 11],\n",
       "        [18, 19, 20]]))"
      ]
     },
     "execution_count": 10,
     "metadata": {},
     "output_type": "execute_result"
    }
   ],
   "source": [
    "# Correct slicing: extracting xy-plane from the 3D matrix\n",
    "M[0, :, :], M_yzx[0, :, :], M_xzy[0, :, :]"
   ]
  },
  {
   "cell_type": "code",
   "execution_count": 11,
   "metadata": {},
   "outputs": [
    {
     "data": {
      "text/plain": [
       "(array([[ 0,  1,  2],\n",
       "        [ 9, 10, 11],\n",
       "        [18, 19, 20]]),\n",
       " array([[ 0,  9, 18],\n",
       "        [ 1, 10, 19],\n",
       "        [ 2, 11, 20]]),\n",
       " array([[0, 1, 2],\n",
       "        [3, 4, 6],\n",
       "        [6, 7, 8]]))"
      ]
     },
     "execution_count": 11,
     "metadata": {},
     "output_type": "execute_result"
    }
   ],
   "source": [
    "# Extracting xz-plane from the 3D matrix\n",
    "M[:, 0, :], M_yzx[:, 0, :], M_xzy[:, 0, :]"
   ]
  },
  {
   "cell_type": "code",
   "execution_count": null,
   "metadata": {},
   "outputs": [],
   "source": []
  },
  {
   "cell_type": "code",
   "execution_count": null,
   "metadata": {},
   "outputs": [],
   "source": []
  }
 ],
 "metadata": {
  "kernelspec": {
   "display_name": "monai13",
   "language": "python",
   "name": "python3"
  },
  "language_info": {
   "codemirror_mode": {
    "name": "ipython",
    "version": 3
   },
   "file_extension": ".py",
   "mimetype": "text/x-python",
   "name": "python",
   "nbconvert_exporter": "python",
   "pygments_lexer": "ipython3",
   "version": "3.10.15"
  }
 },
 "nbformat": 4,
 "nbformat_minor": 2
}
